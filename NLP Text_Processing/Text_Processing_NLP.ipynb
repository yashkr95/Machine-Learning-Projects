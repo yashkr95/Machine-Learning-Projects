{
  "nbformat": 4,
  "nbformat_minor": 0,
  "metadata": {
    "colab": {
      "name": "Text_Processing_NLP.ipynb",
      "provenance": [],
      "collapsed_sections": []
    },
    "kernelspec": {
      "name": "python3",
      "display_name": "Python 3"
    },
    "language_info": {
      "name": "python"
    }
  },
  "cells": [
    {
      "cell_type": "markdown",
      "source": [
        "# **TEXT PROCESSING**"
      ],
      "metadata": {
        "id": "sf6nAm7XtW94"
      }
    },
    {
      "cell_type": "code",
      "execution_count": null,
      "metadata": {
        "colab": {
          "base_uri": "https://localhost:8080/"
        },
        "id": "q8yf1_JNqawB",
        "outputId": "98aa6718-1bd6-46b2-d6b6-983d27f7d455"
      },
      "outputs": [
        {
          "output_type": "stream",
          "name": "stdout",
          "text": [
            "Mounted at /content/drive/\n"
          ]
        }
      ],
      "source": [
        "from google.colab import drive\n",
        "drive.mount('/content/drive/')"
      ]
    },
    {
      "cell_type": "code",
      "source": [
        "import pandas as pd\n",
        "import numpy as np"
      ],
      "metadata": {
        "id": "n5KhsS6Tsdca"
      },
      "execution_count": null,
      "outputs": []
    },
    {
      "cell_type": "code",
      "source": [
        "import spacy\n",
        "from spacy.lang.en.stop_words import STOP_WORDS"
      ],
      "metadata": {
        "id": "8YyXMUBrsiC1"
      },
      "execution_count": null,
      "outputs": []
    },
    {
      "cell_type": "code",
      "source": [
        "df = pd.read_csv('/content/drive/MyDrive/DataSets/NLP/twitter16m.csv', encoding = 'latin1', header = None)"
      ],
      "metadata": {
        "id": "JcoS9H1Fs2rF"
      },
      "execution_count": null,
      "outputs": []
    },
    {
      "cell_type": "code",
      "source": [
        "df.head()"
      ],
      "metadata": {
        "colab": {
          "base_uri": "https://localhost:8080/",
          "height": 206
        },
        "id": "HQPOYwK2t9q0",
        "outputId": "6d7a7666-f221-4333-dea1-b401d9f437fe"
      },
      "execution_count": null,
      "outputs": [
        {
          "output_type": "execute_result",
          "data": {
            "text/html": [
              "<div>\n",
              "<style scoped>\n",
              "    .dataframe tbody tr th:only-of-type {\n",
              "        vertical-align: middle;\n",
              "    }\n",
              "\n",
              "    .dataframe tbody tr th {\n",
              "        vertical-align: top;\n",
              "    }\n",
              "\n",
              "    .dataframe thead th {\n",
              "        text-align: right;\n",
              "    }\n",
              "</style>\n",
              "<table border=\"1\" class=\"dataframe\">\n",
              "  <thead>\n",
              "    <tr style=\"text-align: right;\">\n",
              "      <th></th>\n",
              "      <th>0</th>\n",
              "      <th>1</th>\n",
              "      <th>2</th>\n",
              "      <th>3</th>\n",
              "      <th>4</th>\n",
              "      <th>5</th>\n",
              "    </tr>\n",
              "  </thead>\n",
              "  <tbody>\n",
              "    <tr>\n",
              "      <th>0</th>\n",
              "      <td>0</td>\n",
              "      <td>1467810369</td>\n",
              "      <td>Mon Apr 06 22:19:45 PDT 2009</td>\n",
              "      <td>NO_QUERY</td>\n",
              "      <td>_TheSpecialOne_</td>\n",
              "      <td>@switchfoot http://twitpic.com/2y1zl - Awww, t...</td>\n",
              "    </tr>\n",
              "    <tr>\n",
              "      <th>1</th>\n",
              "      <td>0</td>\n",
              "      <td>1467810672</td>\n",
              "      <td>Mon Apr 06 22:19:49 PDT 2009</td>\n",
              "      <td>NO_QUERY</td>\n",
              "      <td>scotthamilton</td>\n",
              "      <td>is upset that he can't update his Facebook by ...</td>\n",
              "    </tr>\n",
              "    <tr>\n",
              "      <th>2</th>\n",
              "      <td>0</td>\n",
              "      <td>1467810917</td>\n",
              "      <td>Mon Apr 06 22:19:53 PDT 2009</td>\n",
              "      <td>NO_QUERY</td>\n",
              "      <td>mattycus</td>\n",
              "      <td>@Kenichan I dived many times for the ball. Man...</td>\n",
              "    </tr>\n",
              "    <tr>\n",
              "      <th>3</th>\n",
              "      <td>0</td>\n",
              "      <td>1467811184</td>\n",
              "      <td>Mon Apr 06 22:19:57 PDT 2009</td>\n",
              "      <td>NO_QUERY</td>\n",
              "      <td>ElleCTF</td>\n",
              "      <td>my whole body feels itchy and like its on fire</td>\n",
              "    </tr>\n",
              "    <tr>\n",
              "      <th>4</th>\n",
              "      <td>0</td>\n",
              "      <td>1467811193</td>\n",
              "      <td>Mon Apr 06 22:19:57 PDT 2009</td>\n",
              "      <td>NO_QUERY</td>\n",
              "      <td>Karoli</td>\n",
              "      <td>@nationwideclass no, it's not behaving at all....</td>\n",
              "    </tr>\n",
              "  </tbody>\n",
              "</table>\n",
              "</div>"
            ],
            "text/plain": [
              "   0  ...                                                  5\n",
              "0  0  ...  @switchfoot http://twitpic.com/2y1zl - Awww, t...\n",
              "1  0  ...  is upset that he can't update his Facebook by ...\n",
              "2  0  ...  @Kenichan I dived many times for the ball. Man...\n",
              "3  0  ...    my whole body feels itchy and like its on fire \n",
              "4  0  ...  @nationwideclass no, it's not behaving at all....\n",
              "\n",
              "[5 rows x 6 columns]"
            ]
          },
          "metadata": {},
          "execution_count": 5
        }
      ]
    },
    {
      "cell_type": "code",
      "source": [
        "df = df[[5, 0]]"
      ],
      "metadata": {
        "id": "c8f29MzgvdlZ"
      },
      "execution_count": null,
      "outputs": []
    },
    {
      "cell_type": "code",
      "source": [
        "df.columns = ['twitts', 'sentiment']\n",
        "df.head()"
      ],
      "metadata": {
        "colab": {
          "base_uri": "https://localhost:8080/",
          "height": 206
        },
        "id": "kyExQHCvwFJi",
        "outputId": "350cda6c-cab5-4c5d-d329-535aac69b559"
      },
      "execution_count": null,
      "outputs": [
        {
          "output_type": "execute_result",
          "data": {
            "text/html": [
              "<div>\n",
              "<style scoped>\n",
              "    .dataframe tbody tr th:only-of-type {\n",
              "        vertical-align: middle;\n",
              "    }\n",
              "\n",
              "    .dataframe tbody tr th {\n",
              "        vertical-align: top;\n",
              "    }\n",
              "\n",
              "    .dataframe thead th {\n",
              "        text-align: right;\n",
              "    }\n",
              "</style>\n",
              "<table border=\"1\" class=\"dataframe\">\n",
              "  <thead>\n",
              "    <tr style=\"text-align: right;\">\n",
              "      <th></th>\n",
              "      <th>twitts</th>\n",
              "      <th>sentiment</th>\n",
              "    </tr>\n",
              "  </thead>\n",
              "  <tbody>\n",
              "    <tr>\n",
              "      <th>0</th>\n",
              "      <td>@switchfoot http://twitpic.com/2y1zl - Awww, t...</td>\n",
              "      <td>0</td>\n",
              "    </tr>\n",
              "    <tr>\n",
              "      <th>1</th>\n",
              "      <td>is upset that he can't update his Facebook by ...</td>\n",
              "      <td>0</td>\n",
              "    </tr>\n",
              "    <tr>\n",
              "      <th>2</th>\n",
              "      <td>@Kenichan I dived many times for the ball. Man...</td>\n",
              "      <td>0</td>\n",
              "    </tr>\n",
              "    <tr>\n",
              "      <th>3</th>\n",
              "      <td>my whole body feels itchy and like its on fire</td>\n",
              "      <td>0</td>\n",
              "    </tr>\n",
              "    <tr>\n",
              "      <th>4</th>\n",
              "      <td>@nationwideclass no, it's not behaving at all....</td>\n",
              "      <td>0</td>\n",
              "    </tr>\n",
              "  </tbody>\n",
              "</table>\n",
              "</div>"
            ],
            "text/plain": [
              "                                              twitts  sentiment\n",
              "0  @switchfoot http://twitpic.com/2y1zl - Awww, t...          0\n",
              "1  is upset that he can't update his Facebook by ...          0\n",
              "2  @Kenichan I dived many times for the ball. Man...          0\n",
              "3    my whole body feels itchy and like its on fire           0\n",
              "4  @nationwideclass no, it's not behaving at all....          0"
            ]
          },
          "metadata": {},
          "execution_count": 7
        }
      ]
    },
    {
      "cell_type": "code",
      "source": [
        "df['sentiment'].value_counts()"
      ],
      "metadata": {
        "colab": {
          "base_uri": "https://localhost:8080/"
        },
        "id": "fUo3N_1AxbGH",
        "outputId": "4546b5ee-f6ae-4380-92ca-14c2cbf76b4f"
      },
      "execution_count": null,
      "outputs": [
        {
          "output_type": "execute_result",
          "data": {
            "text/plain": [
              "4    800000\n",
              "0    800000\n",
              "Name: sentiment, dtype: int64"
            ]
          },
          "metadata": {},
          "execution_count": 8
        }
      ]
    },
    {
      "cell_type": "code",
      "source": [
        "sent_map = {0:'negative', 4:'positive'}"
      ],
      "metadata": {
        "id": "4VvcFLdpxxut"
      },
      "execution_count": null,
      "outputs": []
    },
    {
      "cell_type": "markdown",
      "source": [
        "###**Word Counts**"
      ],
      "metadata": {
        "id": "dQWAorEdx--Q"
      }
    },
    {
      "cell_type": "code",
      "source": [
        "df['word_counts'] = df['twitts'].apply(lambda x : len(str(x).split()))"
      ],
      "metadata": {
        "id": "ZZVa6uQ3yCEd"
      },
      "execution_count": null,
      "outputs": []
    },
    {
      "cell_type": "code",
      "source": [
        "df.head()"
      ],
      "metadata": {
        "colab": {
          "base_uri": "https://localhost:8080/",
          "height": 206
        },
        "id": "2OEHsQ5Iy-XE",
        "outputId": "387754b9-d876-4335-b761-2ff67b9e6eb2"
      },
      "execution_count": null,
      "outputs": [
        {
          "output_type": "execute_result",
          "data": {
            "text/html": [
              "<div>\n",
              "<style scoped>\n",
              "    .dataframe tbody tr th:only-of-type {\n",
              "        vertical-align: middle;\n",
              "    }\n",
              "\n",
              "    .dataframe tbody tr th {\n",
              "        vertical-align: top;\n",
              "    }\n",
              "\n",
              "    .dataframe thead th {\n",
              "        text-align: right;\n",
              "    }\n",
              "</style>\n",
              "<table border=\"1\" class=\"dataframe\">\n",
              "  <thead>\n",
              "    <tr style=\"text-align: right;\">\n",
              "      <th></th>\n",
              "      <th>twitts</th>\n",
              "      <th>sentiment</th>\n",
              "      <th>word_counts</th>\n",
              "    </tr>\n",
              "  </thead>\n",
              "  <tbody>\n",
              "    <tr>\n",
              "      <th>0</th>\n",
              "      <td>@switchfoot http://twitpic.com/2y1zl - Awww, t...</td>\n",
              "      <td>0</td>\n",
              "      <td>19</td>\n",
              "    </tr>\n",
              "    <tr>\n",
              "      <th>1</th>\n",
              "      <td>is upset that he can't update his Facebook by ...</td>\n",
              "      <td>0</td>\n",
              "      <td>21</td>\n",
              "    </tr>\n",
              "    <tr>\n",
              "      <th>2</th>\n",
              "      <td>@Kenichan I dived many times for the ball. Man...</td>\n",
              "      <td>0</td>\n",
              "      <td>18</td>\n",
              "    </tr>\n",
              "    <tr>\n",
              "      <th>3</th>\n",
              "      <td>my whole body feels itchy and like its on fire</td>\n",
              "      <td>0</td>\n",
              "      <td>10</td>\n",
              "    </tr>\n",
              "    <tr>\n",
              "      <th>4</th>\n",
              "      <td>@nationwideclass no, it's not behaving at all....</td>\n",
              "      <td>0</td>\n",
              "      <td>21</td>\n",
              "    </tr>\n",
              "  </tbody>\n",
              "</table>\n",
              "</div>"
            ],
            "text/plain": [
              "                                              twitts  sentiment  word_counts\n",
              "0  @switchfoot http://twitpic.com/2y1zl - Awww, t...          0           19\n",
              "1  is upset that he can't update his Facebook by ...          0           21\n",
              "2  @Kenichan I dived many times for the ball. Man...          0           18\n",
              "3    my whole body feels itchy and like its on fire           0           10\n",
              "4  @nationwideclass no, it's not behaving at all....          0           21"
            ]
          },
          "metadata": {},
          "execution_count": 11
        }
      ]
    },
    {
      "cell_type": "markdown",
      "source": [
        "### **Character Counts**"
      ],
      "metadata": {
        "id": "TUjZrx8nzQJz"
      }
    },
    {
      "cell_type": "code",
      "source": [
        "df['char_counts'] = df['twitts'].apply(lambda x : len(x))"
      ],
      "metadata": {
        "id": "j3MHgU--zT8R"
      },
      "execution_count": null,
      "outputs": []
    },
    {
      "cell_type": "code",
      "source": [
        "df.head()"
      ],
      "metadata": {
        "colab": {
          "base_uri": "https://localhost:8080/",
          "height": 206
        },
        "id": "CVEztD-azznI",
        "outputId": "4838c3ae-9b9a-4c40-83a7-eb5343213aa2"
      },
      "execution_count": null,
      "outputs": [
        {
          "output_type": "execute_result",
          "data": {
            "text/html": [
              "<div>\n",
              "<style scoped>\n",
              "    .dataframe tbody tr th:only-of-type {\n",
              "        vertical-align: middle;\n",
              "    }\n",
              "\n",
              "    .dataframe tbody tr th {\n",
              "        vertical-align: top;\n",
              "    }\n",
              "\n",
              "    .dataframe thead th {\n",
              "        text-align: right;\n",
              "    }\n",
              "</style>\n",
              "<table border=\"1\" class=\"dataframe\">\n",
              "  <thead>\n",
              "    <tr style=\"text-align: right;\">\n",
              "      <th></th>\n",
              "      <th>twitts</th>\n",
              "      <th>sentiment</th>\n",
              "      <th>word_counts</th>\n",
              "      <th>char_counts</th>\n",
              "    </tr>\n",
              "  </thead>\n",
              "  <tbody>\n",
              "    <tr>\n",
              "      <th>0</th>\n",
              "      <td>@switchfoot http://twitpic.com/2y1zl - Awww, t...</td>\n",
              "      <td>0</td>\n",
              "      <td>19</td>\n",
              "      <td>115</td>\n",
              "    </tr>\n",
              "    <tr>\n",
              "      <th>1</th>\n",
              "      <td>is upset that he can't update his Facebook by ...</td>\n",
              "      <td>0</td>\n",
              "      <td>21</td>\n",
              "      <td>111</td>\n",
              "    </tr>\n",
              "    <tr>\n",
              "      <th>2</th>\n",
              "      <td>@Kenichan I dived many times for the ball. Man...</td>\n",
              "      <td>0</td>\n",
              "      <td>18</td>\n",
              "      <td>89</td>\n",
              "    </tr>\n",
              "    <tr>\n",
              "      <th>3</th>\n",
              "      <td>my whole body feels itchy and like its on fire</td>\n",
              "      <td>0</td>\n",
              "      <td>10</td>\n",
              "      <td>47</td>\n",
              "    </tr>\n",
              "    <tr>\n",
              "      <th>4</th>\n",
              "      <td>@nationwideclass no, it's not behaving at all....</td>\n",
              "      <td>0</td>\n",
              "      <td>21</td>\n",
              "      <td>111</td>\n",
              "    </tr>\n",
              "  </tbody>\n",
              "</table>\n",
              "</div>"
            ],
            "text/plain": [
              "                                              twitts  ...  char_counts\n",
              "0  @switchfoot http://twitpic.com/2y1zl - Awww, t...  ...          115\n",
              "1  is upset that he can't update his Facebook by ...  ...          111\n",
              "2  @Kenichan I dived many times for the ball. Man...  ...           89\n",
              "3    my whole body feels itchy and like its on fire   ...           47\n",
              "4  @nationwideclass no, it's not behaving at all....  ...          111\n",
              "\n",
              "[5 rows x 4 columns]"
            ]
          },
          "metadata": {},
          "execution_count": 13
        }
      ]
    },
    {
      "cell_type": "markdown",
      "source": [
        "### **Average Word Length**"
      ],
      "metadata": {
        "id": "duQtlUW20CSD"
      }
    },
    {
      "cell_type": "code",
      "source": [
        "def get_avg_word_len(x):\n",
        "  words = x.split()\n",
        "  word_len = 0\n",
        "  for word in words:\n",
        "    word_len = word_len  + len(word)\n",
        "  return word_len/len(words) "
      ],
      "metadata": {
        "id": "BZEdWCRl0f9H"
      },
      "execution_count": null,
      "outputs": []
    },
    {
      "cell_type": "code",
      "source": [
        "df['avg_word_len'] = df['twitts'].apply(lambda x : get_avg_word_len(x))"
      ],
      "metadata": {
        "id": "hdfhaD8I0GP5"
      },
      "execution_count": null,
      "outputs": []
    },
    {
      "cell_type": "code",
      "source": [
        "df.head()"
      ],
      "metadata": {
        "colab": {
          "base_uri": "https://localhost:8080/",
          "height": 206
        },
        "id": "0rQhCAgl2C9z",
        "outputId": "27161b71-7dfb-43cb-f42b-3d3b6b1be64c"
      },
      "execution_count": null,
      "outputs": [
        {
          "output_type": "execute_result",
          "data": {
            "text/html": [
              "<div>\n",
              "<style scoped>\n",
              "    .dataframe tbody tr th:only-of-type {\n",
              "        vertical-align: middle;\n",
              "    }\n",
              "\n",
              "    .dataframe tbody tr th {\n",
              "        vertical-align: top;\n",
              "    }\n",
              "\n",
              "    .dataframe thead th {\n",
              "        text-align: right;\n",
              "    }\n",
              "</style>\n",
              "<table border=\"1\" class=\"dataframe\">\n",
              "  <thead>\n",
              "    <tr style=\"text-align: right;\">\n",
              "      <th></th>\n",
              "      <th>twitts</th>\n",
              "      <th>sentiment</th>\n",
              "      <th>word_counts</th>\n",
              "      <th>char_counts</th>\n",
              "      <th>avg_word_len</th>\n",
              "    </tr>\n",
              "  </thead>\n",
              "  <tbody>\n",
              "    <tr>\n",
              "      <th>0</th>\n",
              "      <td>@switchfoot http://twitpic.com/2y1zl - Awww, t...</td>\n",
              "      <td>0</td>\n",
              "      <td>19</td>\n",
              "      <td>115</td>\n",
              "      <td>5.052632</td>\n",
              "    </tr>\n",
              "    <tr>\n",
              "      <th>1</th>\n",
              "      <td>is upset that he can't update his Facebook by ...</td>\n",
              "      <td>0</td>\n",
              "      <td>21</td>\n",
              "      <td>111</td>\n",
              "      <td>4.285714</td>\n",
              "    </tr>\n",
              "    <tr>\n",
              "      <th>2</th>\n",
              "      <td>@Kenichan I dived many times for the ball. Man...</td>\n",
              "      <td>0</td>\n",
              "      <td>18</td>\n",
              "      <td>89</td>\n",
              "      <td>3.944444</td>\n",
              "    </tr>\n",
              "    <tr>\n",
              "      <th>3</th>\n",
              "      <td>my whole body feels itchy and like its on fire</td>\n",
              "      <td>0</td>\n",
              "      <td>10</td>\n",
              "      <td>47</td>\n",
              "      <td>3.700000</td>\n",
              "    </tr>\n",
              "    <tr>\n",
              "      <th>4</th>\n",
              "      <td>@nationwideclass no, it's not behaving at all....</td>\n",
              "      <td>0</td>\n",
              "      <td>21</td>\n",
              "      <td>111</td>\n",
              "      <td>4.285714</td>\n",
              "    </tr>\n",
              "  </tbody>\n",
              "</table>\n",
              "</div>"
            ],
            "text/plain": [
              "                                              twitts  ...  avg_word_len\n",
              "0  @switchfoot http://twitpic.com/2y1zl - Awww, t...  ...      5.052632\n",
              "1  is upset that he can't update his Facebook by ...  ...      4.285714\n",
              "2  @Kenichan I dived many times for the ball. Man...  ...      3.944444\n",
              "3    my whole body feels itchy and like its on fire   ...      3.700000\n",
              "4  @nationwideclass no, it's not behaving at all....  ...      4.285714\n",
              "\n",
              "[5 rows x 5 columns]"
            ]
          },
          "metadata": {},
          "execution_count": 16
        }
      ]
    },
    {
      "cell_type": "markdown",
      "source": [
        "### **Stop Words Count**"
      ],
      "metadata": {
        "id": "3FNDRyXO2oYa"
      }
    },
    {
      "cell_type": "code",
      "source": [
        "print(STOP_WORDS)"
      ],
      "metadata": {
        "colab": {
          "base_uri": "https://localhost:8080/"
        },
        "id": "u4XKue5J227f",
        "outputId": "9d559dc5-5c1c-4ad1-86e5-9a639330afcb"
      },
      "execution_count": null,
      "outputs": [
        {
          "output_type": "stream",
          "name": "stdout",
          "text": [
            "{'than', 'becoming', 'upon', 'therein', 'was', 'n’t', 'least', 'against', 'during', 'seem', 'off', 'amount', 'will', 'may', 'herself', 'former', \"'s\", 'i', 'wherever', 'even', 'also', 'somehow', 'at', 'empty', 'whither', 'might', 'really', 'move', 'about', 'as', 'keep', 'indeed', 'too', 'whereupon', 'until', 'hence', 'not', '‘d', 'via', 'them', 'yourselves', 'rather', 'done', 'however', 'front', 'below', 'ourselves', 'along', 'well', 'one', 'thereby', 'the', 'this', 'without', 'most', 'thence', 'behind', 'full', 'on', 'formerly', 'sometimes', 'myself', 'none', 'anyway', 'say', 'anyone', 'these', 'if', 'under', 'several', 'though', 'nor', 'call', 'twenty', 'already', 'throughout', 'our', 'by', 'last', 'all', 'him', 'itself', 'they', '’m', 'anywhere', 'name', '‘re', 'those', 'thereafter', 'further', 'some', 'and', 'among', 'are', 'just', 'in', 'their', 'namely', 'whom', 'but', 'serious', 'get', 'hereby', 'besides', 'when', 'what', 'above', 'quite', 'various', 'being', 'of', 'back', 'ours', \"'d\", 'go', 'again', 'down', 'which', 'did', 'been', 'show', 'very', 'out', 'whose', 'whoever', 'amongst', 'should', 'beside', 'somewhere', 'sixty', 'thru', 'becomes', 'someone', 'less', 'whatever', 'see', 'such', 'therefore', \"'ve\", 'his', 'hundred', 'enough', 'nothing', 'either', 'otherwise', 'he', '’d', 'an', 'ever', 'next', 'to', 'four', 'before', 'per', 'unless', 'sometime', 'yourself', 'thus', 'because', 'give', 'neither', 'third', 'could', 'three', 'six', 'my', 'now', 'still', 'seems', 'can', 'through', '’ll', 'something', \"'m\", 'fifty', 'must', 'always', 'together', 'whether', 'put', 'does', 'nowhere', '‘s', 'over', 'eight', 'you', 'ten', 'across', 'with', 'would', 'top', 'more', 'hers', 'who', 'its', 'n‘t', 'everyone', 'other', 'towards', 'seemed', 'she', 'wherein', 'hereupon', 'your', 'another', 'up', 'hereafter', 'much', 'afterwards', 'bottom', 'am', 'others', 'due', 'first', '‘ve', 'latter', 'since', 'only', 'around', 'between', 'beyond', 'latterly', 'using', 'anything', 'five', 'seeming', 'for', 'here', 'else', 'each', \"'ll\", 'so', 'toward', 'me', 'have', '‘m', 'themselves', 'both', 'many', 'once', 'regarding', 'we', 'every', 'side', 'whole', \"n't\", 'from', 'onto', 'thereupon', 'although', 'were', 'has', 'her', 'or', 'elsewhere', 'that', 'almost', '‘ll', 'whereby', 'make', 'eleven', 'be', 'yet', 'beforehand', 'while', 'nevertheless', 'please', 'made', 'ca', 'become', 'do', 'why', 'never', 'after', 'noone', 'own', 'same', 'nobody', 'cannot', '’ve', 'fifteen', 'whereafter', 'any', 'nine', 'no', 'whereas', 'where', 'anyhow', 'whence', 'doing', 'mostly', 'moreover', 'had', 'into', 'everything', 'alone', 'then', 'part', 'used', '’s', 'there', 'mine', 'take', 'yours', 'few', 'meanwhile', 'often', 'everywhere', 'is', 'it', 'a', 're', 'herein', \"'re\", 'became', 'himself', 'how', 'whenever', 'twelve', 'forty', 'perhaps', '’re', 'two', 'us', 'except', 'within'}\n"
          ]
        }
      ]
    },
    {
      "cell_type": "code",
      "source": [
        "# Calculating number of stop word in each row\n",
        "df['stop_words_len'] = df['twitts'].apply(lambda x : len([t for t in x.split() if t in STOP_WORDS]))"
      ],
      "metadata": {
        "id": "6cpFexVa3W_K"
      },
      "execution_count": null,
      "outputs": []
    },
    {
      "cell_type": "code",
      "source": [
        "df.head()"
      ],
      "metadata": {
        "colab": {
          "base_uri": "https://localhost:8080/",
          "height": 206
        },
        "id": "El61iuc340_O",
        "outputId": "23f4117e-9874-4528-af91-a2f8220f76ba"
      },
      "execution_count": null,
      "outputs": [
        {
          "output_type": "execute_result",
          "data": {
            "text/html": [
              "<div>\n",
              "<style scoped>\n",
              "    .dataframe tbody tr th:only-of-type {\n",
              "        vertical-align: middle;\n",
              "    }\n",
              "\n",
              "    .dataframe tbody tr th {\n",
              "        vertical-align: top;\n",
              "    }\n",
              "\n",
              "    .dataframe thead th {\n",
              "        text-align: right;\n",
              "    }\n",
              "</style>\n",
              "<table border=\"1\" class=\"dataframe\">\n",
              "  <thead>\n",
              "    <tr style=\"text-align: right;\">\n",
              "      <th></th>\n",
              "      <th>twitts</th>\n",
              "      <th>sentiment</th>\n",
              "      <th>word_counts</th>\n",
              "      <th>char_counts</th>\n",
              "      <th>avg_word_len</th>\n",
              "      <th>stop_words_len</th>\n",
              "    </tr>\n",
              "  </thead>\n",
              "  <tbody>\n",
              "    <tr>\n",
              "      <th>0</th>\n",
              "      <td>@switchfoot http://twitpic.com/2y1zl - Awww, t...</td>\n",
              "      <td>0</td>\n",
              "      <td>19</td>\n",
              "      <td>115</td>\n",
              "      <td>5.052632</td>\n",
              "      <td>4</td>\n",
              "    </tr>\n",
              "    <tr>\n",
              "      <th>1</th>\n",
              "      <td>is upset that he can't update his Facebook by ...</td>\n",
              "      <td>0</td>\n",
              "      <td>21</td>\n",
              "      <td>111</td>\n",
              "      <td>4.285714</td>\n",
              "      <td>9</td>\n",
              "    </tr>\n",
              "    <tr>\n",
              "      <th>2</th>\n",
              "      <td>@Kenichan I dived many times for the ball. Man...</td>\n",
              "      <td>0</td>\n",
              "      <td>18</td>\n",
              "      <td>89</td>\n",
              "      <td>3.944444</td>\n",
              "      <td>7</td>\n",
              "    </tr>\n",
              "    <tr>\n",
              "      <th>3</th>\n",
              "      <td>my whole body feels itchy and like its on fire</td>\n",
              "      <td>0</td>\n",
              "      <td>10</td>\n",
              "      <td>47</td>\n",
              "      <td>3.700000</td>\n",
              "      <td>5</td>\n",
              "    </tr>\n",
              "    <tr>\n",
              "      <th>4</th>\n",
              "      <td>@nationwideclass no, it's not behaving at all....</td>\n",
              "      <td>0</td>\n",
              "      <td>21</td>\n",
              "      <td>111</td>\n",
              "      <td>4.285714</td>\n",
              "      <td>10</td>\n",
              "    </tr>\n",
              "  </tbody>\n",
              "</table>\n",
              "</div>"
            ],
            "text/plain": [
              "                                              twitts  ...  stop_words_len\n",
              "0  @switchfoot http://twitpic.com/2y1zl - Awww, t...  ...               4\n",
              "1  is upset that he can't update his Facebook by ...  ...               9\n",
              "2  @Kenichan I dived many times for the ball. Man...  ...               7\n",
              "3    my whole body feels itchy and like its on fire   ...               5\n",
              "4  @nationwideclass no, it's not behaving at all....  ...              10\n",
              "\n",
              "[5 rows x 6 columns]"
            ]
          },
          "metadata": {},
          "execution_count": 19
        }
      ]
    },
    {
      "cell_type": "markdown",
      "source": [
        "### **Count #HashTags and @Mentions**"
      ],
      "metadata": {
        "id": "pthepeYD5Drl"
      }
    },
    {
      "cell_type": "code",
      "source": [
        "df['hashtags_count'] = df['twitts'].apply(lambda x : len([t for t in x.split() if t.startswith('#')]))\n",
        "df['mentions_count'] = df['twitts'].apply(lambda x : len([t for t in x.split() if t.startswith('@')]))"
      ],
      "metadata": {
        "id": "yw-TleBc5Qfh"
      },
      "execution_count": null,
      "outputs": []
    },
    {
      "cell_type": "code",
      "source": [
        "df.head()"
      ],
      "metadata": {
        "colab": {
          "base_uri": "https://localhost:8080/",
          "height": 206
        },
        "id": "ExriV-g46dZz",
        "outputId": "fd35c064-9138-4d75-8a70-2fb391a46058"
      },
      "execution_count": null,
      "outputs": [
        {
          "output_type": "execute_result",
          "data": {
            "text/html": [
              "<div>\n",
              "<style scoped>\n",
              "    .dataframe tbody tr th:only-of-type {\n",
              "        vertical-align: middle;\n",
              "    }\n",
              "\n",
              "    .dataframe tbody tr th {\n",
              "        vertical-align: top;\n",
              "    }\n",
              "\n",
              "    .dataframe thead th {\n",
              "        text-align: right;\n",
              "    }\n",
              "</style>\n",
              "<table border=\"1\" class=\"dataframe\">\n",
              "  <thead>\n",
              "    <tr style=\"text-align: right;\">\n",
              "      <th></th>\n",
              "      <th>twitts</th>\n",
              "      <th>sentiment</th>\n",
              "      <th>word_counts</th>\n",
              "      <th>char_counts</th>\n",
              "      <th>avg_word_len</th>\n",
              "      <th>stop_words_len</th>\n",
              "      <th>hashtags_count</th>\n",
              "      <th>mentions_count</th>\n",
              "    </tr>\n",
              "  </thead>\n",
              "  <tbody>\n",
              "    <tr>\n",
              "      <th>0</th>\n",
              "      <td>@switchfoot http://twitpic.com/2y1zl - Awww, t...</td>\n",
              "      <td>0</td>\n",
              "      <td>19</td>\n",
              "      <td>115</td>\n",
              "      <td>5.052632</td>\n",
              "      <td>4</td>\n",
              "      <td>0</td>\n",
              "      <td>1</td>\n",
              "    </tr>\n",
              "    <tr>\n",
              "      <th>1</th>\n",
              "      <td>is upset that he can't update his Facebook by ...</td>\n",
              "      <td>0</td>\n",
              "      <td>21</td>\n",
              "      <td>111</td>\n",
              "      <td>4.285714</td>\n",
              "      <td>9</td>\n",
              "      <td>0</td>\n",
              "      <td>0</td>\n",
              "    </tr>\n",
              "    <tr>\n",
              "      <th>2</th>\n",
              "      <td>@Kenichan I dived many times for the ball. Man...</td>\n",
              "      <td>0</td>\n",
              "      <td>18</td>\n",
              "      <td>89</td>\n",
              "      <td>3.944444</td>\n",
              "      <td>7</td>\n",
              "      <td>0</td>\n",
              "      <td>1</td>\n",
              "    </tr>\n",
              "    <tr>\n",
              "      <th>3</th>\n",
              "      <td>my whole body feels itchy and like its on fire</td>\n",
              "      <td>0</td>\n",
              "      <td>10</td>\n",
              "      <td>47</td>\n",
              "      <td>3.700000</td>\n",
              "      <td>5</td>\n",
              "      <td>0</td>\n",
              "      <td>0</td>\n",
              "    </tr>\n",
              "    <tr>\n",
              "      <th>4</th>\n",
              "      <td>@nationwideclass no, it's not behaving at all....</td>\n",
              "      <td>0</td>\n",
              "      <td>21</td>\n",
              "      <td>111</td>\n",
              "      <td>4.285714</td>\n",
              "      <td>10</td>\n",
              "      <td>0</td>\n",
              "      <td>1</td>\n",
              "    </tr>\n",
              "  </tbody>\n",
              "</table>\n",
              "</div>"
            ],
            "text/plain": [
              "                                              twitts  ...  mentions_count\n",
              "0  @switchfoot http://twitpic.com/2y1zl - Awww, t...  ...               1\n",
              "1  is upset that he can't update his Facebook by ...  ...               0\n",
              "2  @Kenichan I dived many times for the ball. Man...  ...               1\n",
              "3    my whole body feels itchy and like its on fire   ...               0\n",
              "4  @nationwideclass no, it's not behaving at all....  ...               1\n",
              "\n",
              "[5 rows x 8 columns]"
            ]
          },
          "metadata": {},
          "execution_count": 21
        }
      ]
    },
    {
      "cell_type": "markdown",
      "source": [
        "###**if numeric digits are present in twitts**"
      ],
      "metadata": {
        "id": "ycKQuiWp6kfu"
      }
    },
    {
      "cell_type": "code",
      "source": [
        "df['numerics_count'] = df['twitts'].apply(lambda x: len([t for t in x.split() if t.isdigit()]))"
      ],
      "metadata": {
        "id": "BQ7nzSjv6xGr"
      },
      "execution_count": null,
      "outputs": []
    },
    {
      "cell_type": "code",
      "source": [
        "df.head()"
      ],
      "metadata": {
        "colab": {
          "base_uri": "https://localhost:8080/",
          "height": 206
        },
        "id": "YGLUXn_x7dMN",
        "outputId": "f42a1db1-3a0e-4eb3-f7b8-b56420f35b0b"
      },
      "execution_count": null,
      "outputs": [
        {
          "output_type": "execute_result",
          "data": {
            "text/html": [
              "<div>\n",
              "<style scoped>\n",
              "    .dataframe tbody tr th:only-of-type {\n",
              "        vertical-align: middle;\n",
              "    }\n",
              "\n",
              "    .dataframe tbody tr th {\n",
              "        vertical-align: top;\n",
              "    }\n",
              "\n",
              "    .dataframe thead th {\n",
              "        text-align: right;\n",
              "    }\n",
              "</style>\n",
              "<table border=\"1\" class=\"dataframe\">\n",
              "  <thead>\n",
              "    <tr style=\"text-align: right;\">\n",
              "      <th></th>\n",
              "      <th>twitts</th>\n",
              "      <th>sentiment</th>\n",
              "      <th>word_counts</th>\n",
              "      <th>char_counts</th>\n",
              "      <th>avg_word_len</th>\n",
              "      <th>stop_words_len</th>\n",
              "      <th>hashtags_count</th>\n",
              "      <th>mentions_count</th>\n",
              "      <th>numerics_count</th>\n",
              "    </tr>\n",
              "  </thead>\n",
              "  <tbody>\n",
              "    <tr>\n",
              "      <th>0</th>\n",
              "      <td>@switchfoot http://twitpic.com/2y1zl - Awww, t...</td>\n",
              "      <td>0</td>\n",
              "      <td>19</td>\n",
              "      <td>115</td>\n",
              "      <td>5.052632</td>\n",
              "      <td>4</td>\n",
              "      <td>0</td>\n",
              "      <td>1</td>\n",
              "      <td>0</td>\n",
              "    </tr>\n",
              "    <tr>\n",
              "      <th>1</th>\n",
              "      <td>is upset that he can't update his Facebook by ...</td>\n",
              "      <td>0</td>\n",
              "      <td>21</td>\n",
              "      <td>111</td>\n",
              "      <td>4.285714</td>\n",
              "      <td>9</td>\n",
              "      <td>0</td>\n",
              "      <td>0</td>\n",
              "      <td>0</td>\n",
              "    </tr>\n",
              "    <tr>\n",
              "      <th>2</th>\n",
              "      <td>@Kenichan I dived many times for the ball. Man...</td>\n",
              "      <td>0</td>\n",
              "      <td>18</td>\n",
              "      <td>89</td>\n",
              "      <td>3.944444</td>\n",
              "      <td>7</td>\n",
              "      <td>0</td>\n",
              "      <td>1</td>\n",
              "      <td>0</td>\n",
              "    </tr>\n",
              "    <tr>\n",
              "      <th>3</th>\n",
              "      <td>my whole body feels itchy and like its on fire</td>\n",
              "      <td>0</td>\n",
              "      <td>10</td>\n",
              "      <td>47</td>\n",
              "      <td>3.700000</td>\n",
              "      <td>5</td>\n",
              "      <td>0</td>\n",
              "      <td>0</td>\n",
              "      <td>0</td>\n",
              "    </tr>\n",
              "    <tr>\n",
              "      <th>4</th>\n",
              "      <td>@nationwideclass no, it's not behaving at all....</td>\n",
              "      <td>0</td>\n",
              "      <td>21</td>\n",
              "      <td>111</td>\n",
              "      <td>4.285714</td>\n",
              "      <td>10</td>\n",
              "      <td>0</td>\n",
              "      <td>1</td>\n",
              "      <td>0</td>\n",
              "    </tr>\n",
              "  </tbody>\n",
              "</table>\n",
              "</div>"
            ],
            "text/plain": [
              "                                              twitts  ...  numerics_count\n",
              "0  @switchfoot http://twitpic.com/2y1zl - Awww, t...  ...               0\n",
              "1  is upset that he can't update his Facebook by ...  ...               0\n",
              "2  @Kenichan I dived many times for the ball. Man...  ...               0\n",
              "3    my whole body feels itchy and like its on fire   ...               0\n",
              "4  @nationwideclass no, it's not behaving at all....  ...               0\n",
              "\n",
              "[5 rows x 9 columns]"
            ]
          },
          "metadata": {},
          "execution_count": 23
        }
      ]
    },
    {
      "cell_type": "markdown",
      "source": [
        "### **UPPER case words count**"
      ],
      "metadata": {
        "id": "q6llLpKg7le5"
      }
    },
    {
      "cell_type": "code",
      "source": [
        "df['upper_counts'] = df['twitts'].apply(lambda x : len([t for t in x.split() if t.isupper() and len(x)>3]))"
      ],
      "metadata": {
        "id": "ZIDxLwNk7xDv"
      },
      "execution_count": null,
      "outputs": []
    },
    {
      "cell_type": "code",
      "source": [
        "df.head()"
      ],
      "metadata": {
        "colab": {
          "base_uri": "https://localhost:8080/",
          "height": 206
        },
        "id": "qOVQBJ108MT5",
        "outputId": "6136afc3-a8aa-4ebc-fb58-498a65ab9c78"
      },
      "execution_count": null,
      "outputs": [
        {
          "output_type": "execute_result",
          "data": {
            "text/html": [
              "<div>\n",
              "<style scoped>\n",
              "    .dataframe tbody tr th:only-of-type {\n",
              "        vertical-align: middle;\n",
              "    }\n",
              "\n",
              "    .dataframe tbody tr th {\n",
              "        vertical-align: top;\n",
              "    }\n",
              "\n",
              "    .dataframe thead th {\n",
              "        text-align: right;\n",
              "    }\n",
              "</style>\n",
              "<table border=\"1\" class=\"dataframe\">\n",
              "  <thead>\n",
              "    <tr style=\"text-align: right;\">\n",
              "      <th></th>\n",
              "      <th>twitts</th>\n",
              "      <th>sentiment</th>\n",
              "      <th>word_counts</th>\n",
              "      <th>char_counts</th>\n",
              "      <th>avg_word_len</th>\n",
              "      <th>stop_words_len</th>\n",
              "      <th>hashtags_count</th>\n",
              "      <th>mentions_count</th>\n",
              "      <th>numerics_count</th>\n",
              "      <th>upper_counts</th>\n",
              "    </tr>\n",
              "  </thead>\n",
              "  <tbody>\n",
              "    <tr>\n",
              "      <th>0</th>\n",
              "      <td>@switchfoot http://twitpic.com/2y1zl - Awww, t...</td>\n",
              "      <td>0</td>\n",
              "      <td>19</td>\n",
              "      <td>115</td>\n",
              "      <td>5.052632</td>\n",
              "      <td>4</td>\n",
              "      <td>0</td>\n",
              "      <td>1</td>\n",
              "      <td>0</td>\n",
              "      <td>1</td>\n",
              "    </tr>\n",
              "    <tr>\n",
              "      <th>1</th>\n",
              "      <td>is upset that he can't update his Facebook by ...</td>\n",
              "      <td>0</td>\n",
              "      <td>21</td>\n",
              "      <td>111</td>\n",
              "      <td>4.285714</td>\n",
              "      <td>9</td>\n",
              "      <td>0</td>\n",
              "      <td>0</td>\n",
              "      <td>0</td>\n",
              "      <td>0</td>\n",
              "    </tr>\n",
              "    <tr>\n",
              "      <th>2</th>\n",
              "      <td>@Kenichan I dived many times for the ball. Man...</td>\n",
              "      <td>0</td>\n",
              "      <td>18</td>\n",
              "      <td>89</td>\n",
              "      <td>3.944444</td>\n",
              "      <td>7</td>\n",
              "      <td>0</td>\n",
              "      <td>1</td>\n",
              "      <td>0</td>\n",
              "      <td>1</td>\n",
              "    </tr>\n",
              "    <tr>\n",
              "      <th>3</th>\n",
              "      <td>my whole body feels itchy and like its on fire</td>\n",
              "      <td>0</td>\n",
              "      <td>10</td>\n",
              "      <td>47</td>\n",
              "      <td>3.700000</td>\n",
              "      <td>5</td>\n",
              "      <td>0</td>\n",
              "      <td>0</td>\n",
              "      <td>0</td>\n",
              "      <td>0</td>\n",
              "    </tr>\n",
              "    <tr>\n",
              "      <th>4</th>\n",
              "      <td>@nationwideclass no, it's not behaving at all....</td>\n",
              "      <td>0</td>\n",
              "      <td>21</td>\n",
              "      <td>111</td>\n",
              "      <td>4.285714</td>\n",
              "      <td>10</td>\n",
              "      <td>0</td>\n",
              "      <td>1</td>\n",
              "      <td>0</td>\n",
              "      <td>1</td>\n",
              "    </tr>\n",
              "  </tbody>\n",
              "</table>\n",
              "</div>"
            ],
            "text/plain": [
              "                                              twitts  ...  upper_counts\n",
              "0  @switchfoot http://twitpic.com/2y1zl - Awww, t...  ...             1\n",
              "1  is upset that he can't update his Facebook by ...  ...             0\n",
              "2  @Kenichan I dived many times for the ball. Man...  ...             1\n",
              "3    my whole body feels itchy and like its on fire   ...             0\n",
              "4  @nationwideclass no, it's not behaving at all....  ...             1\n",
              "\n",
              "[5 rows x 10 columns]"
            ]
          },
          "metadata": {},
          "execution_count": 25
        }
      ]
    },
    {
      "cell_type": "code",
      "source": [
        "df.loc[96]['twitts']"
      ],
      "metadata": {
        "colab": {
          "base_uri": "https://localhost:8080/",
          "height": 35
        },
        "id": "iDMRgHS69Zrt",
        "outputId": "9a19e567-a688-4f0d-9692-5ea49f78b024"
      },
      "execution_count": null,
      "outputs": [
        {
          "output_type": "execute_result",
          "data": {
            "application/vnd.google.colaboratory.intrinsic+json": {
              "type": "string"
            },
            "text/plain": [
              "\"so rylee,grace...wana go steve's party or not?? SADLY SINCE ITS EASTER I WNT B ABLE 2 DO MUCH  BUT OHH WELL.....\""
            ]
          },
          "metadata": {},
          "execution_count": 26
        }
      ]
    },
    {
      "cell_type": "markdown",
      "source": [
        "## **Preprocessing and Cleaning**"
      ],
      "metadata": {
        "id": "nApcQSyX9tZv"
      }
    },
    {
      "cell_type": "markdown",
      "source": [
        "### **Lower case conversion** "
      ],
      "metadata": {
        "id": "VxkbROYA-BRg"
      }
    },
    {
      "cell_type": "code",
      "source": [
        "df['twitts'] = df['twitts'].apply(lambda x: x.lower())"
      ],
      "metadata": {
        "id": "b06qvPa7C3sQ"
      },
      "execution_count": null,
      "outputs": []
    },
    {
      "cell_type": "code",
      "source": [
        "df.head(2)"
      ],
      "metadata": {
        "colab": {
          "base_uri": "https://localhost:8080/",
          "height": 112
        },
        "id": "9GQGJxLWDOXN",
        "outputId": "c0316136-e838-4b67-8147-8ec94a846f6d"
      },
      "execution_count": null,
      "outputs": [
        {
          "output_type": "execute_result",
          "data": {
            "text/html": [
              "<div>\n",
              "<style scoped>\n",
              "    .dataframe tbody tr th:only-of-type {\n",
              "        vertical-align: middle;\n",
              "    }\n",
              "\n",
              "    .dataframe tbody tr th {\n",
              "        vertical-align: top;\n",
              "    }\n",
              "\n",
              "    .dataframe thead th {\n",
              "        text-align: right;\n",
              "    }\n",
              "</style>\n",
              "<table border=\"1\" class=\"dataframe\">\n",
              "  <thead>\n",
              "    <tr style=\"text-align: right;\">\n",
              "      <th></th>\n",
              "      <th>twitts</th>\n",
              "      <th>sentiment</th>\n",
              "      <th>word_counts</th>\n",
              "      <th>char_counts</th>\n",
              "      <th>avg_word_len</th>\n",
              "      <th>stop_words_len</th>\n",
              "      <th>hashtags_count</th>\n",
              "      <th>mentions_count</th>\n",
              "      <th>numerics_count</th>\n",
              "      <th>upper_counts</th>\n",
              "    </tr>\n",
              "  </thead>\n",
              "  <tbody>\n",
              "    <tr>\n",
              "      <th>0</th>\n",
              "      <td>@switchfoot http://twitpic.com/2y1zl - awww, t...</td>\n",
              "      <td>0</td>\n",
              "      <td>19</td>\n",
              "      <td>115</td>\n",
              "      <td>5.052632</td>\n",
              "      <td>4</td>\n",
              "      <td>0</td>\n",
              "      <td>1</td>\n",
              "      <td>0</td>\n",
              "      <td>1</td>\n",
              "    </tr>\n",
              "    <tr>\n",
              "      <th>1</th>\n",
              "      <td>is upset that he can't update his facebook by ...</td>\n",
              "      <td>0</td>\n",
              "      <td>21</td>\n",
              "      <td>111</td>\n",
              "      <td>4.285714</td>\n",
              "      <td>9</td>\n",
              "      <td>0</td>\n",
              "      <td>0</td>\n",
              "      <td>0</td>\n",
              "      <td>0</td>\n",
              "    </tr>\n",
              "  </tbody>\n",
              "</table>\n",
              "</div>"
            ],
            "text/plain": [
              "                                              twitts  ...  upper_counts\n",
              "0  @switchfoot http://twitpic.com/2y1zl - awww, t...  ...             1\n",
              "1  is upset that he can't update his facebook by ...  ...             0\n",
              "\n",
              "[2 rows x 10 columns]"
            ]
          },
          "metadata": {},
          "execution_count": 28
        }
      ]
    },
    {
      "cell_type": "markdown",
      "source": [
        "### **Contraction to Expansion**"
      ],
      "metadata": {
        "id": "h-j4zzSxEROs"
      }
    },
    {
      "cell_type": "code",
      "source": [
        "contractions = { \n",
        "\"ain't\": \"am not / are not / is not / has not / have not\",\n",
        "\"aren't\": \"are not / am not\",\n",
        "\"can't\": \"cannot\",\n",
        "\"can't've\": \"cannot have\",\n",
        "\"'cause\": \"because\",\n",
        "\"could've\": \"could have\",\n",
        "\"couldn't\": \"could not\",\n",
        "\"couldn't've\": \"could not have\",\n",
        "\"didn't\": \"did not\",\n",
        "\"doesn't\": \"does not\",\n",
        "\"don't\": \"do not\",\n",
        "\"hadn't\": \"had not\",\n",
        "\"hadn't've\": \"had not have\",\n",
        "\"hasn't\": \"has not\",\n",
        "\"haven't\": \"have not\",\n",
        "\"he'd\": \"he had / he would\",\n",
        "\"he'd've\": \"he would have\",\n",
        "\"he'll\": \"he shall / he will\",\n",
        "\"he'll've\": \"he shall have / he will have\",\n",
        "\"he's\": \"he has / he is\",\n",
        "\"how'd\": \"how did\",\n",
        "\"how'd'y\": \"how do you\",\n",
        "\"how'll\": \"how will\",\n",
        "\"how's\": \"how has / how is / how does\",\n",
        "\"i'd\": \"i had / i would\",\n",
        "\"i'd've\": \"i would have\",\n",
        "\"i'll\": \"i shall / i will\",\n",
        "\"i'll've\": \"i shall have / i will have\",\n",
        "\"i'm\": \"i am\",\n",
        "\"i've\": \"i have\",\n",
        "\"isn't\": \"is not\",\n",
        "\"it'd\": \"it had / it would\",\n",
        "\"it'd've\": \"it would have\",\n",
        "\"it'll\": \"it shall / it will\",\n",
        "\"it'll've\": \"it shall have / it will have\",\n",
        "\"it's\": \"it has / it is\",\n",
        "\"let's\": \"let us\",\n",
        "\"ma'am\": \"madam\",\n",
        "\"mayn't\": \"may not\",\n",
        "\"might've\": \"might have\",\n",
        "\"mightn't\": \"might not\",\n",
        "\"mightn't've\": \"might not have\",\n",
        "\"must've\": \"must have\",\n",
        "\"mustn't\": \"must not\",\n",
        "\"mustn't've\": \"must not have\",\n",
        "\"needn't\": \"need not\",\n",
        "\"needn't've\": \"need not have\",\n",
        "\"o'clock\": \"of the clock\",\n",
        "\"oughtn't\": \"ought not\",\n",
        "\"oughtn't've\": \"ought not have\",\n",
        "\"shan't\": \"shall not\",\n",
        "\"sha'n't\": \"shall not\",\n",
        "\"shan't've\": \"shall not have\",\n",
        "\"she'd\": \"she had / she would\",\n",
        "\"she'd've\": \"she would have\",\n",
        "\"she'll\": \"she shall / she will\",\n",
        "\"she'll've\": \"she shall have / she will have\",\n",
        "\"she's\": \"she has / she is\",\n",
        "\"should've\": \"should have\",\n",
        "\"shouldn't\": \"should not\",\n",
        "\"shouldn't've\": \"should not have\",\n",
        "\"so've\": \"so have\",\n",
        "\"so's\": \"so as / so is\",\n",
        "\"that'd\": \"that would / that had\",\n",
        "\"that'd've\": \"that would have\",\n",
        "\"that's\": \"that has / that is\",\n",
        "\"there'd\": \"there had / there would\",\n",
        "\"there'd've\": \"there would have\",\n",
        "\"there's\": \"there has / there is\",\n",
        "\"they'd\": \"they had / they would\",\n",
        "\"they'd've\": \"they would have\",\n",
        "\"they'll\": \"they shall / they will\",\n",
        "\"they'll've\": \"they shall have / they will have\",\n",
        "\"they're\": \"they are\",\n",
        "\"they've\": \"they have\",\n",
        "\"to've\": \"to have\",\n",
        "\"wasn't\": \"was not\",\n",
        "\"we'd\": \"we had / we would\",\n",
        "\"we'd've\": \"we would have\",\n",
        "\"we'll\": \"we will\",\n",
        "\"we'll've\": \"we will have\",\n",
        "\"we're\": \"we are\",\n",
        "\"we've\": \"we have\",\n",
        "\"weren't\": \"were not\",\n",
        "\"what'll\": \"what shall / what will\",\n",
        "\"what'll've\": \"what shall have / what will have\",\n",
        "\"what're\": \"what are\",\n",
        "\"what's\": \"what has / what is\",\n",
        "\"what've\": \"what have\",\n",
        "\"when's\": \"when has / when is\",\n",
        "\"when've\": \"when have\",\n",
        "\"where'd\": \"where did\",\n",
        "\"where's\": \"where has / where is\",\n",
        "\"where've\": \"where have\",\n",
        "\"who'll\": \"who shall / who will\",\n",
        "\"who'll've\": \"who shall have / who will have\",\n",
        "\"who's\": \"who has / who is\",\n",
        "\"who've\": \"who have\",\n",
        "\"why's\": \"why has / why is\",\n",
        "\"why've\": \"why have\",\n",
        "\"will've\": \"will have\",\n",
        "\"won't\": \"will not\",\n",
        "\"won't've\": \"will not have\",\n",
        "\"would've\": \"would have\",\n",
        "\"wouldn't\": \"would not\",\n",
        "\"wouldn't've\": \"would not have\",\n",
        "\"y'all\": \"you all\",\n",
        "\"y'all'd\": \"you all would\",\n",
        "\"y'all'd've\": \"you all would have\",\n",
        "\"y'all're\": \"you all are\",\n",
        "\"y'all've\": \"you all have\",\n",
        "\"you'd\": \"you had / you would\",\n",
        "\"you'd've\": \"you would have\",\n",
        "\"you'll\": \"you shall / you will\",\n",
        "\"you'll've\": \"you shall have / you will have\",\n",
        "\"you're\": \"you are\",\n",
        "\"you've\": \"you have\"\n",
        "}"
      ],
      "metadata": {
        "id": "pjyTiLp9FoNY"
      },
      "execution_count": null,
      "outputs": []
    },
    {
      "cell_type": "code",
      "source": [
        "def cont_to_exp(x):\n",
        "  if type(x) is str:\n",
        "    for key in contractions:\n",
        "      value = contractions[key]\n",
        "      x = x.replace(key, value)\n",
        "    return x\n",
        "  else:\n",
        "    return x\n"
      ],
      "metadata": {
        "id": "_KQFAe4PEWD3"
      },
      "execution_count": null,
      "outputs": []
    },
    {
      "cell_type": "code",
      "source": [
        "%%time\n",
        "df['twitts'] = df['twitts'].apply(lambda x: cont_to_exp(x))"
      ],
      "metadata": {
        "colab": {
          "base_uri": "https://localhost:8080/"
        },
        "id": "2BGmL_0YG7uK",
        "outputId": "a2cca361-30ca-4bd2-adee-efa635879ac9"
      },
      "execution_count": null,
      "outputs": [
        {
          "output_type": "stream",
          "name": "stdout",
          "text": [
            "CPU times: user 51.3 s, sys: 164 ms, total: 51.4 s\n",
            "Wall time: 51.5 s\n"
          ]
        }
      ]
    },
    {
      "cell_type": "markdown",
      "source": [
        "### **Count and Remove Emails**"
      ],
      "metadata": {
        "id": "xDkS1DSQHeU9"
      }
    },
    {
      "cell_type": "code",
      "source": [
        "import re"
      ],
      "metadata": {
        "id": "ZFRc_mRYHlts"
      },
      "execution_count": null,
      "outputs": []
    },
    {
      "cell_type": "code",
      "source": [
        "#x = 'hi my email me at email@email.com another@email.com'"
      ],
      "metadata": {
        "id": "Affuw7oYPH7h"
      },
      "execution_count": null,
      "outputs": []
    },
    {
      "cell_type": "code",
      "source": [
        "#re.findall(r'([a-zA-Z0-9+._-]+@[a-zA-Z0-9._-]+\\.[a-zA-Z0-9_-]+)', x) "
      ],
      "metadata": {
        "id": "1WD5ax-cPXRW"
      },
      "execution_count": null,
      "outputs": []
    },
    {
      "cell_type": "code",
      "source": [
        "df['emails'] = df['twitts'].apply(lambda x: re.findall(r'([a-zA-Z0-9+._-]+@[a-zA-Z0-9._-]+\\.[a-zA-Z0-9_-]+)', x))"
      ],
      "metadata": {
        "id": "QXxlv3HMH9_Y"
      },
      "execution_count": null,
      "outputs": []
    },
    {
      "cell_type": "code",
      "source": [
        "df['emails_count'] = df['emails'].apply(lambda x : len(x))"
      ],
      "metadata": {
        "id": "76labHGuLbcR"
      },
      "execution_count": null,
      "outputs": []
    },
    {
      "cell_type": "code",
      "source": [
        "df[df['emails_count']>0]"
      ],
      "metadata": {
        "colab": {
          "base_uri": "https://localhost:8080/",
          "height": 424
        },
        "id": "wW9qEkieLqAs",
        "outputId": "633b17cd-ec9f-4e2c-a117-7c5d87306ed0"
      },
      "execution_count": null,
      "outputs": [
        {
          "output_type": "execute_result",
          "data": {
            "text/html": [
              "<div>\n",
              "<style scoped>\n",
              "    .dataframe tbody tr th:only-of-type {\n",
              "        vertical-align: middle;\n",
              "    }\n",
              "\n",
              "    .dataframe tbody tr th {\n",
              "        vertical-align: top;\n",
              "    }\n",
              "\n",
              "    .dataframe thead th {\n",
              "        text-align: right;\n",
              "    }\n",
              "</style>\n",
              "<table border=\"1\" class=\"dataframe\">\n",
              "  <thead>\n",
              "    <tr style=\"text-align: right;\">\n",
              "      <th></th>\n",
              "      <th>twitts</th>\n",
              "      <th>sentiment</th>\n",
              "      <th>word_counts</th>\n",
              "      <th>char_counts</th>\n",
              "      <th>avg_word_len</th>\n",
              "      <th>stop_words_len</th>\n",
              "      <th>hashtags_count</th>\n",
              "      <th>mentions_count</th>\n",
              "      <th>numerics_count</th>\n",
              "      <th>upper_counts</th>\n",
              "      <th>emails</th>\n",
              "      <th>emails_count</th>\n",
              "    </tr>\n",
              "  </thead>\n",
              "  <tbody>\n",
              "    <tr>\n",
              "      <th>4054</th>\n",
              "      <td>i want a new laptop.  hp tx2000 is the bomb. :...</td>\n",
              "      <td>0</td>\n",
              "      <td>20</td>\n",
              "      <td>103</td>\n",
              "      <td>4.150000</td>\n",
              "      <td>6</td>\n",
              "      <td>0</td>\n",
              "      <td>0</td>\n",
              "      <td>0</td>\n",
              "      <td>4</td>\n",
              "      <td>[gabbehhramos@yahoo.com]</td>\n",
              "      <td>1</td>\n",
              "    </tr>\n",
              "    <tr>\n",
              "      <th>7917</th>\n",
              "      <td>who stole elledell@gmail.com?</td>\n",
              "      <td>0</td>\n",
              "      <td>3</td>\n",
              "      <td>31</td>\n",
              "      <td>9.000000</td>\n",
              "      <td>1</td>\n",
              "      <td>0</td>\n",
              "      <td>0</td>\n",
              "      <td>0</td>\n",
              "      <td>0</td>\n",
              "      <td>[elledell@gmail.com]</td>\n",
              "      <td>1</td>\n",
              "    </tr>\n",
              "    <tr>\n",
              "      <th>8496</th>\n",
              "      <td>@alexistehpom  really? did you send out all th...</td>\n",
              "      <td>0</td>\n",
              "      <td>20</td>\n",
              "      <td>130</td>\n",
              "      <td>5.500000</td>\n",
              "      <td>11</td>\n",
              "      <td>0</td>\n",
              "      <td>1</td>\n",
              "      <td>0</td>\n",
              "      <td>0</td>\n",
              "      <td>[missataari@gmail.com]</td>\n",
              "      <td>1</td>\n",
              "    </tr>\n",
              "    <tr>\n",
              "      <th>10290</th>\n",
              "      <td>@laureystack awh...that has / that is kinda sa...</td>\n",
              "      <td>0</td>\n",
              "      <td>8</td>\n",
              "      <td>76</td>\n",
              "      <td>8.500000</td>\n",
              "      <td>0</td>\n",
              "      <td>0</td>\n",
              "      <td>1</td>\n",
              "      <td>0</td>\n",
              "      <td>0</td>\n",
              "      <td>[hello.kitty.65@hotmail.com]</td>\n",
              "      <td>1</td>\n",
              "    </tr>\n",
              "    <tr>\n",
              "      <th>16413</th>\n",
              "      <td>@jilliancyork  got 2 bottom of it, human error...</td>\n",
              "      <td>0</td>\n",
              "      <td>21</td>\n",
              "      <td>137</td>\n",
              "      <td>5.428571</td>\n",
              "      <td>7</td>\n",
              "      <td>0</td>\n",
              "      <td>1</td>\n",
              "      <td>1</td>\n",
              "      <td>0</td>\n",
              "      <td>[press@linkedin.com]</td>\n",
              "      <td>1</td>\n",
              "    </tr>\n",
              "    <tr>\n",
              "      <th>...</th>\n",
              "      <td>...</td>\n",
              "      <td>...</td>\n",
              "      <td>...</td>\n",
              "      <td>...</td>\n",
              "      <td>...</td>\n",
              "      <td>...</td>\n",
              "      <td>...</td>\n",
              "      <td>...</td>\n",
              "      <td>...</td>\n",
              "      <td>...</td>\n",
              "      <td>...</td>\n",
              "      <td>...</td>\n",
              "    </tr>\n",
              "    <tr>\n",
              "      <th>1588338</th>\n",
              "      <td>@boudoirsextoys do not forget to shoot me an e...</td>\n",
              "      <td>4</td>\n",
              "      <td>21</td>\n",
              "      <td>127</td>\n",
              "      <td>5.047619</td>\n",
              "      <td>10</td>\n",
              "      <td>0</td>\n",
              "      <td>1</td>\n",
              "      <td>0</td>\n",
              "      <td>1</td>\n",
              "      <td>[hello@tastelikekisses.com]</td>\n",
              "      <td>1</td>\n",
              "    </tr>\n",
              "    <tr>\n",
              "      <th>1589132</th>\n",
              "      <td>hi there , anybody got a job for me  oil &amp;amp;...</td>\n",
              "      <td>4</td>\n",
              "      <td>15</td>\n",
              "      <td>98</td>\n",
              "      <td>5.533333</td>\n",
              "      <td>4</td>\n",
              "      <td>0</td>\n",
              "      <td>0</td>\n",
              "      <td>0</td>\n",
              "      <td>0</td>\n",
              "      <td>[aadvanspijk@yahoo.co.uk]</td>\n",
              "      <td>1</td>\n",
              "    </tr>\n",
              "    <tr>\n",
              "      <th>1590489</th>\n",
              "      <td>@clericaaron yes, lbruton@tulsalanparty.com is...</td>\n",
              "      <td>4</td>\n",
              "      <td>14</td>\n",
              "      <td>95</td>\n",
              "      <td>5.785714</td>\n",
              "      <td>6</td>\n",
              "      <td>0</td>\n",
              "      <td>1</td>\n",
              "      <td>0</td>\n",
              "      <td>1</td>\n",
              "      <td>[lbruton@tulsalanparty.com]</td>\n",
              "      <td>1</td>\n",
              "    </tr>\n",
              "    <tr>\n",
              "      <th>1591675</th>\n",
              "      <td>@miss_ellen good morning!!!!   congrats!    se...</td>\n",
              "      <td>4</td>\n",
              "      <td>9</td>\n",
              "      <td>77</td>\n",
              "      <td>7.111111</td>\n",
              "      <td>2</td>\n",
              "      <td>0</td>\n",
              "      <td>1</td>\n",
              "      <td>0</td>\n",
              "      <td>0</td>\n",
              "      <td>[jill@q985fm.com]</td>\n",
              "      <td>1</td>\n",
              "    </tr>\n",
              "    <tr>\n",
              "      <th>1599053</th>\n",
              "      <td>@thejoshlynn you are! btw send me an email. wa...</td>\n",
              "      <td>4</td>\n",
              "      <td>19</td>\n",
              "      <td>145</td>\n",
              "      <td>6.631579</td>\n",
              "      <td>7</td>\n",
              "      <td>0</td>\n",
              "      <td>1</td>\n",
              "      <td>0</td>\n",
              "      <td>1</td>\n",
              "      <td>[marni@creativecustomcardboxes.com]</td>\n",
              "      <td>1</td>\n",
              "    </tr>\n",
              "  </tbody>\n",
              "</table>\n",
              "<p>564 rows × 12 columns</p>\n",
              "</div>"
            ],
            "text/plain": [
              "                                                    twitts  ...  emails_count\n",
              "4054     i want a new laptop.  hp tx2000 is the bomb. :...  ...             1\n",
              "7917                       who stole elledell@gmail.com?    ...             1\n",
              "8496     @alexistehpom  really? did you send out all th...  ...             1\n",
              "10290    @laureystack awh...that has / that is kinda sa...  ...             1\n",
              "16413    @jilliancyork  got 2 bottom of it, human error...  ...             1\n",
              "...                                                    ...  ...           ...\n",
              "1588338  @boudoirsextoys do not forget to shoot me an e...  ...             1\n",
              "1589132  hi there , anybody got a job for me  oil &amp;...  ...             1\n",
              "1590489  @clericaaron yes, lbruton@tulsalanparty.com is...  ...             1\n",
              "1591675  @miss_ellen good morning!!!!   congrats!    se...  ...             1\n",
              "1599053  @thejoshlynn you are! btw send me an email. wa...  ...             1\n",
              "\n",
              "[564 rows x 12 columns]"
            ]
          },
          "metadata": {},
          "execution_count": 37
        }
      ]
    },
    {
      "cell_type": "code",
      "source": [
        "df['twitts'] = df['twitts'].apply(lambda x: re.sub(r'([a-zA-Z0-9+._-]+@[a-zA-Z0-9._-]+\\.[a-zA-Z0-9_-]+)','', x))"
      ],
      "metadata": {
        "id": "ra041beNMXkw"
      },
      "execution_count": null,
      "outputs": []
    },
    {
      "cell_type": "code",
      "source": [
        "df[df['emails_count']>0].head()"
      ],
      "metadata": {
        "colab": {
          "base_uri": "https://localhost:8080/",
          "height": 206
        },
        "id": "_5bPpqVIQxSh",
        "outputId": "af118c50-aaf7-4392-e68a-30eb157e2cbb"
      },
      "execution_count": null,
      "outputs": [
        {
          "output_type": "execute_result",
          "data": {
            "text/html": [
              "<div>\n",
              "<style scoped>\n",
              "    .dataframe tbody tr th:only-of-type {\n",
              "        vertical-align: middle;\n",
              "    }\n",
              "\n",
              "    .dataframe tbody tr th {\n",
              "        vertical-align: top;\n",
              "    }\n",
              "\n",
              "    .dataframe thead th {\n",
              "        text-align: right;\n",
              "    }\n",
              "</style>\n",
              "<table border=\"1\" class=\"dataframe\">\n",
              "  <thead>\n",
              "    <tr style=\"text-align: right;\">\n",
              "      <th></th>\n",
              "      <th>twitts</th>\n",
              "      <th>sentiment</th>\n",
              "      <th>word_counts</th>\n",
              "      <th>char_counts</th>\n",
              "      <th>avg_word_len</th>\n",
              "      <th>stop_words_len</th>\n",
              "      <th>hashtags_count</th>\n",
              "      <th>mentions_count</th>\n",
              "      <th>numerics_count</th>\n",
              "      <th>upper_counts</th>\n",
              "      <th>emails</th>\n",
              "      <th>emails_count</th>\n",
              "    </tr>\n",
              "  </thead>\n",
              "  <tbody>\n",
              "    <tr>\n",
              "      <th>4054</th>\n",
              "      <td>i want a new laptop.  hp tx2000 is the bomb. :...</td>\n",
              "      <td>0</td>\n",
              "      <td>20</td>\n",
              "      <td>103</td>\n",
              "      <td>4.150000</td>\n",
              "      <td>6</td>\n",
              "      <td>0</td>\n",
              "      <td>0</td>\n",
              "      <td>0</td>\n",
              "      <td>4</td>\n",
              "      <td>[gabbehhramos@yahoo.com]</td>\n",
              "      <td>1</td>\n",
              "    </tr>\n",
              "    <tr>\n",
              "      <th>7917</th>\n",
              "      <td>who stole ?</td>\n",
              "      <td>0</td>\n",
              "      <td>3</td>\n",
              "      <td>31</td>\n",
              "      <td>9.000000</td>\n",
              "      <td>1</td>\n",
              "      <td>0</td>\n",
              "      <td>0</td>\n",
              "      <td>0</td>\n",
              "      <td>0</td>\n",
              "      <td>[elledell@gmail.com]</td>\n",
              "      <td>1</td>\n",
              "    </tr>\n",
              "    <tr>\n",
              "      <th>8496</th>\n",
              "      <td>@alexistehpom  really? did you send out all th...</td>\n",
              "      <td>0</td>\n",
              "      <td>20</td>\n",
              "      <td>130</td>\n",
              "      <td>5.500000</td>\n",
              "      <td>11</td>\n",
              "      <td>0</td>\n",
              "      <td>1</td>\n",
              "      <td>0</td>\n",
              "      <td>0</td>\n",
              "      <td>[missataari@gmail.com]</td>\n",
              "      <td>1</td>\n",
              "    </tr>\n",
              "    <tr>\n",
              "      <th>10290</th>\n",
              "      <td>@laureystack awh...that has / that is kinda sa...</td>\n",
              "      <td>0</td>\n",
              "      <td>8</td>\n",
              "      <td>76</td>\n",
              "      <td>8.500000</td>\n",
              "      <td>0</td>\n",
              "      <td>0</td>\n",
              "      <td>1</td>\n",
              "      <td>0</td>\n",
              "      <td>0</td>\n",
              "      <td>[hello.kitty.65@hotmail.com]</td>\n",
              "      <td>1</td>\n",
              "    </tr>\n",
              "    <tr>\n",
              "      <th>16413</th>\n",
              "      <td>@jilliancyork  got 2 bottom of it, human error...</td>\n",
              "      <td>0</td>\n",
              "      <td>21</td>\n",
              "      <td>137</td>\n",
              "      <td>5.428571</td>\n",
              "      <td>7</td>\n",
              "      <td>0</td>\n",
              "      <td>1</td>\n",
              "      <td>1</td>\n",
              "      <td>0</td>\n",
              "      <td>[press@linkedin.com]</td>\n",
              "      <td>1</td>\n",
              "    </tr>\n",
              "  </tbody>\n",
              "</table>\n",
              "</div>"
            ],
            "text/plain": [
              "                                                  twitts  ...  emails_count\n",
              "4054   i want a new laptop.  hp tx2000 is the bomb. :...  ...             1\n",
              "7917                                       who stole ?    ...             1\n",
              "8496   @alexistehpom  really? did you send out all th...  ...             1\n",
              "10290  @laureystack awh...that has / that is kinda sa...  ...             1\n",
              "16413  @jilliancyork  got 2 bottom of it, human error...  ...             1\n",
              "\n",
              "[5 rows x 12 columns]"
            ]
          },
          "metadata": {},
          "execution_count": 39
        }
      ]
    },
    {
      "cell_type": "markdown",
      "source": [
        "###**COUNT URLs And REMOVE it**"
      ],
      "metadata": {
        "id": "88zjKfN4Rmib"
      }
    },
    {
      "cell_type": "code",
      "source": [
        "#x = 'hi, to watch more visit https://www.youtube.com/kgptalkie'"
      ],
      "metadata": {
        "id": "r1wlq3PkR1lL"
      },
      "execution_count": null,
      "outputs": []
    },
    {
      "cell_type": "code",
      "source": [
        "#re.findall(r'(http|ftp|https)://([\\w_-]+(?:(?:\\.[\\w_-]+)+))([\\w.,@?^=%&:/~+#-]*[\\w@?^=%&/~+#-])?',x)"
      ],
      "metadata": {
        "id": "iXuWcPkZSDhQ"
      },
      "execution_count": null,
      "outputs": []
    },
    {
      "cell_type": "code",
      "source": [
        "df['urls_flag'] = df['twitts'].apply(lambda x : len(re.findall(r'(http|ftp|https)://([\\w_-]+(?:(?:\\.[\\w_-]+)+))([\\w.,@?^=%&:/~+#-]*[\\w@?^=%&/~+#-])?',x)))"
      ],
      "metadata": {
        "id": "OYTNKX5NTHkH"
      },
      "execution_count": null,
      "outputs": []
    },
    {
      "cell_type": "code",
      "source": [
        "df.head()"
      ],
      "metadata": {
        "colab": {
          "base_uri": "https://localhost:8080/",
          "height": 206
        },
        "id": "gh6qiaxQgb8T",
        "outputId": "7e8fe2d4-0a0d-4da2-b5ec-6ccb49802d14"
      },
      "execution_count": null,
      "outputs": [
        {
          "output_type": "execute_result",
          "data": {
            "text/html": [
              "<div>\n",
              "<style scoped>\n",
              "    .dataframe tbody tr th:only-of-type {\n",
              "        vertical-align: middle;\n",
              "    }\n",
              "\n",
              "    .dataframe tbody tr th {\n",
              "        vertical-align: top;\n",
              "    }\n",
              "\n",
              "    .dataframe thead th {\n",
              "        text-align: right;\n",
              "    }\n",
              "</style>\n",
              "<table border=\"1\" class=\"dataframe\">\n",
              "  <thead>\n",
              "    <tr style=\"text-align: right;\">\n",
              "      <th></th>\n",
              "      <th>twitts</th>\n",
              "      <th>sentiment</th>\n",
              "      <th>word_counts</th>\n",
              "      <th>char_counts</th>\n",
              "      <th>avg_word_len</th>\n",
              "      <th>stop_words_len</th>\n",
              "      <th>hashtags_count</th>\n",
              "      <th>mentions_count</th>\n",
              "      <th>numerics_count</th>\n",
              "      <th>upper_counts</th>\n",
              "      <th>emails</th>\n",
              "      <th>emails_count</th>\n",
              "      <th>urls_flag</th>\n",
              "    </tr>\n",
              "  </thead>\n",
              "  <tbody>\n",
              "    <tr>\n",
              "      <th>0</th>\n",
              "      <td>@switchfoot http://twitpic.com/2y1zl - awww, t...</td>\n",
              "      <td>0</td>\n",
              "      <td>19</td>\n",
              "      <td>115</td>\n",
              "      <td>5.052632</td>\n",
              "      <td>4</td>\n",
              "      <td>0</td>\n",
              "      <td>1</td>\n",
              "      <td>0</td>\n",
              "      <td>1</td>\n",
              "      <td>[]</td>\n",
              "      <td>0</td>\n",
              "      <td>1</td>\n",
              "    </tr>\n",
              "    <tr>\n",
              "      <th>1</th>\n",
              "      <td>is upset that he cannot update his facebook by...</td>\n",
              "      <td>0</td>\n",
              "      <td>21</td>\n",
              "      <td>111</td>\n",
              "      <td>4.285714</td>\n",
              "      <td>9</td>\n",
              "      <td>0</td>\n",
              "      <td>0</td>\n",
              "      <td>0</td>\n",
              "      <td>0</td>\n",
              "      <td>[]</td>\n",
              "      <td>0</td>\n",
              "      <td>0</td>\n",
              "    </tr>\n",
              "    <tr>\n",
              "      <th>2</th>\n",
              "      <td>@kenichan i dived many times for the ball. man...</td>\n",
              "      <td>0</td>\n",
              "      <td>18</td>\n",
              "      <td>89</td>\n",
              "      <td>3.944444</td>\n",
              "      <td>7</td>\n",
              "      <td>0</td>\n",
              "      <td>1</td>\n",
              "      <td>0</td>\n",
              "      <td>1</td>\n",
              "      <td>[]</td>\n",
              "      <td>0</td>\n",
              "      <td>0</td>\n",
              "    </tr>\n",
              "    <tr>\n",
              "      <th>3</th>\n",
              "      <td>my whole body feels itchy and like its on fire</td>\n",
              "      <td>0</td>\n",
              "      <td>10</td>\n",
              "      <td>47</td>\n",
              "      <td>3.700000</td>\n",
              "      <td>5</td>\n",
              "      <td>0</td>\n",
              "      <td>0</td>\n",
              "      <td>0</td>\n",
              "      <td>0</td>\n",
              "      <td>[]</td>\n",
              "      <td>0</td>\n",
              "      <td>0</td>\n",
              "    </tr>\n",
              "    <tr>\n",
              "      <th>4</th>\n",
              "      <td>@nationwideclass no, it has / it is not behavi...</td>\n",
              "      <td>0</td>\n",
              "      <td>21</td>\n",
              "      <td>111</td>\n",
              "      <td>4.285714</td>\n",
              "      <td>10</td>\n",
              "      <td>0</td>\n",
              "      <td>1</td>\n",
              "      <td>0</td>\n",
              "      <td>1</td>\n",
              "      <td>[]</td>\n",
              "      <td>0</td>\n",
              "      <td>0</td>\n",
              "    </tr>\n",
              "  </tbody>\n",
              "</table>\n",
              "</div>"
            ],
            "text/plain": [
              "                                              twitts  ...  urls_flag\n",
              "0  @switchfoot http://twitpic.com/2y1zl - awww, t...  ...          1\n",
              "1  is upset that he cannot update his facebook by...  ...          0\n",
              "2  @kenichan i dived many times for the ball. man...  ...          0\n",
              "3    my whole body feels itchy and like its on fire   ...          0\n",
              "4  @nationwideclass no, it has / it is not behavi...  ...          0\n",
              "\n",
              "[5 rows x 13 columns]"
            ]
          },
          "metadata": {},
          "execution_count": 43
        }
      ]
    },
    {
      "cell_type": "code",
      "source": [
        "#re.sub(r'(http|ftp|https)://([\\w_-]+(?:(?:\\.[\\w_-]+)+))([\\w.,@?^=%&:/~+#-]*[\\w@?^=%&/~+#-])?','',x)"
      ],
      "metadata": {
        "id": "RNhsC-Jageg3"
      },
      "execution_count": null,
      "outputs": []
    },
    {
      "cell_type": "code",
      "source": [
        "df['twitts'] = df['twitts'].apply(lambda x: re.sub(r'(http|ftp|https)://([\\w_-]+(?:(?:\\.[\\w_-]+)+))([\\w.,@?^=%&:/~+#-]*[\\w@?^=%&/~+#-])?','',x))"
      ],
      "metadata": {
        "id": "KgaIeF2Cg5mY"
      },
      "execution_count": null,
      "outputs": []
    },
    {
      "cell_type": "code",
      "source": [
        "df.head()"
      ],
      "metadata": {
        "colab": {
          "base_uri": "https://localhost:8080/",
          "height": 206
        },
        "id": "Ak_BOMLkhOqw",
        "outputId": "c9e962fc-9534-4df8-d6f9-c2ee8d851e43"
      },
      "execution_count": null,
      "outputs": [
        {
          "output_type": "execute_result",
          "data": {
            "text/html": [
              "<div>\n",
              "<style scoped>\n",
              "    .dataframe tbody tr th:only-of-type {\n",
              "        vertical-align: middle;\n",
              "    }\n",
              "\n",
              "    .dataframe tbody tr th {\n",
              "        vertical-align: top;\n",
              "    }\n",
              "\n",
              "    .dataframe thead th {\n",
              "        text-align: right;\n",
              "    }\n",
              "</style>\n",
              "<table border=\"1\" class=\"dataframe\">\n",
              "  <thead>\n",
              "    <tr style=\"text-align: right;\">\n",
              "      <th></th>\n",
              "      <th>twitts</th>\n",
              "      <th>sentiment</th>\n",
              "      <th>word_counts</th>\n",
              "      <th>char_counts</th>\n",
              "      <th>avg_word_len</th>\n",
              "      <th>stop_words_len</th>\n",
              "      <th>hashtags_count</th>\n",
              "      <th>mentions_count</th>\n",
              "      <th>numerics_count</th>\n",
              "      <th>upper_counts</th>\n",
              "      <th>emails</th>\n",
              "      <th>emails_count</th>\n",
              "      <th>urls_flag</th>\n",
              "    </tr>\n",
              "  </thead>\n",
              "  <tbody>\n",
              "    <tr>\n",
              "      <th>0</th>\n",
              "      <td>@switchfoot  - awww, that has / that is a bumm...</td>\n",
              "      <td>0</td>\n",
              "      <td>19</td>\n",
              "      <td>115</td>\n",
              "      <td>5.052632</td>\n",
              "      <td>4</td>\n",
              "      <td>0</td>\n",
              "      <td>1</td>\n",
              "      <td>0</td>\n",
              "      <td>1</td>\n",
              "      <td>[]</td>\n",
              "      <td>0</td>\n",
              "      <td>1</td>\n",
              "    </tr>\n",
              "    <tr>\n",
              "      <th>1</th>\n",
              "      <td>is upset that he cannot update his facebook by...</td>\n",
              "      <td>0</td>\n",
              "      <td>21</td>\n",
              "      <td>111</td>\n",
              "      <td>4.285714</td>\n",
              "      <td>9</td>\n",
              "      <td>0</td>\n",
              "      <td>0</td>\n",
              "      <td>0</td>\n",
              "      <td>0</td>\n",
              "      <td>[]</td>\n",
              "      <td>0</td>\n",
              "      <td>0</td>\n",
              "    </tr>\n",
              "    <tr>\n",
              "      <th>2</th>\n",
              "      <td>@kenichan i dived many times for the ball. man...</td>\n",
              "      <td>0</td>\n",
              "      <td>18</td>\n",
              "      <td>89</td>\n",
              "      <td>3.944444</td>\n",
              "      <td>7</td>\n",
              "      <td>0</td>\n",
              "      <td>1</td>\n",
              "      <td>0</td>\n",
              "      <td>1</td>\n",
              "      <td>[]</td>\n",
              "      <td>0</td>\n",
              "      <td>0</td>\n",
              "    </tr>\n",
              "    <tr>\n",
              "      <th>3</th>\n",
              "      <td>my whole body feels itchy and like its on fire</td>\n",
              "      <td>0</td>\n",
              "      <td>10</td>\n",
              "      <td>47</td>\n",
              "      <td>3.700000</td>\n",
              "      <td>5</td>\n",
              "      <td>0</td>\n",
              "      <td>0</td>\n",
              "      <td>0</td>\n",
              "      <td>0</td>\n",
              "      <td>[]</td>\n",
              "      <td>0</td>\n",
              "      <td>0</td>\n",
              "    </tr>\n",
              "    <tr>\n",
              "      <th>4</th>\n",
              "      <td>@nationwideclass no, it has / it is not behavi...</td>\n",
              "      <td>0</td>\n",
              "      <td>21</td>\n",
              "      <td>111</td>\n",
              "      <td>4.285714</td>\n",
              "      <td>10</td>\n",
              "      <td>0</td>\n",
              "      <td>1</td>\n",
              "      <td>0</td>\n",
              "      <td>1</td>\n",
              "      <td>[]</td>\n",
              "      <td>0</td>\n",
              "      <td>0</td>\n",
              "    </tr>\n",
              "  </tbody>\n",
              "</table>\n",
              "</div>"
            ],
            "text/plain": [
              "                                              twitts  ...  urls_flag\n",
              "0  @switchfoot  - awww, that has / that is a bumm...  ...          1\n",
              "1  is upset that he cannot update his facebook by...  ...          0\n",
              "2  @kenichan i dived many times for the ball. man...  ...          0\n",
              "3    my whole body feels itchy and like its on fire   ...          0\n",
              "4  @nationwideclass no, it has / it is not behavi...  ...          0\n",
              "\n",
              "[5 rows x 13 columns]"
            ]
          },
          "metadata": {},
          "execution_count": 46
        }
      ]
    },
    {
      "cell_type": "code",
      "source": [
        "df.loc[0]['twitts']"
      ],
      "metadata": {
        "colab": {
          "base_uri": "https://localhost:8080/",
          "height": 35
        },
        "id": "isZh0BePhfDB",
        "outputId": "03859718-1761-46fe-b0bb-92b332201715"
      },
      "execution_count": null,
      "outputs": [
        {
          "output_type": "execute_result",
          "data": {
            "application/vnd.google.colaboratory.intrinsic+json": {
              "type": "string"
            },
            "text/plain": [
              "'@switchfoot  - awww, that has / that is a bummer.  you shoulda got david carr of third day to do it. ;d'"
            ]
          },
          "metadata": {},
          "execution_count": 47
        }
      ]
    },
    {
      "cell_type": "markdown",
      "source": [
        "###**Remove RT**"
      ],
      "metadata": {
        "id": "BsG-Yvynhsuv"
      }
    },
    {
      "cell_type": "code",
      "source": [
        "df['twitts'] = df['twitts'].apply(lambda x : re.sub('RT',\"\" ,x))"
      ],
      "metadata": {
        "id": "przzIci9h9GN"
      },
      "execution_count": null,
      "outputs": []
    },
    {
      "cell_type": "code",
      "source": [
        "df.head()"
      ],
      "metadata": {
        "colab": {
          "base_uri": "https://localhost:8080/",
          "height": 206
        },
        "id": "TOUeUE_NiYeU",
        "outputId": "484a976e-0466-4aa2-a9b2-d8623806cd3d"
      },
      "execution_count": null,
      "outputs": [
        {
          "output_type": "execute_result",
          "data": {
            "text/html": [
              "<div>\n",
              "<style scoped>\n",
              "    .dataframe tbody tr th:only-of-type {\n",
              "        vertical-align: middle;\n",
              "    }\n",
              "\n",
              "    .dataframe tbody tr th {\n",
              "        vertical-align: top;\n",
              "    }\n",
              "\n",
              "    .dataframe thead th {\n",
              "        text-align: right;\n",
              "    }\n",
              "</style>\n",
              "<table border=\"1\" class=\"dataframe\">\n",
              "  <thead>\n",
              "    <tr style=\"text-align: right;\">\n",
              "      <th></th>\n",
              "      <th>twitts</th>\n",
              "      <th>sentiment</th>\n",
              "      <th>word_counts</th>\n",
              "      <th>char_counts</th>\n",
              "      <th>avg_word_len</th>\n",
              "      <th>stop_words_len</th>\n",
              "      <th>hashtags_count</th>\n",
              "      <th>mentions_count</th>\n",
              "      <th>numerics_count</th>\n",
              "      <th>upper_counts</th>\n",
              "      <th>emails</th>\n",
              "      <th>emails_count</th>\n",
              "      <th>urls_flag</th>\n",
              "    </tr>\n",
              "  </thead>\n",
              "  <tbody>\n",
              "    <tr>\n",
              "      <th>0</th>\n",
              "      <td>@switchfoot  - awww, that has / that is a bumm...</td>\n",
              "      <td>0</td>\n",
              "      <td>19</td>\n",
              "      <td>115</td>\n",
              "      <td>5.052632</td>\n",
              "      <td>4</td>\n",
              "      <td>0</td>\n",
              "      <td>1</td>\n",
              "      <td>0</td>\n",
              "      <td>1</td>\n",
              "      <td>[]</td>\n",
              "      <td>0</td>\n",
              "      <td>1</td>\n",
              "    </tr>\n",
              "    <tr>\n",
              "      <th>1</th>\n",
              "      <td>is upset that he cannot update his facebook by...</td>\n",
              "      <td>0</td>\n",
              "      <td>21</td>\n",
              "      <td>111</td>\n",
              "      <td>4.285714</td>\n",
              "      <td>9</td>\n",
              "      <td>0</td>\n",
              "      <td>0</td>\n",
              "      <td>0</td>\n",
              "      <td>0</td>\n",
              "      <td>[]</td>\n",
              "      <td>0</td>\n",
              "      <td>0</td>\n",
              "    </tr>\n",
              "    <tr>\n",
              "      <th>2</th>\n",
              "      <td>@kenichan i dived many times for the ball. man...</td>\n",
              "      <td>0</td>\n",
              "      <td>18</td>\n",
              "      <td>89</td>\n",
              "      <td>3.944444</td>\n",
              "      <td>7</td>\n",
              "      <td>0</td>\n",
              "      <td>1</td>\n",
              "      <td>0</td>\n",
              "      <td>1</td>\n",
              "      <td>[]</td>\n",
              "      <td>0</td>\n",
              "      <td>0</td>\n",
              "    </tr>\n",
              "    <tr>\n",
              "      <th>3</th>\n",
              "      <td>my whole body feels itchy and like its on fire</td>\n",
              "      <td>0</td>\n",
              "      <td>10</td>\n",
              "      <td>47</td>\n",
              "      <td>3.700000</td>\n",
              "      <td>5</td>\n",
              "      <td>0</td>\n",
              "      <td>0</td>\n",
              "      <td>0</td>\n",
              "      <td>0</td>\n",
              "      <td>[]</td>\n",
              "      <td>0</td>\n",
              "      <td>0</td>\n",
              "    </tr>\n",
              "    <tr>\n",
              "      <th>4</th>\n",
              "      <td>@nationwideclass no, it has / it is not behavi...</td>\n",
              "      <td>0</td>\n",
              "      <td>21</td>\n",
              "      <td>111</td>\n",
              "      <td>4.285714</td>\n",
              "      <td>10</td>\n",
              "      <td>0</td>\n",
              "      <td>1</td>\n",
              "      <td>0</td>\n",
              "      <td>1</td>\n",
              "      <td>[]</td>\n",
              "      <td>0</td>\n",
              "      <td>0</td>\n",
              "    </tr>\n",
              "  </tbody>\n",
              "</table>\n",
              "</div>"
            ],
            "text/plain": [
              "                                              twitts  ...  urls_flag\n",
              "0  @switchfoot  - awww, that has / that is a bumm...  ...          1\n",
              "1  is upset that he cannot update his facebook by...  ...          0\n",
              "2  @kenichan i dived many times for the ball. man...  ...          0\n",
              "3    my whole body feels itchy and like its on fire   ...          0\n",
              "4  @nationwideclass no, it has / it is not behavi...  ...          0\n",
              "\n",
              "[5 rows x 13 columns]"
            ]
          },
          "metadata": {},
          "execution_count": 49
        }
      ]
    },
    {
      "cell_type": "markdown",
      "source": [
        "### **Remove Special Characters or Punctuation Removal**"
      ],
      "metadata": {
        "id": "hUAUS5bZielA"
      }
    },
    {
      "cell_type": "code",
      "source": [
        "df['twitts'] = df['twitts'].apply(lambda x : re.sub('[^A-Z a-z 0-9-]+', '' ,x))   "
      ],
      "metadata": {
        "id": "3KajeB4Finfj"
      },
      "execution_count": null,
      "outputs": []
    },
    {
      "cell_type": "code",
      "source": [
        "df.head()"
      ],
      "metadata": {
        "colab": {
          "base_uri": "https://localhost:8080/",
          "height": 206
        },
        "id": "R0cfqcBkjY0_",
        "outputId": "cd81b1a0-6f77-493c-939e-37d3c5902bf1"
      },
      "execution_count": null,
      "outputs": [
        {
          "output_type": "execute_result",
          "data": {
            "text/html": [
              "<div>\n",
              "<style scoped>\n",
              "    .dataframe tbody tr th:only-of-type {\n",
              "        vertical-align: middle;\n",
              "    }\n",
              "\n",
              "    .dataframe tbody tr th {\n",
              "        vertical-align: top;\n",
              "    }\n",
              "\n",
              "    .dataframe thead th {\n",
              "        text-align: right;\n",
              "    }\n",
              "</style>\n",
              "<table border=\"1\" class=\"dataframe\">\n",
              "  <thead>\n",
              "    <tr style=\"text-align: right;\">\n",
              "      <th></th>\n",
              "      <th>twitts</th>\n",
              "      <th>sentiment</th>\n",
              "      <th>word_counts</th>\n",
              "      <th>char_counts</th>\n",
              "      <th>avg_word_len</th>\n",
              "      <th>stop_words_len</th>\n",
              "      <th>hashtags_count</th>\n",
              "      <th>mentions_count</th>\n",
              "      <th>numerics_count</th>\n",
              "      <th>upper_counts</th>\n",
              "      <th>emails</th>\n",
              "      <th>emails_count</th>\n",
              "      <th>urls_flag</th>\n",
              "    </tr>\n",
              "  </thead>\n",
              "  <tbody>\n",
              "    <tr>\n",
              "      <th>0</th>\n",
              "      <td>switchfoot  - awww that has  that is a bummer ...</td>\n",
              "      <td>0</td>\n",
              "      <td>19</td>\n",
              "      <td>115</td>\n",
              "      <td>5.052632</td>\n",
              "      <td>4</td>\n",
              "      <td>0</td>\n",
              "      <td>1</td>\n",
              "      <td>0</td>\n",
              "      <td>1</td>\n",
              "      <td>[]</td>\n",
              "      <td>0</td>\n",
              "      <td>1</td>\n",
              "    </tr>\n",
              "    <tr>\n",
              "      <th>1</th>\n",
              "      <td>is upset that he cannot update his facebook by...</td>\n",
              "      <td>0</td>\n",
              "      <td>21</td>\n",
              "      <td>111</td>\n",
              "      <td>4.285714</td>\n",
              "      <td>9</td>\n",
              "      <td>0</td>\n",
              "      <td>0</td>\n",
              "      <td>0</td>\n",
              "      <td>0</td>\n",
              "      <td>[]</td>\n",
              "      <td>0</td>\n",
              "      <td>0</td>\n",
              "    </tr>\n",
              "    <tr>\n",
              "      <th>2</th>\n",
              "      <td>kenichan i dived many times for the ball manag...</td>\n",
              "      <td>0</td>\n",
              "      <td>18</td>\n",
              "      <td>89</td>\n",
              "      <td>3.944444</td>\n",
              "      <td>7</td>\n",
              "      <td>0</td>\n",
              "      <td>1</td>\n",
              "      <td>0</td>\n",
              "      <td>1</td>\n",
              "      <td>[]</td>\n",
              "      <td>0</td>\n",
              "      <td>0</td>\n",
              "    </tr>\n",
              "    <tr>\n",
              "      <th>3</th>\n",
              "      <td>my whole body feels itchy and like its on fire</td>\n",
              "      <td>0</td>\n",
              "      <td>10</td>\n",
              "      <td>47</td>\n",
              "      <td>3.700000</td>\n",
              "      <td>5</td>\n",
              "      <td>0</td>\n",
              "      <td>0</td>\n",
              "      <td>0</td>\n",
              "      <td>0</td>\n",
              "      <td>[]</td>\n",
              "      <td>0</td>\n",
              "      <td>0</td>\n",
              "    </tr>\n",
              "    <tr>\n",
              "      <th>4</th>\n",
              "      <td>nationwideclass no it has  it is not behaving ...</td>\n",
              "      <td>0</td>\n",
              "      <td>21</td>\n",
              "      <td>111</td>\n",
              "      <td>4.285714</td>\n",
              "      <td>10</td>\n",
              "      <td>0</td>\n",
              "      <td>1</td>\n",
              "      <td>0</td>\n",
              "      <td>1</td>\n",
              "      <td>[]</td>\n",
              "      <td>0</td>\n",
              "      <td>0</td>\n",
              "    </tr>\n",
              "  </tbody>\n",
              "</table>\n",
              "</div>"
            ],
            "text/plain": [
              "                                              twitts  ...  urls_flag\n",
              "0  switchfoot  - awww that has  that is a bummer ...  ...          1\n",
              "1  is upset that he cannot update his facebook by...  ...          0\n",
              "2  kenichan i dived many times for the ball manag...  ...          0\n",
              "3    my whole body feels itchy and like its on fire   ...          0\n",
              "4  nationwideclass no it has  it is not behaving ...  ...          0\n",
              "\n",
              "[5 rows x 13 columns]"
            ]
          },
          "metadata": {},
          "execution_count": 51
        }
      ]
    },
    {
      "cell_type": "markdown",
      "source": [
        "### **Remove multiple spaces** \n",
        "\n"
      ],
      "metadata": {
        "id": "TGEGJJs9kYkF"
      }
    },
    {
      "cell_type": "code",
      "source": [
        "df['twitts'] = df['twitts'].apply(lambda x : \" \".join(x.split()))"
      ],
      "metadata": {
        "id": "agv9Zs3MlCX4"
      },
      "execution_count": null,
      "outputs": []
    },
    {
      "cell_type": "code",
      "source": [
        "df.head()"
      ],
      "metadata": {
        "colab": {
          "base_uri": "https://localhost:8080/",
          "height": 206
        },
        "id": "oM_KbH7olDN2",
        "outputId": "56072746-0dc3-4fd6-b004-31c0c72343a6"
      },
      "execution_count": null,
      "outputs": [
        {
          "output_type": "execute_result",
          "data": {
            "text/html": [
              "<div>\n",
              "<style scoped>\n",
              "    .dataframe tbody tr th:only-of-type {\n",
              "        vertical-align: middle;\n",
              "    }\n",
              "\n",
              "    .dataframe tbody tr th {\n",
              "        vertical-align: top;\n",
              "    }\n",
              "\n",
              "    .dataframe thead th {\n",
              "        text-align: right;\n",
              "    }\n",
              "</style>\n",
              "<table border=\"1\" class=\"dataframe\">\n",
              "  <thead>\n",
              "    <tr style=\"text-align: right;\">\n",
              "      <th></th>\n",
              "      <th>twitts</th>\n",
              "      <th>sentiment</th>\n",
              "      <th>word_counts</th>\n",
              "      <th>char_counts</th>\n",
              "      <th>avg_word_len</th>\n",
              "      <th>stop_words_len</th>\n",
              "      <th>hashtags_count</th>\n",
              "      <th>mentions_count</th>\n",
              "      <th>numerics_count</th>\n",
              "      <th>upper_counts</th>\n",
              "      <th>emails</th>\n",
              "      <th>emails_count</th>\n",
              "      <th>urls_flag</th>\n",
              "    </tr>\n",
              "  </thead>\n",
              "  <tbody>\n",
              "    <tr>\n",
              "      <th>0</th>\n",
              "      <td>switchfoot - awww that has that is a bummer yo...</td>\n",
              "      <td>0</td>\n",
              "      <td>19</td>\n",
              "      <td>115</td>\n",
              "      <td>5.052632</td>\n",
              "      <td>4</td>\n",
              "      <td>0</td>\n",
              "      <td>1</td>\n",
              "      <td>0</td>\n",
              "      <td>1</td>\n",
              "      <td>[]</td>\n",
              "      <td>0</td>\n",
              "      <td>1</td>\n",
              "    </tr>\n",
              "    <tr>\n",
              "      <th>1</th>\n",
              "      <td>is upset that he cannot update his facebook by...</td>\n",
              "      <td>0</td>\n",
              "      <td>21</td>\n",
              "      <td>111</td>\n",
              "      <td>4.285714</td>\n",
              "      <td>9</td>\n",
              "      <td>0</td>\n",
              "      <td>0</td>\n",
              "      <td>0</td>\n",
              "      <td>0</td>\n",
              "      <td>[]</td>\n",
              "      <td>0</td>\n",
              "      <td>0</td>\n",
              "    </tr>\n",
              "    <tr>\n",
              "      <th>2</th>\n",
              "      <td>kenichan i dived many times for the ball manag...</td>\n",
              "      <td>0</td>\n",
              "      <td>18</td>\n",
              "      <td>89</td>\n",
              "      <td>3.944444</td>\n",
              "      <td>7</td>\n",
              "      <td>0</td>\n",
              "      <td>1</td>\n",
              "      <td>0</td>\n",
              "      <td>1</td>\n",
              "      <td>[]</td>\n",
              "      <td>0</td>\n",
              "      <td>0</td>\n",
              "    </tr>\n",
              "    <tr>\n",
              "      <th>3</th>\n",
              "      <td>my whole body feels itchy and like its on fire</td>\n",
              "      <td>0</td>\n",
              "      <td>10</td>\n",
              "      <td>47</td>\n",
              "      <td>3.700000</td>\n",
              "      <td>5</td>\n",
              "      <td>0</td>\n",
              "      <td>0</td>\n",
              "      <td>0</td>\n",
              "      <td>0</td>\n",
              "      <td>[]</td>\n",
              "      <td>0</td>\n",
              "      <td>0</td>\n",
              "    </tr>\n",
              "    <tr>\n",
              "      <th>4</th>\n",
              "      <td>nationwideclass no it has it is not behaving a...</td>\n",
              "      <td>0</td>\n",
              "      <td>21</td>\n",
              "      <td>111</td>\n",
              "      <td>4.285714</td>\n",
              "      <td>10</td>\n",
              "      <td>0</td>\n",
              "      <td>1</td>\n",
              "      <td>0</td>\n",
              "      <td>1</td>\n",
              "      <td>[]</td>\n",
              "      <td>0</td>\n",
              "      <td>0</td>\n",
              "    </tr>\n",
              "  </tbody>\n",
              "</table>\n",
              "</div>"
            ],
            "text/plain": [
              "                                              twitts  ...  urls_flag\n",
              "0  switchfoot - awww that has that is a bummer yo...  ...          1\n",
              "1  is upset that he cannot update his facebook by...  ...          0\n",
              "2  kenichan i dived many times for the ball manag...  ...          0\n",
              "3     my whole body feels itchy and like its on fire  ...          0\n",
              "4  nationwideclass no it has it is not behaving a...  ...          0\n",
              "\n",
              "[5 rows x 13 columns]"
            ]
          },
          "metadata": {},
          "execution_count": 53
        }
      ]
    },
    {
      "cell_type": "markdown",
      "source": [
        "### **Remove HTML tags**"
      ],
      "metadata": {
        "id": "iX0ZdvDQl218"
      }
    },
    {
      "cell_type": "code",
      "source": [
        "from bs4 import BeautifulSoup"
      ],
      "metadata": {
        "id": "xlMh9Wbul8Xv"
      },
      "execution_count": null,
      "outputs": []
    },
    {
      "cell_type": "code",
      "source": [
        "%%time\n",
        "# commenting as it is taking long to compile\n",
        "# df['twitts'] = df['twitts'].apply(lambda x : BeautifulSoup(x, 'lxml').get_text())"
      ],
      "metadata": {
        "colab": {
          "base_uri": "https://localhost:8080/"
        },
        "id": "6zZiq55cmusP",
        "outputId": "a6f5e1ec-3544-4f69-afd8-75f0b26e889a"
      },
      "execution_count": null,
      "outputs": [
        {
          "output_type": "stream",
          "name": "stdout",
          "text": [
            "CPU times: user 2 µs, sys: 0 ns, total: 2 µs\n",
            "Wall time: 5.72 µs\n"
          ]
        }
      ]
    },
    {
      "cell_type": "markdown",
      "source": [
        "### **Remove Accented Characters**"
      ],
      "metadata": {
        "id": "RHOeBkHKntzc"
      }
    },
    {
      "cell_type": "code",
      "source": [
        "import unicodedata"
      ],
      "metadata": {
        "id": "B8MVCekxocRc"
      },
      "execution_count": null,
      "outputs": []
    },
    {
      "cell_type": "code",
      "source": [
        "def remove_accented_chars(x): \n",
        "  x = unicodedata.normalize('NFKD', x).encode('ascii', 'ignore').decode('utf-8', 'ignore')\n",
        "  return x"
      ],
      "metadata": {
        "id": "ZWOBZYFzpSkK"
      },
      "execution_count": null,
      "outputs": []
    },
    {
      "cell_type": "code",
      "source": [
        "df['twitts'] = df['twitts'].apply(lambda x : remove_accented_chars(x))"
      ],
      "metadata": {
        "id": "DV1zcUYJqpwa"
      },
      "execution_count": null,
      "outputs": []
    },
    {
      "cell_type": "code",
      "source": [
        "df.head()"
      ],
      "metadata": {
        "colab": {
          "base_uri": "https://localhost:8080/",
          "height": 206
        },
        "id": "dKoMXBNMq13L",
        "outputId": "f6b5ea7a-ac51-432f-c6e8-7f299a5854eb"
      },
      "execution_count": null,
      "outputs": [
        {
          "output_type": "execute_result",
          "data": {
            "text/html": [
              "<div>\n",
              "<style scoped>\n",
              "    .dataframe tbody tr th:only-of-type {\n",
              "        vertical-align: middle;\n",
              "    }\n",
              "\n",
              "    .dataframe tbody tr th {\n",
              "        vertical-align: top;\n",
              "    }\n",
              "\n",
              "    .dataframe thead th {\n",
              "        text-align: right;\n",
              "    }\n",
              "</style>\n",
              "<table border=\"1\" class=\"dataframe\">\n",
              "  <thead>\n",
              "    <tr style=\"text-align: right;\">\n",
              "      <th></th>\n",
              "      <th>twitts</th>\n",
              "      <th>sentiment</th>\n",
              "      <th>word_counts</th>\n",
              "      <th>char_counts</th>\n",
              "      <th>avg_word_len</th>\n",
              "      <th>stop_words_len</th>\n",
              "      <th>hashtags_count</th>\n",
              "      <th>mentions_count</th>\n",
              "      <th>numerics_count</th>\n",
              "      <th>upper_counts</th>\n",
              "      <th>emails</th>\n",
              "      <th>emails_count</th>\n",
              "      <th>urls_flag</th>\n",
              "    </tr>\n",
              "  </thead>\n",
              "  <tbody>\n",
              "    <tr>\n",
              "      <th>0</th>\n",
              "      <td>switchfoot - awww that has that is a bummer yo...</td>\n",
              "      <td>0</td>\n",
              "      <td>19</td>\n",
              "      <td>115</td>\n",
              "      <td>5.052632</td>\n",
              "      <td>4</td>\n",
              "      <td>0</td>\n",
              "      <td>1</td>\n",
              "      <td>0</td>\n",
              "      <td>1</td>\n",
              "      <td>[]</td>\n",
              "      <td>0</td>\n",
              "      <td>1</td>\n",
              "    </tr>\n",
              "    <tr>\n",
              "      <th>1</th>\n",
              "      <td>is upset that he cannot update his facebook by...</td>\n",
              "      <td>0</td>\n",
              "      <td>21</td>\n",
              "      <td>111</td>\n",
              "      <td>4.285714</td>\n",
              "      <td>9</td>\n",
              "      <td>0</td>\n",
              "      <td>0</td>\n",
              "      <td>0</td>\n",
              "      <td>0</td>\n",
              "      <td>[]</td>\n",
              "      <td>0</td>\n",
              "      <td>0</td>\n",
              "    </tr>\n",
              "    <tr>\n",
              "      <th>2</th>\n",
              "      <td>kenichan i dived many times for the ball manag...</td>\n",
              "      <td>0</td>\n",
              "      <td>18</td>\n",
              "      <td>89</td>\n",
              "      <td>3.944444</td>\n",
              "      <td>7</td>\n",
              "      <td>0</td>\n",
              "      <td>1</td>\n",
              "      <td>0</td>\n",
              "      <td>1</td>\n",
              "      <td>[]</td>\n",
              "      <td>0</td>\n",
              "      <td>0</td>\n",
              "    </tr>\n",
              "    <tr>\n",
              "      <th>3</th>\n",
              "      <td>my whole body feels itchy and like its on fire</td>\n",
              "      <td>0</td>\n",
              "      <td>10</td>\n",
              "      <td>47</td>\n",
              "      <td>3.700000</td>\n",
              "      <td>5</td>\n",
              "      <td>0</td>\n",
              "      <td>0</td>\n",
              "      <td>0</td>\n",
              "      <td>0</td>\n",
              "      <td>[]</td>\n",
              "      <td>0</td>\n",
              "      <td>0</td>\n",
              "    </tr>\n",
              "    <tr>\n",
              "      <th>4</th>\n",
              "      <td>nationwideclass no it has it is not behaving a...</td>\n",
              "      <td>0</td>\n",
              "      <td>21</td>\n",
              "      <td>111</td>\n",
              "      <td>4.285714</td>\n",
              "      <td>10</td>\n",
              "      <td>0</td>\n",
              "      <td>1</td>\n",
              "      <td>0</td>\n",
              "      <td>1</td>\n",
              "      <td>[]</td>\n",
              "      <td>0</td>\n",
              "      <td>0</td>\n",
              "    </tr>\n",
              "  </tbody>\n",
              "</table>\n",
              "</div>"
            ],
            "text/plain": [
              "                                              twitts  ...  urls_flag\n",
              "0  switchfoot - awww that has that is a bummer yo...  ...          1\n",
              "1  is upset that he cannot update his facebook by...  ...          0\n",
              "2  kenichan i dived many times for the ball manag...  ...          0\n",
              "3     my whole body feels itchy and like its on fire  ...          0\n",
              "4  nationwideclass no it has it is not behaving a...  ...          0\n",
              "\n",
              "[5 rows x 13 columns]"
            ]
          },
          "metadata": {},
          "execution_count": 59
        }
      ]
    },
    {
      "cell_type": "markdown",
      "source": [
        "## **SpaCy and NLP**"
      ],
      "metadata": {
        "id": "ES49hhEiq9M7"
      }
    },
    {
      "cell_type": "markdown",
      "source": [
        "###**Remove Stop Words**"
      ],
      "metadata": {
        "id": "-Y1-jpztrI2u"
      }
    },
    {
      "cell_type": "code",
      "source": [
        "df['twitts'] = df['twitts'].apply(lambda x :\" \".join([t for t in x.split() if t not in STOP_WORDS]))"
      ],
      "metadata": {
        "id": "NKgsSNvorN8G"
      },
      "execution_count": null,
      "outputs": []
    },
    {
      "cell_type": "code",
      "source": [
        "df.head()"
      ],
      "metadata": {
        "colab": {
          "base_uri": "https://localhost:8080/",
          "height": 206
        },
        "id": "28W4_PXBrz6L",
        "outputId": "f1447035-554f-43d5-9656-8d53aa4fca91"
      },
      "execution_count": null,
      "outputs": [
        {
          "output_type": "execute_result",
          "data": {
            "text/html": [
              "<div>\n",
              "<style scoped>\n",
              "    .dataframe tbody tr th:only-of-type {\n",
              "        vertical-align: middle;\n",
              "    }\n",
              "\n",
              "    .dataframe tbody tr th {\n",
              "        vertical-align: top;\n",
              "    }\n",
              "\n",
              "    .dataframe thead th {\n",
              "        text-align: right;\n",
              "    }\n",
              "</style>\n",
              "<table border=\"1\" class=\"dataframe\">\n",
              "  <thead>\n",
              "    <tr style=\"text-align: right;\">\n",
              "      <th></th>\n",
              "      <th>twitts</th>\n",
              "      <th>sentiment</th>\n",
              "      <th>word_counts</th>\n",
              "      <th>char_counts</th>\n",
              "      <th>avg_word_len</th>\n",
              "      <th>stop_words_len</th>\n",
              "      <th>hashtags_count</th>\n",
              "      <th>mentions_count</th>\n",
              "      <th>numerics_count</th>\n",
              "      <th>upper_counts</th>\n",
              "      <th>emails</th>\n",
              "      <th>emails_count</th>\n",
              "      <th>urls_flag</th>\n",
              "    </tr>\n",
              "  </thead>\n",
              "  <tbody>\n",
              "    <tr>\n",
              "      <th>0</th>\n",
              "      <td>switchfoot - awww bummer shoulda got david car...</td>\n",
              "      <td>0</td>\n",
              "      <td>19</td>\n",
              "      <td>115</td>\n",
              "      <td>5.052632</td>\n",
              "      <td>4</td>\n",
              "      <td>0</td>\n",
              "      <td>1</td>\n",
              "      <td>0</td>\n",
              "      <td>1</td>\n",
              "      <td>[]</td>\n",
              "      <td>0</td>\n",
              "      <td>1</td>\n",
              "    </tr>\n",
              "    <tr>\n",
              "      <th>1</th>\n",
              "      <td>upset update facebook texting cry result schoo...</td>\n",
              "      <td>0</td>\n",
              "      <td>21</td>\n",
              "      <td>111</td>\n",
              "      <td>4.285714</td>\n",
              "      <td>9</td>\n",
              "      <td>0</td>\n",
              "      <td>0</td>\n",
              "      <td>0</td>\n",
              "      <td>0</td>\n",
              "      <td>[]</td>\n",
              "      <td>0</td>\n",
              "      <td>0</td>\n",
              "    </tr>\n",
              "    <tr>\n",
              "      <th>2</th>\n",
              "      <td>kenichan dived times ball managed save 50 rest...</td>\n",
              "      <td>0</td>\n",
              "      <td>18</td>\n",
              "      <td>89</td>\n",
              "      <td>3.944444</td>\n",
              "      <td>7</td>\n",
              "      <td>0</td>\n",
              "      <td>1</td>\n",
              "      <td>0</td>\n",
              "      <td>1</td>\n",
              "      <td>[]</td>\n",
              "      <td>0</td>\n",
              "      <td>0</td>\n",
              "    </tr>\n",
              "    <tr>\n",
              "      <th>3</th>\n",
              "      <td>body feels itchy like fire</td>\n",
              "      <td>0</td>\n",
              "      <td>10</td>\n",
              "      <td>47</td>\n",
              "      <td>3.700000</td>\n",
              "      <td>5</td>\n",
              "      <td>0</td>\n",
              "      <td>0</td>\n",
              "      <td>0</td>\n",
              "      <td>0</td>\n",
              "      <td>[]</td>\n",
              "      <td>0</td>\n",
              "      <td>0</td>\n",
              "    </tr>\n",
              "    <tr>\n",
              "      <th>4</th>\n",
              "      <td>nationwideclass behaving mad</td>\n",
              "      <td>0</td>\n",
              "      <td>21</td>\n",
              "      <td>111</td>\n",
              "      <td>4.285714</td>\n",
              "      <td>10</td>\n",
              "      <td>0</td>\n",
              "      <td>1</td>\n",
              "      <td>0</td>\n",
              "      <td>1</td>\n",
              "      <td>[]</td>\n",
              "      <td>0</td>\n",
              "      <td>0</td>\n",
              "    </tr>\n",
              "  </tbody>\n",
              "</table>\n",
              "</div>"
            ],
            "text/plain": [
              "                                              twitts  ...  urls_flag\n",
              "0  switchfoot - awww bummer shoulda got david car...  ...          1\n",
              "1  upset update facebook texting cry result schoo...  ...          0\n",
              "2  kenichan dived times ball managed save 50 rest...  ...          0\n",
              "3                         body feels itchy like fire  ...          0\n",
              "4                       nationwideclass behaving mad  ...          0\n",
              "\n",
              "[5 rows x 13 columns]"
            ]
          },
          "metadata": {},
          "execution_count": 61
        }
      ]
    },
    {
      "cell_type": "markdown",
      "source": [
        "### **Convert into root or base form of word**"
      ],
      "metadata": {
        "id": "yY5As7Vur_L9"
      }
    },
    {
      "cell_type": "code",
      "source": [
        "nlp = spacy.load('en_core_web_sm')"
      ],
      "metadata": {
        "id": "nd-QUcHisJ65"
      },
      "execution_count": null,
      "outputs": []
    },
    {
      "cell_type": "code",
      "source": [
        "x= 'kenichan dived times ball managed save 50 rest'"
      ],
      "metadata": {
        "id": "2VZ9aCu8tPP_"
      },
      "execution_count": null,
      "outputs": []
    },
    {
      "cell_type": "code",
      "source": [
        "def make_to_base(x):\n",
        "  x_list = []\n",
        "  doc = nlp(x)\n",
        "\n",
        "  for token in doc:\n",
        "    lemma = str(token.lemma_)\n",
        "    if lemma == '-PRON-' or lemma == 'be' :\n",
        "      lemma = token.text\n",
        "    x_list.append(lemma)\n",
        "  print(\" \".join(x_list))\n"
      ],
      "metadata": {
        "id": "8bKOnijasfUZ"
      },
      "execution_count": null,
      "outputs": []
    },
    {
      "cell_type": "code",
      "source": [
        "# make_to_base(x)"
      ],
      "metadata": {
        "id": "K0Sh8wHrtcJ8"
      },
      "execution_count": null,
      "outputs": []
    },
    {
      "cell_type": "code",
      "source": [
        "# I am commenting this as it will take to long too compile\n",
        "# df['twitts'] = df['twitts'].apply(lambda x : make_to_base(x))"
      ],
      "metadata": {
        "id": "6pCn21PiurwC"
      },
      "execution_count": null,
      "outputs": []
    },
    {
      "cell_type": "markdown",
      "source": [
        "### **Common words removal**"
      ],
      "metadata": {
        "id": "EnTk6CbEvZ6I"
      }
    },
    {
      "cell_type": "code",
      "source": [
        "df.head()['twitts']"
      ],
      "metadata": {
        "colab": {
          "base_uri": "https://localhost:8080/"
        },
        "id": "5dgZJt4Oa_rg",
        "outputId": "5fb98482-ddcb-4584-a830-c728a20bab90"
      },
      "execution_count": null,
      "outputs": [
        {
          "output_type": "execute_result",
          "data": {
            "text/plain": [
              "0    switchfoot - awww bummer shoulda got david car...\n",
              "1    upset update facebook texting cry result schoo...\n",
              "2    kenichan dived times ball managed save 50 rest...\n",
              "3                           body feels itchy like fire\n",
              "4                         nationwideclass behaving mad\n",
              "Name: twitts, dtype: object"
            ]
          },
          "metadata": {},
          "execution_count": 67
        }
      ]
    },
    {
      "cell_type": "code",
      "source": [
        "' '.join(df.head()['twitts'])"
      ],
      "metadata": {
        "id": "XPD5rB-d2EYB",
        "colab": {
          "base_uri": "https://localhost:8080/",
          "height": 35
        },
        "outputId": "a943cba9-1315-4e64-9650-cd67b15fdb56"
      },
      "execution_count": null,
      "outputs": [
        {
          "output_type": "execute_result",
          "data": {
            "application/vnd.google.colaboratory.intrinsic+json": {
              "type": "string"
            },
            "text/plain": [
              "'switchfoot - awww bummer shoulda got david carr day d upset update facebook texting cry result school today blah kenichan dived times ball managed save 50 rest bounds body feels itchy like fire nationwideclass behaving mad'"
            ]
          },
          "metadata": {},
          "execution_count": 68
        }
      ]
    },
    {
      "cell_type": "code",
      "source": [
        "text = ' '.join(df['twitts'])\n",
        "text = text.split()\n",
        "freq_comm = pd.Series(text).value_counts()"
      ],
      "metadata": {
        "id": "zJGObHtsZhQO"
      },
      "execution_count": null,
      "outputs": []
    },
    {
      "cell_type": "code",
      "source": [
        "freq_comm"
      ],
      "metadata": {
        "colab": {
          "base_uri": "https://localhost:8080/"
        },
        "id": "OX7rTtHSaGBn",
        "outputId": "2d2044bf-8221-428a-e14f-9b62ed9f26c2"
      },
      "execution_count": null,
      "outputs": [
        {
          "output_type": "execute_result",
          "data": {
            "text/plain": [
              "good              89366\n",
              "day               82299\n",
              "like              77735\n",
              "-                 69662\n",
              "today             64512\n",
              "                  ...  \n",
              "matty500              1\n",
              "fernandodl            1\n",
              "j0rdan                1\n",
              "allesinderwelt        1\n",
              "psstthink             1\n",
              "Length: 787042, dtype: int64"
            ]
          },
          "metadata": {},
          "execution_count": 70
        }
      ]
    },
    {
      "cell_type": "code",
      "source": [
        "f20 = freq_comm[:20]\n",
        "f20"
      ],
      "metadata": {
        "colab": {
          "base_uri": "https://localhost:8080/"
        },
        "id": "a8PVGaCPbpsD",
        "outputId": "b8713d1e-5ac3-4c66-e7ff-36eb394023a4"
      },
      "execution_count": null,
      "outputs": [
        {
          "output_type": "execute_result",
          "data": {
            "text/plain": [
              "good      89366\n",
              "day       82299\n",
              "like      77735\n",
              "-         69662\n",
              "today     64512\n",
              "going     64078\n",
              "love      63421\n",
              "work      62804\n",
              "got       60749\n",
              "time      56081\n",
              "lol       55094\n",
              "u         52833\n",
              "know      51172\n",
              "im        50147\n",
              "want      42070\n",
              "new       41995\n",
              "think     41040\n",
              "night     41029\n",
              "amp       40616\n",
              "thanks    39311\n",
              "dtype: int64"
            ]
          },
          "metadata": {},
          "execution_count": 71
        }
      ]
    },
    {
      "cell_type": "code",
      "source": [
        "df['twitts'] = df['twitts'].apply(lambda x : \" \".join([t for t in x.split() if t not in f20]))"
      ],
      "metadata": {
        "id": "HmZOji5TcUAZ"
      },
      "execution_count": null,
      "outputs": []
    },
    {
      "cell_type": "code",
      "source": [
        "df.head()"
      ],
      "metadata": {
        "colab": {
          "base_uri": "https://localhost:8080/",
          "height": 206
        },
        "id": "tvljjxA5dEQB",
        "outputId": "9355280f-eb53-4bae-d6a5-25aad19fd2e5"
      },
      "execution_count": null,
      "outputs": [
        {
          "output_type": "execute_result",
          "data": {
            "text/html": [
              "<div>\n",
              "<style scoped>\n",
              "    .dataframe tbody tr th:only-of-type {\n",
              "        vertical-align: middle;\n",
              "    }\n",
              "\n",
              "    .dataframe tbody tr th {\n",
              "        vertical-align: top;\n",
              "    }\n",
              "\n",
              "    .dataframe thead th {\n",
              "        text-align: right;\n",
              "    }\n",
              "</style>\n",
              "<table border=\"1\" class=\"dataframe\">\n",
              "  <thead>\n",
              "    <tr style=\"text-align: right;\">\n",
              "      <th></th>\n",
              "      <th>twitts</th>\n",
              "      <th>sentiment</th>\n",
              "      <th>word_counts</th>\n",
              "      <th>char_counts</th>\n",
              "      <th>avg_word_len</th>\n",
              "      <th>stop_words_len</th>\n",
              "      <th>hashtags_count</th>\n",
              "      <th>mentions_count</th>\n",
              "      <th>numerics_count</th>\n",
              "      <th>upper_counts</th>\n",
              "      <th>emails</th>\n",
              "      <th>emails_count</th>\n",
              "      <th>urls_flag</th>\n",
              "    </tr>\n",
              "  </thead>\n",
              "  <tbody>\n",
              "    <tr>\n",
              "      <th>0</th>\n",
              "      <td>switchfoot awww bummer shoulda david carr d</td>\n",
              "      <td>0</td>\n",
              "      <td>19</td>\n",
              "      <td>115</td>\n",
              "      <td>5.052632</td>\n",
              "      <td>4</td>\n",
              "      <td>0</td>\n",
              "      <td>1</td>\n",
              "      <td>0</td>\n",
              "      <td>1</td>\n",
              "      <td>[]</td>\n",
              "      <td>0</td>\n",
              "      <td>1</td>\n",
              "    </tr>\n",
              "    <tr>\n",
              "      <th>1</th>\n",
              "      <td>upset update facebook texting cry result schoo...</td>\n",
              "      <td>0</td>\n",
              "      <td>21</td>\n",
              "      <td>111</td>\n",
              "      <td>4.285714</td>\n",
              "      <td>9</td>\n",
              "      <td>0</td>\n",
              "      <td>0</td>\n",
              "      <td>0</td>\n",
              "      <td>0</td>\n",
              "      <td>[]</td>\n",
              "      <td>0</td>\n",
              "      <td>0</td>\n",
              "    </tr>\n",
              "    <tr>\n",
              "      <th>2</th>\n",
              "      <td>kenichan dived times ball managed save 50 rest...</td>\n",
              "      <td>0</td>\n",
              "      <td>18</td>\n",
              "      <td>89</td>\n",
              "      <td>3.944444</td>\n",
              "      <td>7</td>\n",
              "      <td>0</td>\n",
              "      <td>1</td>\n",
              "      <td>0</td>\n",
              "      <td>1</td>\n",
              "      <td>[]</td>\n",
              "      <td>0</td>\n",
              "      <td>0</td>\n",
              "    </tr>\n",
              "    <tr>\n",
              "      <th>3</th>\n",
              "      <td>body feels itchy fire</td>\n",
              "      <td>0</td>\n",
              "      <td>10</td>\n",
              "      <td>47</td>\n",
              "      <td>3.700000</td>\n",
              "      <td>5</td>\n",
              "      <td>0</td>\n",
              "      <td>0</td>\n",
              "      <td>0</td>\n",
              "      <td>0</td>\n",
              "      <td>[]</td>\n",
              "      <td>0</td>\n",
              "      <td>0</td>\n",
              "    </tr>\n",
              "    <tr>\n",
              "      <th>4</th>\n",
              "      <td>nationwideclass behaving mad</td>\n",
              "      <td>0</td>\n",
              "      <td>21</td>\n",
              "      <td>111</td>\n",
              "      <td>4.285714</td>\n",
              "      <td>10</td>\n",
              "      <td>0</td>\n",
              "      <td>1</td>\n",
              "      <td>0</td>\n",
              "      <td>1</td>\n",
              "      <td>[]</td>\n",
              "      <td>0</td>\n",
              "      <td>0</td>\n",
              "    </tr>\n",
              "  </tbody>\n",
              "</table>\n",
              "</div>"
            ],
            "text/plain": [
              "                                              twitts  ...  urls_flag\n",
              "0        switchfoot awww bummer shoulda david carr d  ...          1\n",
              "1  upset update facebook texting cry result schoo...  ...          0\n",
              "2  kenichan dived times ball managed save 50 rest...  ...          0\n",
              "3                              body feels itchy fire  ...          0\n",
              "4                       nationwideclass behaving mad  ...          0\n",
              "\n",
              "[5 rows x 13 columns]"
            ]
          },
          "metadata": {},
          "execution_count": 73
        }
      ]
    },
    {
      "cell_type": "markdown",
      "source": [
        "### **Removing rare words**"
      ],
      "metadata": {
        "id": "V3C5KIwMdKMk"
      }
    },
    {
      "cell_type": "code",
      "source": [
        "rare20 = freq_comm[-20:]\n",
        "rare20"
      ],
      "metadata": {
        "colab": {
          "base_uri": "https://localhost:8080/"
        },
        "id": "zkALJa_KdYS2",
        "outputId": "8d22af45-5095-4fce-a4ab-12d8b5452c67"
      },
      "execution_count": null,
      "outputs": [
        {
          "output_type": "execute_result",
          "data": {
            "text/plain": [
              "wullah             1\n",
              "grrrind            1\n",
              "msingcalifornia    1\n",
              "bearworld          1\n",
              "flintstonesyup     1\n",
              "alwd               1\n",
              "kricbradley        1\n",
              "tryingtoohard      1\n",
              "ilovechuckbass     1\n",
              "2465               1\n",
              "parafield          1\n",
              "fixednow           1\n",
              "girlfriendwhat     1\n",
              "palatino           1\n",
              "goingwonderful     1\n",
              "matty500           1\n",
              "fernandodl         1\n",
              "j0rdan             1\n",
              "allesinderwelt     1\n",
              "psstthink          1\n",
              "dtype: int64"
            ]
          },
          "metadata": {},
          "execution_count": 74
        }
      ]
    },
    {
      "cell_type": "code",
      "source": [
        "rare = freq_comm[freq_comm.values == 1]\n",
        "rare"
      ],
      "metadata": {
        "colab": {
          "base_uri": "https://localhost:8080/"
        },
        "id": "xrerpdH3edcm",
        "outputId": "28f12a24-ce9b-41cc-cf25-22e6d4bcad68"
      },
      "execution_count": null,
      "outputs": [
        {
          "output_type": "execute_result",
          "data": {
            "text/plain": [
              "yixq               1\n",
              "tonightsomebody    1\n",
              "drdave427          1\n",
              "rodbegbie          1\n",
              "daygoodnite        1\n",
              "                  ..\n",
              "matty500           1\n",
              "fernandodl         1\n",
              "j0rdan             1\n",
              "allesinderwelt     1\n",
              "psstthink          1\n",
              "Length: 535889, dtype: int64"
            ]
          },
          "metadata": {},
          "execution_count": 75
        }
      ]
    },
    {
      "cell_type": "markdown",
      "source": [
        ""
      ],
      "metadata": {
        "id": "TlHaWLUye3OL"
      }
    },
    {
      "cell_type": "code",
      "source": [
        "df['twitts'] = df['twitts'].apply(lambda x: \" \".join([t for t in x.split() if t not in rare20]))"
      ],
      "metadata": {
        "id": "rDovFxOHe4qX"
      },
      "execution_count": null,
      "outputs": []
    },
    {
      "cell_type": "code",
      "source": [
        "df.head()"
      ],
      "metadata": {
        "colab": {
          "base_uri": "https://localhost:8080/",
          "height": 206
        },
        "id": "q8jf1wvzfQlq",
        "outputId": "ab479ce0-bc87-4105-ef5a-23ef69fc4813"
      },
      "execution_count": null,
      "outputs": [
        {
          "output_type": "execute_result",
          "data": {
            "text/html": [
              "<div>\n",
              "<style scoped>\n",
              "    .dataframe tbody tr th:only-of-type {\n",
              "        vertical-align: middle;\n",
              "    }\n",
              "\n",
              "    .dataframe tbody tr th {\n",
              "        vertical-align: top;\n",
              "    }\n",
              "\n",
              "    .dataframe thead th {\n",
              "        text-align: right;\n",
              "    }\n",
              "</style>\n",
              "<table border=\"1\" class=\"dataframe\">\n",
              "  <thead>\n",
              "    <tr style=\"text-align: right;\">\n",
              "      <th></th>\n",
              "      <th>twitts</th>\n",
              "      <th>sentiment</th>\n",
              "      <th>word_counts</th>\n",
              "      <th>char_counts</th>\n",
              "      <th>avg_word_len</th>\n",
              "      <th>stop_words_len</th>\n",
              "      <th>hashtags_count</th>\n",
              "      <th>mentions_count</th>\n",
              "      <th>numerics_count</th>\n",
              "      <th>upper_counts</th>\n",
              "      <th>emails</th>\n",
              "      <th>emails_count</th>\n",
              "      <th>urls_flag</th>\n",
              "    </tr>\n",
              "  </thead>\n",
              "  <tbody>\n",
              "    <tr>\n",
              "      <th>0</th>\n",
              "      <td>switchfoot awww bummer shoulda david carr d</td>\n",
              "      <td>0</td>\n",
              "      <td>19</td>\n",
              "      <td>115</td>\n",
              "      <td>5.052632</td>\n",
              "      <td>4</td>\n",
              "      <td>0</td>\n",
              "      <td>1</td>\n",
              "      <td>0</td>\n",
              "      <td>1</td>\n",
              "      <td>[]</td>\n",
              "      <td>0</td>\n",
              "      <td>1</td>\n",
              "    </tr>\n",
              "    <tr>\n",
              "      <th>1</th>\n",
              "      <td>upset update facebook texting cry result schoo...</td>\n",
              "      <td>0</td>\n",
              "      <td>21</td>\n",
              "      <td>111</td>\n",
              "      <td>4.285714</td>\n",
              "      <td>9</td>\n",
              "      <td>0</td>\n",
              "      <td>0</td>\n",
              "      <td>0</td>\n",
              "      <td>0</td>\n",
              "      <td>[]</td>\n",
              "      <td>0</td>\n",
              "      <td>0</td>\n",
              "    </tr>\n",
              "    <tr>\n",
              "      <th>2</th>\n",
              "      <td>kenichan dived times ball managed save 50 rest...</td>\n",
              "      <td>0</td>\n",
              "      <td>18</td>\n",
              "      <td>89</td>\n",
              "      <td>3.944444</td>\n",
              "      <td>7</td>\n",
              "      <td>0</td>\n",
              "      <td>1</td>\n",
              "      <td>0</td>\n",
              "      <td>1</td>\n",
              "      <td>[]</td>\n",
              "      <td>0</td>\n",
              "      <td>0</td>\n",
              "    </tr>\n",
              "    <tr>\n",
              "      <th>3</th>\n",
              "      <td>body feels itchy fire</td>\n",
              "      <td>0</td>\n",
              "      <td>10</td>\n",
              "      <td>47</td>\n",
              "      <td>3.700000</td>\n",
              "      <td>5</td>\n",
              "      <td>0</td>\n",
              "      <td>0</td>\n",
              "      <td>0</td>\n",
              "      <td>0</td>\n",
              "      <td>[]</td>\n",
              "      <td>0</td>\n",
              "      <td>0</td>\n",
              "    </tr>\n",
              "    <tr>\n",
              "      <th>4</th>\n",
              "      <td>nationwideclass behaving mad</td>\n",
              "      <td>0</td>\n",
              "      <td>21</td>\n",
              "      <td>111</td>\n",
              "      <td>4.285714</td>\n",
              "      <td>10</td>\n",
              "      <td>0</td>\n",
              "      <td>1</td>\n",
              "      <td>0</td>\n",
              "      <td>1</td>\n",
              "      <td>[]</td>\n",
              "      <td>0</td>\n",
              "      <td>0</td>\n",
              "    </tr>\n",
              "  </tbody>\n",
              "</table>\n",
              "</div>"
            ],
            "text/plain": [
              "                                              twitts  ...  urls_flag\n",
              "0        switchfoot awww bummer shoulda david carr d  ...          1\n",
              "1  upset update facebook texting cry result schoo...  ...          0\n",
              "2  kenichan dived times ball managed save 50 rest...  ...          0\n",
              "3                              body feels itchy fire  ...          0\n",
              "4                       nationwideclass behaving mad  ...          0\n",
              "\n",
              "[5 rows x 13 columns]"
            ]
          },
          "metadata": {},
          "execution_count": 77
        }
      ]
    },
    {
      "cell_type": "markdown",
      "source": [
        "### **Word Cloud Visualization**"
      ],
      "metadata": {
        "id": "wGpByi3UgMOy"
      }
    },
    {
      "cell_type": "code",
      "source": [
        "from wordcloud import WordCloud\n",
        "import matplotlib.pyplot  as plt\n",
        "%matplotlib inline"
      ],
      "metadata": {
        "id": "Nl63zCFZgUFm"
      },
      "execution_count": null,
      "outputs": []
    },
    {
      "cell_type": "code",
      "source": [
        "x =' '.join(text[:20000])\n",
        "len(text)"
      ],
      "metadata": {
        "colab": {
          "base_uri": "https://localhost:8080/"
        },
        "id": "d1BrbjkdgnIm",
        "outputId": "a9c3d6e0-6d5a-441f-ee27-dbf1e9542b0e"
      },
      "execution_count": null,
      "outputs": [
        {
          "output_type": "execute_result",
          "data": {
            "text/plain": [
              "10887976"
            ]
          },
          "metadata": {},
          "execution_count": 79
        }
      ]
    },
    {
      "cell_type": "code",
      "source": [
        "x"
      ],
      "metadata": {
        "colab": {
          "base_uri": "https://localhost:8080/",
          "height": 105
        },
        "id": "TBMEwAcEhl6A",
        "outputId": "3e2d2f1c-c16a-4693-a704-025ab9c266e1"
      },
      "execution_count": null,
      "outputs": [
        {
          "output_type": "execute_result",
          "data": {
            "application/vnd.google.colaboratory.intrinsic+json": {
              "type": "string"
            },
            "text/plain": [
              "'switchfoot - awww bummer shoulda got david carr day d upset update facebook texting cry result school today blah kenichan dived times ball managed save 50 rest bounds body feels itchy like fire nationwideclass behaving mad kwesidei crew need hug loltrish hey long time yes rains bit bit lol fine thanks tatianak nope twittera que muera spring break plain city snowing re-pierced ears caregiving bear watch thought ua loss embarrassing octolinz16 counts idk talk anymore smarrison gun zac snyders doucheclown iamjazzyfizzle wish got watch miss iamlilnicki premiere hollis death scene hurt severely watch film wry directors cut file taxes lettya ahh ive wanted rent love soundtrack fakerpattypattz oh dear drinking forgotten table drinks alydesigns day friend called asked meet mid valley todaybut time sigh angrybarista baked cake ated week going hoped blagh class 8 tomorrow hate wake people going cry sleep watching marley im sad misslilly ooooh lol leslie ok leslie mad meh lover exception track gets depressed time some1 hacked account aim new alielayus want promote gear groove unfornately ride b going anaheim thought sleeping option tomorrow realizing evaluations morning work afternoon julieebaby awe love 1 miss humpninja cry asian eyes sleep night ok sick spent hour sitting shower cause sick stand held puke like champ bed cocomix04 ill tell ya story later good day ill workin like hours missxu sorry bed time came gmt1 fleurylis depressing think want know kids suitcases bed class 8-12 work 12-3 gym 3-5 6 class 6-10 day gonna fly miss girlfriend feel like getting today got study tomorrows practical exam reason teardrops guitar break heart sad sad sad know hate feeling wanna sleep jonathanrknight awww soo wish finally comfortable im sad missed falling asleep heard tracy girls body found sad heart breaks family viennah yay happy job means time checked user timeline blackberry looks like twanking happening ppl having probs w bgs uids oh manwas ironing jeancjumbes fave wear meeting burnt strangely sad lilo samro breaking tea oh sorry think retweeting broadband plan massive broken promise wwwdiigocomtautao waiting broadband localtweeps wow tons replies unfollow friends tweets scrolling feed lot duck chicken taking wayyy long hatch vacation photos online yrs ago pc crashed forget site need hug andywana sure pos want dont think trade away company assets sorry andy oanhlove hate happens sad feeling dallas going gotta think shows use music game mmm ugh92 degrees tomorrow u thought u sd hmmm random u found glad hear yer batmanyng miss ps3 commission wutcha playing copped blood sand leaving parking lot work life cool sadly gotten experience post coitus cigarette nice day bad rain comes tomorrow 5am starrbby bad lost job pay phone bill lmao aw shucks damm school tomorrow mo jobs money hell min wage 4 fn clams hour katortiz forever soon ltalgonquin agreed saw failwhale allllll day today jdarter oh haha dude dont look em says hey added sorry terrible need pop ninjen sure right need start working nikster jared hate people diss bands trace clearly ugly gym attire today puma singlet adidas shortsand black business socks leather shoes lucky run cute girls location picnic phone smells like citrus ashleyac donkey sensitive comments med glad mug asap charger awol new csi tonight fml think arms sore tennis wonders u like unhappy split seccond depressed sleep soon hate saying bye tomorrow night statravelau got ur newsletter fares unbelievable shame booked paid missin boo markhardy1974 itm damn chalk chalkboard useless blast getty villa hates sore throat day getting worse msdrama hey missed ya meeting sup mama tummy hurts wonder hypnosis working stop smoking fat ones januarycrimson sorry babe fam annoys thankfully asleep right muahaha evil laugh hollywoodheat paid attention covered photoshop webpage design class undergrad wednesday b-day know 2 poor cameron hills pray ex threatening start sh myour babies 1st birthday party jerk headache makeherfamous hmm u enjoy problems constants u think things find ulike strider sick little puppy ryleegracewana steves party sadly easter wnt b able 2 ohh hey actually won bracket pools bad money stark follow work bad nite favorite teams astros spartans lose nite tw good body missing northern calif girl found police found remains missing northern california girl mangaaa hope increase capacity fast yesterday pain got fail whale 15 times 2 hours classes work watching quothousequot kpreyes remember bum leg strikes time paradisej cool kinds complaints laptop online overheating recalls emily glad mommy training new job misses party send bad messages 3rd party send mixed ones sophmore year henkuyinepu overrated marykatherineq know heard afternoon wondered thing moscow times laying bed voice sooo sad killed kutner house whyyyyyyyy jacobsummers sorry tell mea culpa sorry alliana07 sense suicide thing refuse believe actually happened salancaster hope ok mercedesashley damn grind inspirational saddening time want stop cuz like u love hibanick yeah aw know wudnt stand chance ugh cant sleep 130am hanging crooners wanna sing sucks erresc aaw miss ya im leaving bh tomorrow quotmorningquot think aww wanna beach w u girls pissed asbas radio station wednesday b-day n know 2 know life flipped upside thought head ramen sounds good pain sides hurt mention crying fail late night snack glass oj bc quotdown sicknessquot sleepugh hate getting sick allyheman big fan camilla belle grum wah clip el-stupido work filters wait till puter 2 blame ex 4 broke week longer longer terms need actually going cold thecoolestout ehhh weathers gonna turn ugly tomorrow chelserlynn haha cooooold d incredible stuff hoping tummy rumbles away soon knights notice told working tomorrow called agency follow said bedtime missing babe long alive happy yawwwnn tired love imma try sleep hopefully headstart aghsnow miss kenny powers bridgetsbeaches thank letting people know sad direct message got actually bridget india missed 100th test victory n 10th consecutive win loss jonathanrknight guess sadly going bed ozesteph1992 shame hear stephan mrsaintnick hey leavin morning intending finish editing 536-page novel manuscript tonight probably happen 12 pages left laid today head hurts twista202 read 9thamp10th princess diaries saving francesca cry end hmm easy books nokia 1110 died mom breast cancer find like week worried going sleep hoping tomorrow better day rumblepurr lol wish understood daylight savings ended breakfast hour later waking kids onemoreproject lame understand heroes season living downtown sure fun jonathanchard calorie wise wish junk food calorie free ate thing sour skittles big ass cherry coke man work hard getting sick time hot tea studying sleeeep getting eyebrows waxed pain phantasy star yesterday going work oh - got macheist 30 apps - sweet espresso serial said sent - oh picked mich st win feeling pretty good pick way untiltonight lost downstairsworking feel bad ryanseacrest hates anoop mean seriously kinda mean pinkserendipity yes sprint 4g baltimore chicago far stuck awake middle night second day row felt terrible yesterday thanks bursting bubble going school soon find wear gosh hard marieclr lol naughtyhaughty page sooooo long got deleted sad day history crazy wind today birding currently work grrr ipods acting weird jai ho thinking playing songs ughh penndbad send dvd cos missed heaps happy big deal website machineplay sorry having therapyfail colindemar far way rail tips swear losing gaining losing gaining tweeps heart wrenching today realized good hiding things find staying friends househouse sitting neighbors loud-having party dannyvegasbaby danny im upset wasnt watch live chat car 3 hours trip im soooo upset check mug borders closed 10 downloading nins new album quotthe slipquot - hell come times days woke written e-mail early university today teach 830 watching hill making sad channels boring lazy day find hobby supersport miss buddy ill ny 25th robluketic love french tell people south qtr french snarl french beautiful people opps said got day remain problem come activated selfcontrol block early meaning check new qc regularizing internal clock difficult fb hillydop oh spencer good guy goodlaura reese dying ttsc season finale week 24 boring madame president crazy woman jonathanrknight hate limited letterstoohope guys finei pray dogshes shit today screwed wanttss going sleep tonite worried tired post tonight shit today screwed job interview cardiff today wish luck got 3 hours sleep stustone whack way worse whack wiggety-whack djalizay think people choose way think chose accept familys help dead eloquentembrace going kill seen ds9 waiting till solid week sitting cheechbud think ur right hahaha 45 hrs hate spartans sad mind body severely protesting quotgetting upquot thing nightmares boot mysteezradio goin follow u u lol angels mandayyy twista202 think want read books library nap interrupted times today going japanese rents kind longs bus shows end ghost world right ugh gurumn canada canada weird supposed snow wednesday ugh awwh babs look sad underneith shop entrance quotyesterdays musikquot o- like look new transformer movie sad feet macbook fell gonna late tomorrow 132am gonna tipsy lonesome isthat sad sweating forthcoming trip e3 find crash screwed gotten somebody read tweets cant account infinitydefines omgawd couldnt handle cat heat time d d donniewahlberg hope auburn looking good davidhenrie thats people mag haha couldnt fit dont think pictures magazine tho haha breadandbadger congrats totally forgot submit photos paulaabdul awww good luck paula work hard hope fun new album gonna amazing xxx imaginarypeach leaving -gets sad- miss twitter phone broke stupid nokia phone ughhh miss advance phone shooting outside house o kidding scared tuesdayll start reflection n lecture stress reducing techniques sure useful accompaniers tragedy disaster news week yes yes trying find picture upload correclty oh red sox game rained looking forward opening day find keys charlietm know right dunno going twitter getting sore throat labelsnotlove home town mammy called depressd pls explain y parent let 8yr old child walk hello 2009 ircmaxell - think need find better anti-depressants think paxilwellbutrin combo losing efficacy myconnecticut restaurant called woodntap competitive eating tourney round tourney time place 2nd bathroom wake lakin caitlinoconnor want tacos margarhitas telll gay hellolt3 im lonely company 22 female california bad day betfair office miss wait celebrate tar heel win weekend cold want sleep kristencampisi 4 u officially 4 round monkeys found twin wont write heartbroken missom aww know felt like yesterday work sarahreedsc treaty defined missed brent praise band fun lead guitarist ltpoutgt jpfurry poor john happens play fruit microwave seriously seen doctor xxx missing bff watching home away reminds lt3 shout u courts mandayyy new video card doa feeling lost naked confused jk sort ofno iphone damn late filling appraisal form people sent occupied work missed brent praise band fun lead guitarist ltpoutgt think past cant change deserved wat got thinking gah lost ring no-where seen burgaw ooooooh sealclap download shitloads zip folders 4chan internet moneys fuck yeah alicia amp mikey nursing nile glad feeling better hate baby sick fucked ic brandizzzle08 yoyoyo internet rude tonight reconnected bed jemcam uni stuff netball netbal uni stuff kissability poor help forget 8th april amp 13th july dierks bentley comin columbus oh wanna bad sidekick chriscantore congrats totally jealous wish xm working gr8t face itchy poor socks luvvvvv golden retriever want sighhhh saw found tracy girl piece luggage fucking terrible aaaaand nausea donniewahlberg ooh im excited going 2 long love youtube spent 1 hour reach axis bank find today holiday mahavir jayanti contd mathewsmichael agree jobros dont update theres fishmouse hilarious linked clip lj time ago went dead link diannepulham oooooooo im thats need study tweeted nearly day posted website tonight hopefully goes night time bostongarden miss bentley seriously needs finish job applications son vincas sick stay home tense days work holiday kids whinging clientampboss understand english rewrote text unreadable written v good writerampreviewed correctly huntermoore want punch sooo sick snow ughh itsnemesis ------- lovemeagan work fan upset like apologize repeated video games live related tweets going stern discussion koodo soon stern zaydia cant figure pay hotel etc fml seniority bc technological ineptness quotregisterquot classes feels like slept day away looking forward bouts gallbladder pills pain thastevieg want old bass mad tired today callin early tonight nighty night twittas levenrambin easy good afraid bad code think going bed goodniight hate riancurtis friend love kariajay time notice gonejust needed db2 aaronrva bathroom pee ashleyskyy wanted margarita kourtneykardash yup night workouts r worst unfortunetly work schedule allows night tough called hillsong - said tell waiting list - know looking good 0g milky bar left 200ml coke jokerrrr stillllll arrived mraow feel like dancing art school wants rape karenucol ah bet like craving play softball basketball noo time terrified accidentally deleted reference management assignment hopes doesnt trouble gets amazon s3 plugin worked website need php 5 hosting provider php 44 sad argh suuuper sleepy hour ago wide awake hope stay night - austinhill wish sold time let know love hear watched tropic thunder dreading tomorrow qweendassah nohe missn chiefdelphi - according bro new puppy poo fight covered poop picture stolen playing game home new boss su yin huen tweeted feel unbearable guilt staff cry poor joshy sick damn tejanos thoughts sandra cantus family difficult sad time franzglaus know wanted let everybody know happening michigan know sigh shameful fill hours alicayaba cuuute hey miss na seeing girls everyday jonathanrknight oh mention quotgooooood moooorniiiiiiingquot germany im cageor bettermy office throat closing string cheese good idea aww sandra cantu found dead suitcase missing children stories good poor family wishing home underneath covers walking home school drains energy ridley1013 agree shapeshifting copout excited angelas ep thought week noah awesome tho savethestrib dang knew earlier outings planned wish better writing taking long write paper course access halo 3 mythic map pack re-download bad news legendary map pack ugh 600ms vene2ia unfortunately weeks told little bit busy latest project thecoolestout ha suns gone day 2 lot harder day 1 let day 3 goes tomorrow man crush jake peavy let gayforpeavy trishzw megafast trip time day tomweds going tonight want bad tried warn tech fail michigan state sad omg mouth pain wanna sleep untill time braces getting annoyed easily today gtgtgt biofuel proposal getting annoyed easily today gtgtgt biof mizzchievouz hey girl site girlyvue videos a5hleyf spending time grandma early tomorrow leave skittles got home watching michigan state tromped oh jew-bus years worth classes work alot organize gtlt finishing tonight possiblemy bones ache griffmiester exchanging laptop arrived hyperbets hope long feel miserable rcompo rachel hang outage neccessary - gonna home wekend dumb folk work im free f sat 4 theleaguesf fun amp furious new mantra bay 2 breakers getting 2 rambunctiousthe city overreacted amp clamped amberbenson hubby reason thinks important good spot red carpet trek movie premiere sod swear matter long getting 5am gets easier man eyes hurts wah jeffreestar jeffree hair color permanent dye fades week otakusecret reaction whoa coming sick feeling bit better got new medicine hope feel good night sleep ohh suppose snow wtf dangerm0use think maybe couple hours sleep hon productive right ur dog tired worry maddyva thanks lot learned lot new words find looking wish xblm downloads gamertag hitokyri 5 gamertag thing nonsense tired new testament test 930 scoutbuck tons hay troll ahhhh stupid movies watched mirrors ugggggh stooopeeed rip - love buck homework understand things taken away time unfair want like baby scratch du heif half cookies tum anymore shoog poots cococourtney listening sweets time forever miss chi town visits plz geez busy afternoon meetings emails meetings email meetings 6pm day going ah dark dang spring break cool bad work week oh money phone ttyl everbody sarakate im afraid ur reply uni ages ago feeling carvin1 lol emotional ass men omg late night eating broke nickcarter aww nick like hair longer cut break heart wonder jon lost net wow depressing thing world losing video created matter seconds fml nchokkan says stock poohpot lmao im sorry poohpot ate chance softbelly mtub loud time posterior lose fat articulation creaking running im drool swimming listening nathan cry today sucked gonna die chris callum wahhh stou site update info 22552 exam open course wait mail notices doc um ohsbrat30i sorry feeling kinda yucky 5am going come quick love scrappy missin wants hear seblefebvre s song myspace messing bad news dad cancer dying good news new business started life coach practising holistic weight management duchessrebecca man intervention soo sad help need new boyfriend stuck rut feel like complete idiot shit works help saw ad craigslist casting female host g4 totally psyched realized hoax pepperoni rolls la called valentinos - said sausage rolls pepperoni rolls soillodge yes monday want new gg episode miss watching rockos modern life rip sandraits sad like keeping fingers crossed buddy feeling wait eat skinny vegas hungry margeinovera tried tweetdeck hated passion hated sure benackerman btw iphone acting funny dying quickly freezing bs admitting sayin sitting wondering quotedquot strong hold bananaface im sorry got sick lol going bed night carolrainbow internet home drive ox use internet builders stevebuscemi weather canada freezing twiggassssssss range day hopefully good danadearmond reads pray grandma pain 3 woke having accident - quotit pushing pushingquot crying stop wetting pants home franklin street jumped fire kicked jenny lost shoe johnnybeane hey changed default finally gave bored start thing think 140 going problem tho like myspace status ellievolia oooonly lucky eh awh definitely early work buttload homework needs copy visual studio 2008 school world weekmy school silly look bright u omg economics test dont know things know omg im gonna fail robcthegeek time islands pride philippine tourism coralclamrare fish poaching kinda sad henkuyinepu yeah apparently bad taste hummiemd know surprised recommends youtube tomorrow figure waiting airport ride harassed 2 men trying sell ugly hats want sleep left ids location bars fuckkkkkkkkkkkkk celycarmo sorry understand comment officialrandl announcement stayed late night kishorek strange illegal torrents avlbl legal dvd stock imiss u trolley packed like sardines padre game remove car good mts randomlynat jeez trying help haha supamagg happened saturday night glittery green lighter trying reduce number cigarettes day yea quiet cuz work im bored death talk gotta cooking assignment hard treesahquiche okay applepears talked people told jennifermf know night owl nature hahaha time zone 1 mamasvan lol - nope complete camerafail maxime68 megelder useless sleep fair want fun pookie uti nurse gabbie 100 sodas jillianfish tweet damn hang anistorm video games matter yesterdays news sleeptilnoon left got tempted ate soon got home chocolate velvet amp ate d mocha stressing blackberry keeps flashing red alert status reason faking hate - wanna wear doc martens worn december shoe repair shop guy find shoes find couple days bbarnett coming woke vivid sketchy not-cool dreams life time stare wall lights shall 3 days sister passport nicolerichie oh yes miss uh oh think getting sick good god ruined belly button watching framed roger rabbit makes miss toon town akianz renting cheap renting awesome house 3 buying attempts fall running nose spinning head good combination meeting eazydoesit87 negative lost vote confidence nasty budget iphone sent apple today sofiinoel thats bad dammit episode 3 kings play reason stopped middle upset missed chat quiz online free internet ceased believe disbelief way people hurt car season started throat raw kevchoice persons mind ish like prayers fam real frago hate need need therapist twilight come yesterday fingers crossed today nilelegania glad able help feel better hate sick love tireddddddd want sleep assignment finish exam tomorrow study know thinking need money omgits jst teusday ddlovato davidhenrie ummmmm cant find heard found sandra cantu 8 yrs old corrosivecandy ive forgotten snoo-snoo wonder snoo-snoo meet amanorris wow tweet like giant sexistsorry bathtub drain fired haz 1 job 2 amp iz fail got drano ass amp iz draining wanna shower dangit stuck home nomadicmatt 110 duckling famous childrens book stolen bostons public garden - boston globe sharethis oh appomattoxnews thank hate list includes 2 convicts heading altrincham hours install morning good im bloody knackered work today helppp xxx jeffreecuntstar garage park driveway lauredhel happened quoton popular musicquot twadorno probably difficult reading prescribed actually struggling continue - cant flowers falling dont camera cellphone good liking snow right getting nice spring-like weather brianarmstrong pity youtube currently blocked china vids margaretcho happened hightlight life best leather sofa world office means working 3 days internet gets uncapped better days lodged belly love atekinzz ampamp soo miss wanna sneak zoo play kitties lolitariot oh hope getting sick alejandralei dont think cause cousins birthday party sweet little man fell asleep waiting daddy big brother home poor baby missed today angel going miss athlete weekend trust hard watched considering today yaknow shawnna tomomorrowi need bestfriend grr want reading wont left read atekinzz world rumlover u supposed date pears amp brie bottle cabernet quotwin date tad hamiltonquot oh gawwd life flashed forward 40 75 cats crap need dresses kaeeeep yeah know horrible ugh saddening brodhe geez ur fun wanna punk rock band jyesmith lot angst tuesday afternoon glad britney crazy anymore hell sad upap cook county huuuge headache omg feel like crap anistorm sorry cleders sorryi rooting man took forever shandasaurus listing items ebay sell takes forevermeanwhile coleman watching hills season premier got presentation 23 slides crying week hardest weeks lost 160 like previously skins thing starts season like went straight intro like houndour wish therei pretty good scaring shit people going sound vain running fav lip gloss stuiy click link screams quoti spider spiderquot known better yucky time work sick pratama imac came 320 indonesia states dammit need stop buying furniture misssil half asleep turned laptop death peaceful life bites think jonathanrknight lost net sure hope - test footage girlfriend hd dark underxposed tough game watch tonight state finally going bed staying watch season premiere hills jruby support hpricot versions jinxcat unlike sisteri fraking app store pissing logging need study having problems accessing ttb cant strongly dislike people stupid comments dont know story emmaketurah sorry emma swarley goldfish sad u tweets gone missed guys tonight sleep face kinda swollen let allergic thing thatll thursday school tomorrow doubtful snickthedog izzys cat tree shall stare floor chases runs officially banning godaddycom comp head hurts small print wasted 10 happily gone boba humanopium pretty scary ilovepie mines finding hard fit good morning ready 2 want 2 2 bed hates waiting mails wheat bread dollar store toast nicely going taxes calling early night kutner mean knew going happen sad lt3 house sad jonathanrknight aw ok goonite ill cant cinema fell asleep mean christina kelleyrowe hey remember time friends ugh vomit sick need sleep lymph nodes massive rahm emanuels balls right oh computer sucks think shall able listen xbox 360 fancast tonite missing playing trumpet throat sore meant going 5 day camp friday sure sasii know exactly feel work bed time 1 sighs 6 mornings week wednesday hert jesus camp yeah marybethune oh happened today forgot going dress shopping opera tomorrow turtles better mac - lasts longer moves faster soaked pleasant ginayates sorry hear maggie thoughts mum ewarden email hope feel better miamiiboii dead yu gettin wen im leavin arlenecd tell close california lol phlaimeaux stupid arranged marriages shall convert marry melove emilyruppe said looser implies poor sandra cantu amp cantu family prayers sick world live 8 fuck omg austins man lt3 love nicolerichie cried hard matthew died sad feet macbook fell sad feet macbook fell chordsy - find things like twitter lovebscott absolutely - filled curry true indian coming im soooo cold right heidimontag lol kant believe cam got beat upp sooo embarasssiiiin jonathanrknight good knight hun looking forward ur tweets hate missing fun cuz time difference tumblr exactly feels wearing tie daniela95616 hahaa realized quotimpunequot definitely isnt word wanted dang unclever watching old videos dance team makes miss wahh csi dvred love money 2 - gonna watch sleep - goodnight tweeterslt3 struggling hard inventory ddlovato hate ballinbitch haha im ballin got bills paaaaay days want work home crap paulewog waitis game episodes confused carlyw66 haha cried guess statistics bunch mumbo jumbo sloanb got sadly works uk amp moment evicted enjoy learning css nachojohnny brian fuck u lol replied 2 ur messagedid u miss u heidimontag dvrd went watch apparently dish network went missed catch rerun jessdubb lmao u wait season come summe boo hot nd dry ass weather lizchavez set feet ground missing eyelid people daniela95616 english professor ashamed -o wish frogs extinct came home cross county tired want walk home snow wants pick heidimontag lauren stubborn loves love feel bad cry lol grouchy wants bmar heart broken morning dropping foo pre school understand moms quothe heart brokenquot feeling hurts im mood chocolate want miniature reeses cups heat like oven feel sick nwo nickcarter come chat 15 minutes boredd colddd internet keeps stuffing horrible nightmare night affected sleep tired im lonely company 22 female new york born4broadway lost st ignacius prepatory school haha birutagme yeah depressing stuff like gets whoisariston problem tongue-in-cheek remark lots acronyms nz greggrunberg hey said matt gonna ballistic disappointed good ep tho ugh horrible ending sandra kantu story prayers danielledeleasa - hate 2 b allergic want puppy soo bad thought cool names morning folks 700 yawn amp away horses - hope twitter better behaved today night travesty quandotcom miss amandaenglund sorry hear loss year far nicolerichie gossip girl repeat inyoureyes2410 reckon finding hard use twitter stuck house days sad know y thousandmiles maybe years shall tax return girl dream right work tired hell feel cold coming clarianne knot2serious april 9th coming soon hannahsix cream eye herpes - ocular herpes different strain okay gotta repeat art folio cuz old terms work got wet ready weekend monday lovebscott umm nopethink im insomniac plus got flui shall willl sleepin like phuckin fish outta water minute finland sleeping night time lunafiko wait try em prolly wait weekend earliest shiner taking bed blankets clarianne april 9th coming soon wants cry need bank tomorrow broke earthquake italy sadden hours away naples family sleeping stressed week coming dragoneer yea working tp hack server 12player thing folks hurt ankle going dr raymondroman oh noes manage send trash noticing feel ya lost free copy radioactive ipod grrand buy nother coz came paper shit photoshop hate crash vacations makes feel sick gone listening murd 9th wonder- chillen missing crazy sex life louie094 shooting careful luisa hillary006 sure ruined gift whitney cell easter beso hollywood tired want wake early tomorrow damn work finished watching movie prayers bobby broke heart syekr myki horrible stephenkruiser 2 dog today ran nevadawolf sorry hear dnf run tonight risk bad coords ftf honey3223 disgruntled people wrote esn 1000 hits day bill pulls 250 tops moony394 ohh omg lmao crying right lol kutnerrrr best came running took showerwhy lower stomach hurt exercising watching fallon mom working projectschool hard 56 min till home time counting craving visit mac store closed time stephenkruiser sorry hear care paulcoles hmmmgreed good motivates individual better-not takes away gabbyisactive brat rub want mocha kutnerrrr think 13 ugh kutnerkal penn - bright star ho redvinylgirl mom wish best luck hate homeworks -- head hurts bad got ebay blues item want jumped bidders 100 hour 3 hours better hopes gigdiary know - little depressed ate night leftovers today pc living room suffered fatal partion lost itunes library gone docs pics sad day manu season stephenkruiser poor spunkyits sadmy rotti 10 pathi know feel im sooo sad right need hug wants step brother home im worried dont know hope knows care heidimontag got watching hills loved excited episode im sad season ryanmwilson aww stinks hugs tired feel like crap world feels crummy happy usb disco mouse dont want believe im readingbuuso sad wondering gamebattles white trash vs outnumbered emitstop true use spring break celebrate morning bah car start waiting anwb katebornstein pretty anti memorial tattoos strictest official ban disapproving family balamurugan longterm member team leaving month miss working hope venture justgelo sad knowing found body crazy world live child deserves ya know wanna rock maxi dress coachella lacking funding course baby screaming crib night day work let cry boooo home missing baby busy week ahead fri chill day guy kids egg hunt sat spiral dmb sat night easter followsavvy found everytime click twitter thing myspace goes dudes page stephenkruiser horrible sorryto hear davidhenrie cant find says dtmafiaofficial doesnt existthere jus 1 dtmafia found n u dun b followin wht thought support augh eff sarth stole mils nail polish pretty o wishes spring fling tour dawn amp neecee sigh gknight hoyts distribution nz website working great like need crummyasshole like movie cillian murphy hot wishes good old cartoons come ie captain planet wally daria sadness feeling v good abt got text sarah day centre point - time early start guessing train rammed commuters games fall modern warfare 2 halo 3 odst brutal legend bioshock 2 need cash dcastillo ugh disconcerting devinthedude007 actually site finally taken damn russians tweets arent going finished delicious breakfast paris shall miss milk europe tastiest milk world drink ilearn great considering finals week carmonium stressed outttt shouldve bern asleep hour ago trying figure twitter thingnone friends soo re-pinging kyle44 custom icons look cool edges square look bad diff background want la enterbelladonna dunno use forum frustrated shall miss talking lilbucknuts41 option georgeruiz unfortunately moments giant squid monster thestarrage want branch midv open dananner aw sorry hear change plans ordered macs instead time hit books polhillian yup nkdreamer donnies tweet stats 700 repliesand jrk timgrainger nah received stimulus ikimb0 seen ur tweet plz write bak u havnt got reply bak mccainblogette awwwww trying sleep 3 hours ago stephenkruiser sorry hear sad lose close loved cant sleep im feelin like piece shit stephenkruiser oh sympathies hard decision hope old border collie sleep 14 hug josephheustess cool wont spoil limbecky time warp sad theresawhite true lol slap face warm end march hate converting movies em itouch gross pimple torturedlady yea manaaaaaaaaaaaaaaaaaaaam marwan accent lol follower tonight unholyknight mom night brb figure burned feel like quottwittererquot tweetdeck wyldceltic1 karate tournament 8 weeks going sleep 1am againand finish statistics homework north carolina baby aint nothin stopping nba draft sleep reaaly miss john mayers twitters fuck rude people remove like tweets bitchfucks going late mqu today im tired worki need life leavin work feet hurt playradioplay sad unexpected totally cried haha superneej morning bah car start waiting anwb homework little sad deepbluesealove mom amp dad 6too early asleep hours ago stephenkruiser sorry hear dog funny little things homesick criminals breakn n2 brownstone lawnord ci misty djsoulsister yeah great vid 12quot single sold years ago im vals mac iitsc clubroom sweating stephenkruiser awww sad sorry updatingffe gives good minutes hot compress rily workng pulled muscle gng bed good night invite quothealthy diningquot session ashok hotel today exec chef rchopra damn workload - skip stephenkruiser sorry hear dog wishing happier days come hellivina miss em misstoriblack cool tweet apps razr 2 bed gotta wake hella early tomorrow morning procrastinating hate organizing clothes playing new mobbler v040 adds great new features play music e71 like v035 latroneb oh bestie missing esuriospiritus time come flawda double dates seriously sorry hear way late working client 1210 fb blegghhhh work work john muir dr dachesterfrench emailed yesterday u responded going long year fans got watching new house episodedefinitely saddest episodes man taxes suck horrified wrong turbotax decided lot stuff turned sleep time tomorrow gonna suck wtf kutner oh pissed house mean wtf amberpacific know dont know said cash rules picked oats market eat breakfast boy adamgoldston time work usc late night feel sick icecream faithgg45 computer shockwaveblah account rubyrose1 awww wish sydney luxuryprgal hahaha suriously feel like knows joke lc spell today totally suck vaccinated chicken-poxshould vaccinate 3 yr oldi confused damn thing school day yawwwn gotta early tomorrow ready weekend miss home calving seasonsad black died morning wish bottle calves stephenkruiser sorry loss brother dog sam sick wcushings disease work spend 8 hours dispatch room new kind starburst favereds sounds fab bc cherry strawberry fav reds added watermellon yucky productive 2 days angels andreabakes oh gee - insomnia sucks tried melatonin vivekg86 good hear support netbeans netbeans know heidimontag wish time rest world unfornately cairo wait mtva play heartbroken little sandra prayers family hadtobeyou 900 words shall finish tomorrow maybe shortiethug come ur background covers screen corner wrote exactly lines dialogue tonight gave ashman01 complaint facebook changed confusing sliced finger going town traffic bypass stink ugh sleep wish good cuddle ass hate software update downloads updates telling know downloading went ihop great diet kung foo pancakes time -rachel- internet hating night spose contactabe jealous missed opening day year cruel having wait reviews come far looks like star trek best film year debating shower sleep little later tomorrow stress culminates physical pain need sleep cant little pinky finger hurts sarahsaturday sorry gift card ran suck home spring break home tho accessed oneindiamobi google phone android support indic languages school life sleep anymore school work mtsiaklides aw wish speak yia yia speak english winggato free comp lol getting ready clean house crying friend moving away tomorrow swiftkaratechop stop nomnoms share night peoples thinks getting cold caught daddy oh trip ruined moony394 yeah bcoz kal penn visiting lecturer n cant anymore im gonna miss procrastination starts early quarter want reaaaaad write paper apparently 52 degress 11pm washington state miss winter bored homee massage great spilled coke desk lame watching simpsons finished hills dvds nickcarter wait fanclub chat tough favorite mild left inner ear infection got irritating quotblockedquot feeling sunday janebodehouse hey nope cuteness hoytfortenberry away awhile tuesday haha yo know thang twitter haha someones alarm clock phone woke 3amstill got headache yesterday night kalichosich awww poor puppy ok break eat buffalo wings tomorrow sittin wkayla reallly dis-like having brother know stop waiting day fed bokkie birthday treats-sicko s kinda bummed agency told look going ladies help create look work laptop officially dead happy goodness freezing heidimontag listen mom stucked paris travel france work joannafbeckett think close time checked closest 70 miles away aaaaand literature review friendly cup coffee company worried 900 paid buttload tax year okay school phoneless sleep reeked alcohol dentist morning drunk tshirt realised huge stain dentist looked disgusted cold cant sleep wants dream sleep hate nights try bed early stay awake hours poo rootbeersoup yeah bad people like certain burrito-eating man exist cronotriggers sad found mum adopted auntie twitter check mum tessm64 awesome auntie tania38 sleepwide awakeand gotta work later boy going crappy day struggling eam law sleep like bouts start 24 poor linny eyes open tired work tomorrow morning night ilovefatsusan 4 year old 18 year old driving twisti want like sucked place 3 daysany help packingpaintingcleaning appreciated oh rip wall opening partially frozen beer beer toaster oven counter kitchen smells like run speakeasy stewiebrittany dont know ride monasmith sadly yes think need counciling making ready schooldo feel like going tests smugness gone train failed turn heading victoria followed unpleasant tube ride city anybody know ipod went aww earthquake italy sad saw pics news terrible lilibat able afford extraction continue deal pet care people try run business send suspicious e-mails fishing info kameelahwrites lt33 codezthey mia tho reannaremick doesnt work cell sleep p going nice tomorrow rain comes nice weather birthday taliasunset rock band hardon expert beachbassbone roomie home day scratch door comforter goto large laundromat machines hardest thing schedule chat end day usually killed character favorite shows upset jealous friends got new star trek film austin tonight listening q got bad headache drivin lesson mins lucky wana sleeep stevebuscemi shut youi hungry britain home boring suckassy breakfast world miss dennys good morning everybody pkoi y fais pas beau bon coffee time work essay time chauncey78 hey u talk mom r home hope r ok wish coming home 4 easter endearingevania sure wish guys tmrw usual school interferes widyatarina kal penns leaving house noooooo awww totally missed tonight lost loyal played hand bad lost half stack 620pm - early days looooooong night work yaykimo sad season wanna spencer calls lauren im editing quotthe phipstapequot 2 crack brew got trees rj know half means homework homework homework worked heart today doubling weight station result stiff pulled muscles ouch melamachinko feel bad unfollowing tired god hate new job days sad kutner killed fav house happy coach stringer hof co 2009now finish term paper feel like shit way want spend birthdays eve far 311 sites checking updates lot mind needs moneys ideas hiring emiliexclarkex miss stephenkruiser sorry hear dog internet plagues miss ex soo sodding m25 oh thought pirate bay trial verdict today -s apparently 10 days featherinair study hall log immediately tired im crying reason im try hour half tonight half got night totally like girl options viable far 311 veiws sites checking updates listening bjorks love crying omg hills love money2 aww think becky buckwild goes craving tantan nabe cmon sean man watching quota league ownquotmakes miss mint chocolate ice cream cones grand ma fuck lost phone wheremaybe grass long hope rain tomatosalsa hope referring hello new stalker lol brettyboo u sleeping ur gonna night ur bike ride slessard wanna listen masters sephystryx looking good stuff write loads uni work feel unloved dropped 2 tweeters london day thursday gonna raining oh fab london eye robbie care bless completely wiped reloaded 8900 lost bbm contacts going bed sad mykele sayyyy whaaaa invited sleep bad considering workshop starting today beginnings sore throat astewart87 oh gosh emotional haha idk dont want old going post stories manually twitterfeed problem quiet lately like lukewarm showers linuxfoundation - contact need 1099 freelance work linuxcom 2008 got skylineking722 connor febi mad need help want buy macbook pro inlove old powerbook michaeltao man america borez lol realized sent msgs idea flash hellivina ihopness gknight lovely ladies sleepy anybody know electrolytes order vitamin work feel sick sudam08 yes reading posts properly italian homework weeeeee understood turned lights time ip therealnph twitter hates hate fact genuinely excited tweet celesteclara sleep theblondetheory italy earthquake sad news day champagnemanoir rain today garden needs bad yawn yawn yawn 10 minutes bed majesticflame ouch - sounds sucky bengottlieb great idea itunes promo codes - work uk itunes store mattycus cry rumlover rum barrel sad rum barrel shakes head horror horror sleepless night billybush admitted fake batmannn love chutney got highly bored today scanning 24 pages daddy misterphipps cooked risotto keeeerrrrriiiiii better post thing 224amwonderfullll says alot yay baseball season boo yankees losing game lost sucks work today omg exams killed know difference haif circle hemisphere lt3 gt bed suddenly feel wish ma wme goodnight twitterfam rachelcmrn like goodnights greaaat lappy turn wtffffff m4rkm stuck traffic journey traffic free morning help lookin like all-nighter hate vernonhamilton stranger debbugging old vb6 code day started better toddlington quarter percent babe darn coming cold bad allergies way miserable believe cutner dead house sad day santa rosa damnit digging season reaper reftype1101amprefnamestory gah comcast doubled cableinternet bill wout telling quitting suggest affordable company bay area early morn duchess managed cross legs time alexbigman left saying hi l want sleep tracydowds xbox shows red lights means dead needs fixed month microsoft hq king sized bed nice sad lonely hubby puppy kitty conferenceing thing im boredd gah wish sleep ive toooo muchh cooooffffeeeeeeeee bahaha whyinthehell butt nosey sorry conversation interesting smokeyrobinson fell listdid offend 18 weeks till sisters home missed worst feeling world gonna try sleep hotel room chimpytwit brilliant idea bring think shall spend amp shall swap bring brolly simonekali autograph shout record computer dead listen rt kimkardashian khloe got fired apprentice biology class lip hurts sorry tweet grr school today jennlopez hd tivo got set tonight order channels 40 - 59 mouthsex asked yesterday single tweet adame ruddy money like waiting oh surprise state hmmm seriously kalpenn sad kutner favorite new team marcusmims wow quothelloquot u suck bedtime school tomorrow books broke suckssss seating helping baby paperswell forcing seat im sleepy synching contacts old mobile iphone import work concentrate spent 1 hour enter bureaucratic nonsense march waste time nw confused feeling stupid migraine making tummy upset body aches shoot reading buyology bedtime great premise turning quotokquot book - lots info knew home wana sleep wasting free line town assignment finish hellobebe send updates plurk upload photos twitter didnt updates plurk zero omg quotthe readerquot making cloudpimps doh getting decent exchange rate moment sterling getting flogged tried download tweetdeck wont download inch snow ground counting worried poor flowers dweeman happy camper dkoenigs thanks man grateful feel unworthy attention twolfe miss u totally comin tho lastnight sooooooo fun sniffinglue ohhh love ps sad hang end place kisluvkis oh sad poor boy jonathanrknight silvertulip27 um hell fugly poker dog pants cruise hi jonathan sorry missed homework gosh darn hard definitely vacation study group extraordinare leave campussome torts outline finished-good thing-but sleepy hwill 7am airfare live texas know shall able iowa jstricko found pretty frustrating stupid monkeys lenesha im feeling mommy lovebscott nope right wit murder gotcha cant believe nbensalem sitting house sooo looking forward class tomorrow ordered maternity clothes online came today got strange order size stuff missing citizensheep thesage1014 wish gotta work seaghostdesigns happened saturday didnt girlsgonechild fall asleep mouth ulcer painful talk eat danphelan urgh video cut robots dog anymore praying okay kalpenn pretty favenot reason watch artistbabee thts annoying ampdefinitely bitchy def broke like prolly kno oct 5 mileycyrus hahaha dont like time ny got 30 mins sleep got sick love normalguyguide learn wwi tomorrow noon new post graemearcher sad innocent selling dang able workshops run web directions benpritchett goodness find good hear ben video game booki apologize jap girls leaving poor little girl baaaad rash bum isnt feeling good nicolerichie yes vhs cried old man died argh got early girls aloud freshly squeezed video travian total cost atk aggressor 273310 resources said guessing going let slide waiting kellys mhm having good day blah blah blah octopuseatspie got chezburger book lobo look wif trying work assignment year spark want lay grass read robertfperez ugh course thursday fridaysat kids kalpenn oh gosh emotionally dying fact kutners gone arggg kal ily kaozdesign think found faceunfortunately find seeing shouldnt stomach flip like headache pleeeease away siddharthind yeah application runs minutes add-ons conflict time pretty good coaching exceptional talent trounces exceptional coaching pretty good talent msu hate tuesdays gracedent quothairquot deal feel like stuck rut waiting hear schools killing decided break wow awhile need new glassesmines hangnon 1 arm meat week day 3 tummy hurts night quotfakequot verruca twitter sad phone bestie shower confused know sirrah21 aww poor froofroo way late miss 808 fam officialprofoz sed puerto rican joefernandez klout thinking selling simx yeah slow end win pornstartweet wanna 20 lovemeagan mss snippet hunwts aski wanna hear know big love true blood united states tara long waits seasons sensesdestroyer wanna lamb god sad lost hn arm bandit disappeared set alarm wake wanted speak sis africa skype - miss sooo awh damn puppy ticks house sad oh kutner saffron lookingi know read gonna hurt look guess girl thing amp need needs hugssnuggles health4uandpets saw gsd covered stop crying bawled bawled rachel jessy r making work thanks guy wishing time mycaricature bit got said babs bad mum sure hurts laughing wanting school tomorrow term quotfail whalequot client pitch night incomprehension corp twitter lower org rootbeerfloats8 hate billy 2-day work-weekfast-forward thursday snaprebelx omg love mad feel ur pain im sorry spoiled u possible die coughing sucks ill cant believe way barnes work todayinstead 5minute walk st johns wood paulieseow hahahahahah easily ice milo best friends shitty simultaneously u turns hurting feelings jerks going 2 sleep art regressing onlysweeter know dance laurweeboo im ok guess hard day jade looking new home damnnn missed 1111 sarahprout tweetfinder hates having trouble background twitterwhat think twilighter4life lol yeh ill studying stupid uni 2 weeks im holidays yay plus birthday week woot transbay quotsfmta budget proposal hearing tomorrow april 7 200 pm city hall room 400 sadly attendquot afraid gi notes read sigh rain decide away invited tuesday-party start hoped secretgarden gotten porn spammers check followers tweets like somebody selling japan release album e bay 25 damn thats classic worth charleneli disqus integrates conversations platforms heard abt js-kit advertising fake louis bags 100 authentic google pissed sleep dam naps lol hot lookingi know read gonna hurt look guess girl thing henrygooden oddchicken went month half ago open smelt good getting sick ready bedlong day tomorrow job searchingfyi yahoo hot jobs suck im going find job electricity today tweets bigthink zack tell edit bioprofile create login different cos site answer bt techhelp morning starving dying cuppa cos docs fasting blood test little tired morning - idea great start day morning little break computer work today mobilityvicorg launch grog nice video pwc quotfollowersquot some1 inform works misses right need hug tried earlier todaydid work omg revisions revisions revisions feel like wasted amazingly beautiful day today pointless work foot commission ouch running morning helpnot smart shower hope wake oh synth experiments yielded night bored sleepyand mad find custom lanyard maker wont buy 1000000 minimum cmykevin ooh nice williams sonoma got finally given malaysian restaurant waiting nasi lemak teh tarik mereka tak faham bm waitin 4 theory test centre 2 open got woken mornng 7am - damn lorry van car accident outside main road causing car alarms think need laid sad revolution earlier rofl ourcitylight sudden want amanita feel unliving lanarisque hahahahhha hows food poisening going gone away missxmarisa heard hannah disappointing hutsoncap alright procrastinating feel ill want bed danielhalpin gonna try find sports bar watch got chance think wants home watch hills sarmar guess funny moethebeat aww moe planning leaving tomorrow evening gonna town chance wanna write cool storylineee gripping agreed love sound hates knows brendamew2 art tomorrow nice joined twitter sigh think pms making mind totally over-analyse things making sad doriantaylor outside patio named rex gardner took rip rex ooops ate panini w-mart cold says needed thoroughly cooked taste raw die nao f poisoning good morning rainy france gardening today day staying bed today got cleo vets sure wrong feeling sorry today day 1 fast amp feel break b4 2 bed hold til end wk stayed focused wish luck extremely jealous kimmyawesome ohhhh sucks love summer set daydee tell forgot password amp new way prevent tons spam bedtime wake 7am glad work - extra hour paycheck waiting lost mums taken hospital know wrong vomiting yesterday rushing hospital congested nose sleep need talk penalba por favor decime ke estas involucrado en esa pagina nicatrolls cancer killing b cold tired write good twitter obeying cops tonight total dissappointment close lifee gets worsee ampamp worsee dnwallace - shuddering shaking sorting brekkie kids horrible place called work boohoo condolences natasha richardsons family littleyellowjen think ily nawwww derrick needs stop sleeping day causes problems wide awake 245am missed todays ellen suddenly miss flintstones vitamin tablets soooo gooood mattpro13 legitimately good cops onlytosee twitters tooo pealuh think need twitterholics anonymous lizhenry heard sha heart broken forgot sleep morning need decent coffee catering open 0830 mostazzza im sorry failed codaqueen oh wait 1 oakland 18th understand 1 amp oakland missing talking bff da phone wondering stupid need eat fish guess sigh miss old friends elementary ans middle school twitter fix brakes external twitter avatar searches looks like missed job employ haha tacce dang shall house itunes hear devastating episode wow shout box kicked guess means good night slideshares embed code annoying sorry tiny embed fail flawless326 baby eat 3 prunes today finally went poor baby iam bored morning - 1st appointment day - dentist amyserrata wrote album ironically singles write gossip girl away addicted good night swetdreamss everyonee jared chat kyte puff horrible sore throat hurts time dressed supposegah workday self licking pudding seafood fork enjoyable slowly licking spoon ready premier realized dressed makes happy wish want afraid fly eyrro awwwww bummerrsorry missed waking sound jackhammers pleasant way start day almostcool jon8737 totally night lmao like screaming focus 900 mph song nevada long gas pumps good note won 5 slot machine love gamble amirrabennett nope babys 5th getting closer 1001 things headache effinggggg sick better ughh bed dont want university callung loud seattle tents miss peepz tho makes happy wish afraid fly errrggggg tummy hurts thought interesting f1 updates twitter slightly regretting decision elsess updates ripped switcheasy colors failed song poor mel feeling pain ugh working project taking small break day school day exciting happens parliament square watko shockingly today interesting day twitter cboyack igeldard iidiocracy kind quiet today courtneybrwn awww thanks hate sick vip guests today --quot blohheeee hate early fuck youku want watch skins forgot phone car scared outside totally forgot going fisheye 2night u thursday btw late hills lol totally shocked episode house eveing lost favorite characters offbytwo seeing doctor hope pass cset missed 5 effing points kevinpeterson 2g cases like scratches void warrenty dents found chapped lips boo ryleebeth ye im sadbut weirdly shes lettin 2 da party confusing parents r lol kimboinlimbo chance coming 20 mins faster javelins bored lonely classic rainy amsterdam days feels like crying sick feel horrorswench toooooo feel like verge anxiety attack day woke hour ago having hard time going bed lakewood going sleep lily rocki lt3 johnathon busy watching batman movies gaspitsnicole sigh midd hsnging friends damn growing p mrskutcher lol wish bad sync germany right subtitles dont work lol alyssaspears sorry maybe walking goofy store helphint hint lt3 contempted heroics sorry im tired morning cold shower waternot happy haha grandma 2 days 5 houses away shall miss clearing desk w person pic phone died signed shirt amazing words describe skipped mel lol crying inside oh let rain warm thecoolestout packing overnight bag tomorrow going hospital gaspitsnicole sigh miss hsnging friends damn growing p oh yeah miss able spell lol glavas lol u read bio spelt wrong darylo ahem guten morgen ready phantasialand cologne yay booooo park holiday ladiscoteca saw im sorry nikicheong reminded krispykreme landed msia ugly website guykawasaki sad goats wa-ah-ah-ah-ah-ah watching roadworks develop outside office thatll late 10 weeks fb work w asma3 nawal fe obeerate alwatan tv wish 2 bed having 2 allergy pill khqrightnow heard making announcements trying find mother looked worried work saturday wanna come company cough cough ok maybe shall sleep hour rise work thesis goodd nightt sweet dreams everyonee jared neveerr chat kyte lol tiffinyhogg heard timewarp fantastic gutted missed playing egg wishing 245 morning sleeping awesome work need scrub apt eileenb know people baf03 hi steven man week school work weebeedee run great thanks windy today bike ride option morning aniita0517 yes sad topic haha going concert far probably expensive couple mt texts arrive decided rejoin aerobics cos know exercise paying rm3 left bag ientje89 aw fine thanks yeah miss mfc hope talk later today kisses huglove hartym looks interesting lot 500 errors documentation website kalpenn favorite excellent job breaks heart navy seal marcus luttrells doggy filled rage argh ive eaton today zurich smelly bags anymore university classroom computer shit day boring want bed fanofbsb4ever sorry missed worst burn life sick priscillacruz funny watched strong today chances miss capoeira zoom zoom official going educational summer owh god bless avisionofbeauty phone like sorry motivation missoliviaa nooo brat west coast hahaa making sad oh going sleep wish 445pm im work thing hate dozing lects wake sheaf wet badly smudged notes sleepy head chances actually sleeping slim fucking money gone 10 battery kristenjstewart watched trailer adventureland itunes looks funny pity think australia tired school holidays 3rd time xxx omg 360 people death toll italy thisismyiq layin downi dont feel sccskwerl aww depressing theblondetheory ditch parish sick people world yo jimo cant talk aim anymore glitching ill cya later hope u gave msu fan car rental discount looked sad turn away ordered pitait nevr came fax machine broke driver left belly britney fucking amazing went hoteli hate travelling cheapos powerpoole people try tricky stop twitter guess good gets try dra6on sad cos u r sad gotobekiddingme triedand failed ditty003 looking school work sucksatleast u home lol acdc rocked night reality today 70000 people homes gt150 dead italy heatherlibby oh like trouble christian slater trying kill moment hoping decent sleep tonight worth shittt night goodnight world xoxo want diana f looks great got spots hurts like hell doubt beauty tomorrow ekim1406 hehehe bad separated babe aint callin hetty4christ heh yeah shakily conquered ladder pointless job tho far away receive digital signal w antenna good morning hope feeling better cold got hold train rammed fellow commuters vile special derision reserved man appeared claim seat luggage rack kalpenn miss awesome shock talking boy hating work upim work larrissar leave stay grants bday danielcalderonl yeaah hate pmelt bad thing aids catch id want inflict pain deadshits world childhoodflames whats wrong bed sick n sleep try w help meds s blipfm downi going normal tweeting lilylauren sad ppl shave moustaches know cry tho oh gosh oh goshsusy going kill remedy finally going sleep waking early study miss friends elementary middle school cyantificnhs balls tunes holiday - chick corea tonightand missed sobs going love season hills tell spartans sucked goodnight needs study quant legal process assessment 2moro itsangie canceled plane tickets hotel stay tickets close 400 eat cheaply man soooo want o polaroidskyline sounds fair horrible going repeat guess text sent better whee bivancamp aw suuuucks sorry dear neyawn yeah interview know lfta ur gonna delete like thaty feel like quottom cruisequot jerry maguire got fired right yo lol worst dream abt turd face date ugh awful shresthayash ouch imagine toothpic eye uhi feel lonely wish bffwiamc best friend forever cousin twitter people following randomly stop makes sad feeling bleh spew burps hot deadline return shirt bought topshop bc 50 bank account rest month life sucks woke 6am far earlymore coffee tooooooooo cold raining tomorrow night sooo nice today guess thankful able enjoy michael crichton curse slow internet miss youtube feels headache coming gordonchiu letter alway koreans use quotxquot hope working holy week marnieblaze haha nope guess original days lots revision tonight final assessments assessments today 90 pass mark harsh thats stapling chipped nails cold paulteeter passed border chewie update ocd left legs fixed possible ocd right leg worse hip dysplasia hips good got hospital bfs nephew meningitis chiu nay hp chun b t chc s kin trng bao nhiu vic coldd watch vid tell moved boo day work 3 3 days driving schiphol apperantly stuck aalsmeer anymore daisy manage 75 bed garretjiroux u write twitter miss ya garee x getting changed hopes means store poor cat foodoops pain nicolerichie haha yeah band mmc cd lost miss bcd friends oliyoung requires assembly assembly completely overrated tonight harder thought diet woke 2day hungry jbeauty oooh heads high killin em wit da lol think u know good tucker inner haha hate cooking dinner maikeru76 connected backso dm compassion people italy mother calling relatives italy right riskyrevenge wait sick oishiieats play polite dance song fav dont course damn need find battery elinchrom ranger canada stock wait amp game fall asleep amp wake london today smile like mean wow song brings memories sleep muzocan talk australia issue woken deep sleep let mad max happy sleep sorry getting ready going leave 8am today got speeding ticket kristensaywhaa ass hm watch episodeee freakin missed scarletjac good close current challenge international font looks ugly going original font whod tweet malayalam business studies revision misses david actually freakin cool doesnt shit like happen believe got answer ask question feels awful tweeting tonight maybe tweets come form tweet vomit later 1 morning think need laid sad revolution earlier rofl txt-chat jake lmfao frikkin awesome miss effin boy awww hoping guys come na xxxx itsdawns thank rmilana like hehe easy danish dude craftysince1990 lol sweet bought tickets year ampamp partnerincrime flaked end going sure razzberrie wha 4gb yay haha laggy computers mba upgrade defsound aawwwww know u mean iv girl sense humor zaibatsu mei super lucky seat train pay 40 25 min journey coyoteontherun bet i- oh wait mac prolly navel piercing tore bit forcing dog bed truck fault know looks healing yay wow got sick cant think straightand mtv hasnt posted hills online wtf woke apples gig ace night seriously tired work begins hour todays episode quothousequot episode simple explanation heartbreaking frankly disappointed offended blogger writing fu penguin tpaw wooo yeah sorry hear missed origin tickets gooood mooorning world dream night fucked knee def need kick start strengthening ready bournemouth 7s need selsun bluepretty sure small spot haole rot think im coming newing twitter lindseyviloria gonna mexico sweetlyaroundme ps woke morning cant access websites havent cleaned computer completely hates hearing girl ill stevediamond know trouble heard thing recommendations mrtweet scarlettdane mary amp going dress shopping tomorrow noelclarke good morning stop ignoring cos said like cough sad nowboo hoo feeling light headed gross thanks chaffie thousand apologies fogive 4 sinned itschelseastaub goodnight chels sorry major layout-delay lt3 collakaaubrey oh joking crushed totally gonna stand middle field wave arms waitin th break service somethin fallen car got hot water bottle feel twat holyjaw middle night committed installing windows 7 boot camp having issues redgray ah man- sad cousin committed suicide yest 8 months pregnant - imagine crying non stop damn megan equals murder poor sandra cantu heart goes family friends rest peace little morning v groggy morning feel soooo bad doglet understanding mouth sore poor little thing oh watch videos people dying right going sleep luke worral doesnt twitter dynoisthename haha better watch actually kill twitter lot interesting cute people suddenly stopped flirting stomach feeling satisfied nowbeen starving 2 hours disappointed nearly spoiled house teeny bit saw went away link terribly surprised marlonjenglish kittcat8 ya basically screwed rewrote seriously want dont know wants goo lronjaii lmaooo mornin baybeeee lie peaceful journey train straight boring hooded teef sight wish talk upset likes willieday26 hommmmeeworrkkk boooo hope fellas good night japh wish known tickets earlier rang arvo - left amy end sitting sigh hard woke find coldfluillness-type thing going fight apparently beats sleep sorry keynote whf tscc killed derek reese brian austin green actually liked character equinuxcom crashed safari tks quotfire anatoliaquot fired costumes destroyed poor situation 800am typical british morning cold wet road miserable angry drivers good times need holiday time sleep dreaming city tattoos great things waking early morning sociology bought sour gummi worms peach gummi os cheeto puffs 44 ounce soda fat ass huge dinner tubeyornot2b thought found tweetheart guess search continues - pixieanna scroll hours missed lotta jon cyfyre finished years twinzzzzzzzzzzz missed 24 hills catch tomor real housewives ugh need figure priorities oh officially birthday happy 23rd birthday looks wish eriks bed needs motivation dressed work hate training today saying snow tomorrow wtf tennessee snow winter people stop following tried fix hubbys computer come disks windows key work buy like afford v3events way ur game right twitter lost updates yesterday - twitter fail paronychia hurts - remember days siiiiike miss old body someday soon u shall miiiiine work bad start day falling stairs enjoying work lt3 cigsrip paperwork today n kinda getting sick fun 5km tready want die built running un1xnut work eveningnight job needs help anxiety crap chaseboogie lol dont ask nice given ride shit started bar b cueing freeway lmao ready azraeel got home 10 end 9am start aswell throat raw sleep t asked friend piglet winnie pooh seriously guys burnt tongue miso soup today worst dream abt turd face ex ugh awful longing sewing machine birthday far away havent slept wink severe insomnia arghhhh terryfree lol byeee time skunkie sorry guess sarcasm hard 130 characters microwaved kashi chicken spinach thing milk dvd seen bet good havent seen slumdog got watch lil bros mom work oh god teachers gave rotten gogoma eat hungry trying eat bad parts hahahaha got headache getting ready work flip lifestyle goodbye sleeping hello work 6am evilunicorn lt3 honeyortar hinge broke works open smoothly pissing dunno shall fixed damn hate stage breakup process miss boy fallen love damn poop rachaelyamagata amazing rach thank music waited outside showed album nightwyrm ate cookies think hallucinating wanna work wanna bed th paper woke nap rampantheart add twitter field comment found madden 08 09 oh old new missing favourite friend brandzhd takin break clubs dont tell u want talk advisors advise judge arse 2 packs moroccan mint teaand truckloads kenyan tea idolette marissatastic - sad house episode tonight bigger amp better things damn taub lol choclatdrop404 paying attn shalinique saying 2 change ur twitter game like u way u r genmarie hope fix california oishiieats hbo 30 minutes got excited remembered sleep tonight soon sad tired leave bed adreamforsteph ok house sad oohhungry creeps kitchen legsandor armsattacks fridge ah cold chicken exciting junebugg15 super glue shoe lol owwwwww doozy headache 2 tablets later taken slight edge days holidays friends public schools hang thursday disneyland omg finds mom rly annoying need detox h2o day skin shitting bed way late likely sac shit work tomorrow ylizabeth died kcarruthers 540 years old pixie years body clock chuffernote stay late -also afro stupid thing wont let old twitter page new soooo tired work txt-chat jake lmfao frikkin awesome miss effin boy awww hoping come na xxxx kristinfinley ur phone breaking disease spread phone doesnt ring flashes agh moth till frank morgan race chrisdjmoyles excited live wales blahhh throat sore amp coughing hate sick sitting unable sleep motivated sleep feeling icky oh dear pups died 1 1 night princess rejected going 30 month ugh 3 morning sleep scarletjac thanks know video harrowing especially 2 minutes admit cried wrote 2 pg paper n 30 min studied n 2 bed gotta wake n 3 hours oh joy nite beginning enjoy lazy town - oh dear brain needs optimise neural search pathways find muscles cried heard girl tracy found today soooo sad god bless sandra cantu gmg2001 lol omg tempt started p90 2 hours ago need good day shoulda asked yesterday moment run fatboy run time twitt theese days insane wyldceltic1 oh man sad twitter woke spazmoraz lady work boohoo got eyenow itchy aw mrskutcher thinking today - deprssing makes appreciate life keelybin ermmm hearing dreaded alarm clock cannibaleyes bowling shit ripped eisie mate rubbish 10pt hug tom covered spots obviously happy doc says bad tell tom warlach curse ye fun miss online pr paramount pics ugh read cnn found cantu girls body pond near home terrible family sleep 205am--ugh sleepy sad know andy hallet died thought markress understand busy tweet work samsungimaging better auto feature ironed blast advertisements industrial strength spam texasvegetarian oh god ow hurt like bitch showered dressed late shift lollypop gillianme yeah time sleep dreaming city tattoos great things waking early morning sociology dougiemcfly hey saw u guys play pushoverdid 2 meet u tho cuz th huge line upset lola msg 4 good morning wish weather good germany today wish dunkin donuts holland today moms japan wait sooooooo busy right lot custom orders catch blogged 31st hrs day right got stinking headache need run happy bunny sorry vid hits hard beware 2 minutes especially wondering gamebattles traffic a2 wait till 10 lanes ready 2010 slept 11 hours awake 530am yesterday late exam gotta wake 5 tomoro onwards finished new moon work tomorrow totally finish tonight geez ok wonder twitpix option new phone got win shall leave photos cuz guess usually zzzz today macbook froze luckily able screen shot paper retyped end submitted paper 1 min late rougeforever faffing actually reading work feel productive thecampingforum forcasters believed lucky lasts till afternoon babybazooka toobut hard cherylthelibrn thanks rebuildersrebuilding tip trying help mom divorce breakup left head phone died morning 1 head phone company journey meganh93 drizzling day u going rain pour cant sleep ugghhh got work ravenous eaten gipton steak amp branston sarnies shall buy lunch doh new iphone yay restoring backup stupid apple catering gigs cool getting ready normal week working easter cant sleep hamporter walk annex hoping instead nguyen family know exactly feel man im yellinq ma mummyy lol angry mee want chicago liked hearing bad politicians oprah hate oprah 4 days left uk candicenicolepr heard homework shannamoakler afraid fly straight refuse plane sucks limits tony changed change feeling bit better today walk idea happened yesterday way school ugh leave exciting day work christieeee aww sorry dearyy fuck la circulation ce mat1 belive home sleepy 4 hrs today round rock tx disneyland ahaha sad pineapple stand closed 3 dollars ok 2 hours self imposed shopping ban aching shoe fixthis going harder thought whip cream melting woken mom cant sleep lonely bed husband 46 followers acknowledge stupid mampms stomach hurt best monday missed gossip girl oh spent time bff today wonderful night xoxo pilvlp luck probably stopped cop stupid sitting home im bored hearing weird noises downstairs kinda creepy let know ok kailuh dis guy talking brothers cock thats feel like talking ewww figure rest birthday today feel old ameliatorode fun shopping bear mind horrible forex truth ok tweet peep head bed nowgot test law tomorrow summer love huggers working lab report 2359hr tonight awake twitters dozing jillglavan soooo disappointed ti party leave vegas jacked talked runawaystarling unfort msn douche half butting poop oinkeraida agree crazy pollen trees washington state making sinuses crazy stupid 3 year project feels like conquered realised 1 year jdpeterson hope feel better cali need lazy laurenlenewx awww sorry woo pages seven gowhy heck procrastinate goal 1 grad school wait morning tired today stayed bed town forgot charge phone think day awake untimely hour dont want school tomorrow exam having half weeks kalpenn thing sucks excited knew final team sleep windy scary darylsws kids holidays summer camp summer school boarding lol 2am sniffling sneezing sleep morning going come way early guys bill gatess associates makes feel like know know oh azppa sent email state conventionmay 17-18 amp papyrus sad bc wanted attend pelf81 work demanding watching greek cant believe day ill guys june 20 ahh cabbins ew terrified news italy lilimarlene ohh sux brainiacmathew know im spring break extremely hungry going loooooooooooooooooooooooooooooooonnnnnnngggggggg night work jennchambless awake drunk darkbutterfly thought looked paler probably drama filming jun looks healthier sad hear discovery little girl tracy poor family supposed think working places cycle2work scheme 15 disc halfauds good office irritating work worst client cant choose project ur employee wye river cold internet expensive jammed finger hurts badly damn- pc completely given sucks let everquest 2 subscription lapse play anymore time flu shot work arm hurts heidimontag love hills missed tonight jesmayhemwa trying sell prelude katsun point trying remain optimistic delayed live365 getting harder day twitter kalpenn omg mad favorite character shall miss wishes david cook coming phoenix trying figure way san diego june 18th obsessed ill fresh start promise xtra sad puppy face beautiful morning - sun shining birds singing playing mousetrap kids damn work aholmesnj able downthemall ta able delete account lose photos lost comments thisisguan tuesday raining day huge headache gotta work actinglikeamama oh recipe gyros developed addiction germany able find like aus feel feckin arseholeda sign old age thinks sukottoxd saw ice rain today snow frozen water nonetheless charp nerdy amp thinking help metropolitan area network tired cant sleep jbeauty lol goodnight laying bed facing wall trying relax hearing things plus air conditioning sound louad needs baby home bit soon bed finally long day tomorrow cant sleep ugh going trend ill need find wakeful night hours read learn language airlie sick mason sick going miss school disco trip canceled latest blog post info saw 1 little 1 huge stingray foot-deep water catseye beach low tide turtles update picture cos look old fat oh old fat playing badminton working weight saw snow flakes lol honeybaby sound like ny-quil commercial word looks right green background want sleep feeling soree bad idea running sick tt need sleep body wont let draw instead lt3 30secondstomars thanks prayers days difficults vanidosa27 wrong need inhaler know sick hope start feeling better eri74 goodmorning hahaha let guess cb hahaha know feeling trip gym help computerinternet hating tonight swear find usb cord sidekick taking angus check-up today quietly dread time poorly know lung function tests crap grahamcracker working melbourne victoria police department melbourne city cabs homework realized twitter getting attention mama ishahaha lame m0nkfish eww hershys kisses ok amazing whoa im super hungry life cereal wgranola amp raspberries calling wants easterfest let gossip girlit mondays good reruns trying fit stuff tiny bag hand luggage dont think gonna work sunky grown horrid seaf2009 strongly considering improvising missed year sick innocentdrinks coke 20 minority stake april fool depressing favourite brand sad said goodbye hubby globe trotting away chauv things bkgirlfriday dude snowed todaycant imagine weather hawaii right updating myspace profile need followers coz bit sad read updates blogspot bulletin myspace etc figure care thelmarockz thelma shiz blank u comments work zeist minute want stay work thought buy silent hill psp ps store find taxes best mood fan sleeping baby boo thought hate sombody hate tobe d gave love pay bad tommcfly hey saw u guys play pushoverdid 2 meet u tho cuz th huge line upset lola msg 4 going sleep johnny died oc fucked sleep ive decided homework instead oscartg morning sun unfortunately need holiday day year stephenkruiser sorry hear dog trashkitten solution found got spanish revision today cold playing outside yesterday stik-o chocolate need sims 3 gaah listening awesome song dnt wanna upload limewire lindajames im morning person prefer night smaffulli correction tell cert use different matter win ktml think itunes fault cant download mac quotstore busyquot got awesome camerakit update katerih tj dinner tonight freezer melted martiy ouchies good day goodnight supertim geoffmartinez youre going mexico easter early twitter buzz star trek secret premiere austin - holy crap wish think getting sick happy birthday jaime loveyoult3 officially screwed right midterm quiz 2 projects 300 page book shoot revising essay talking hubby aim lizdinkel lol figured muchbut know talk anymore maybe easily offended traffic bad normal super early meeting yo hella weird twitter got deleted hyphy east coast e40 perfectly ripe fresh banana goes bag arrive office looks like hit freight train poor banana home mc bored missing sigh im bored tadi exam amp okay thursday lagi exam gaaaaaaaaaaaaaahhh rufus rufus rufus bloody brillaint shame mum miserable crab liten work maddeh sync stummics hurt right studying commerce suppose remember fever cuz like troybolton hottiemcsuperbob omfgz nail buds - cries - arghh hands itchy alergy beef eat chicken cant sleep missing person love past 7yrs life time ass gear start day sleep early tomorrow today fairly certain flu going misery freakin bed ugh math lab wanna leave co 415 coming soon brightillusions fill position tightened borders sucks want magic happens month lol sophia terrific job usual gonna dinner jmielcarz send warmness way cold power levitate negative trying hard sick stuff took rid cough casino big fat loser day week long want stay bed theajp glad enjoyed mate gigs lined near future horizon mo isnt feelin 100 2day going watch julian play bball want phoebe duncanmacrae hmmm good luck got denied letter bazaar bizarre sad looking forward road trip vendor annoyed bones preferred gratuitous grossness poor angela onlinemigration im going hehe layin bed 3am cos tummy beatboxn bd hd 2 wake eat unburnable calories nt gd quotabsquot hungry bed work rain gabysslave thanks - essay write fuck len weins house caught fire earlier today family safe lost dog thinks factorial designs going death test quotaquot comes confusing quotmathyquot stuff ugh schnicklefritz omg problem lent gave friendlypharm bad true thecamacho danm wanted hear studying sucks yay hannah montanas disney channel fun photos try upload big world right sun shining people busybut labrys67 chat broked ruthclayton oh aint gonna ur bitch muwahaha caught looking iphone promised torcher 6 months left current contract goodnight feeling better going doctor tomorrow cardinaire ya blimmin heck slightly tired otalia im going 2 bed nowww - surprising rly school 2morow thats right spring break days r wants camera unc dominated second hills hallelujah econ paper gaussian copula def deal physically tired sleep tks pa 4 quottapauingquot croissant tuna knowing dat ive back-to-back meetings morning amp zuraidah tks 4 buying fav starbuck mocha frap russyrhubarb new twitter telling boo way think oberon dead seen ages jeffsmithcars want send traffic page arielehenriques feel like preaching lol damn guilty looking getting completely different config finding shared hosting hard having control tv wcharley cute sweettrying blues cheer tweeters djteck mean enjoy job nicest outside indoors morning feeling poorly hope u good day x contemplated going post-midnight walk piles work oh em gee love want want want lusting things afford broken mir single morning feel sick 7 hours sleep cant sleeping im thirsty indiblogger neei dotn comments suggestions peace quiet amp stress freeness bout come end found sanaand realized like white girl eat problems work sooo bored misselizabeth food allergies suck allergic shellfish 4 months ago blue love shrimp dtrix mom root canal alsoi feel pain buddy 830am far noise office worked home today louislucci usually sleep 4 hours night going bed 5am tommcfly good morning tom send message short question bad guess guess dad pregnant lol nah doctor epidural chronic pain josordoni yeah good news y combinator interview week dunno bout oyster suck guess siralmo wont let play doh keeps saying user valid enibeni knew ed si que se duerme temprano s valonthecoast lol awwwwi sorry stuck n boredyes hun thought trying entertainedcannot easy jamzeee knowwwwww sukkkk care gurls kalpenn arrrggghhh seen nights episode pity lose early morning meetings infidelsarecool ugh depressing want punch understand setup subversion website imperiusrex brahbrah ugh bed hour joshsharp money dont know maybe lie hes having like little bit lol sat work fair fair whoh day shut hydraulics assignment time oh wtf house cool brain hurty squishy mess vomitto ahh ai dreptate pixar woke early watching tv trying sleep working lisalent freeview sports channel way gonna sleep tonight travoradio morning blipfm dtizzler took entire walk train station undo amyg0716 thats sad wolud hate choco milk earlier d lol allergic reaction contacts stuck specs clears means end breast feeding tho wow x60s dead finished cooking spag bol scratch words cooking past 4 hours hungry anymore trying write dssertation ilovedt thought bummer response support blatantly untrue fake accounts shut time contradicts terms oh noooooo kath annual leave du du duuuuuuuu kalpenn thank great character house sad babyporridge twitter crap reply dad admitted hospital yesterday want fly cape town visit r1900 monday return ticket kulula tweeted ages twitterberry work anymore help like late start night shifts coupled bloody light outside window meant going sleep longing yesterday want guy like carmello jimmy laertesgirl sorry hear specific x ha ha ha damn good time chillin wit favorite hizzo danced face lodge backbooth work today evilunicorn im aim rn accidentally sugar food instead salt eating sweet fried rice clumsiness astounds hot guys gym train morning dullards sales pitch today potential surface customer sales development days downloading torrent nights sytycda love bj tragically predictably eliminated waiting update car shop bored homework pingping worst laundry longer wait unpleasant zappoman oh tweet weapons covered pandoras box - uninvent leaving mad fucki sleep reznik360 bonbonfire fun confab matter comes wish worked 9 gonna miss week sooo proud bro huhu talentfull wish best like missing best friends miss fun times love guys miss homework sneezing feeling better 28 days passed night mum puttin cream mytattoo princedavey aww invite lol jk coolness day bobbyly nah gentlemen got class 8am wednesdays thanks anywaylt3 phillyd awe sucks cant sleep bed hope dad gets better prayers note choclate bar schiphol passengers didnt hear hunn today getvisible journalists ambulance chasing lawyers reckoning good morning world sleep tonight copenhagen want leave head flo rider sampled blue song messed song devakishor oh oh sad extravagant time conserving plan lined todaywhich ive forgotten iwouldificould watched tried youtube link work missing boyfriend im phone tweet wont rudd money doubt kbsesbxr4ampgook rebeccamayne sound boring hell becs sad earthquake italy wilshipley sad dutch localization dl2 bad incomplete truncations codylfriend - sweet disobedientgirl wonderful ll slogging 9 9 eh mrbigglesrox hey emily lie meanie pauliwhirl omg whine whine whine whine housing lotery stfu explain qidong fucked stayed late design like wanted allergies playin like mad today planting friend today funeral gt20 years music today blipfm undergoing maintenance anyshalyke oh went clubbing lol time realized im talking jacvanek sad thought isnt lt3 cc want school tomorrow day twylas day bavstertwit u sip crap vodka nope c25k got ominous knee pain - good doctors today emily rash looks like measles shantelleb aiiane wrong attention whore coach gonna fun misses rach deiondrasanders late wish morning person ahhhhhhh everyones laundry boxee pandora useless oz boo hoo hurt leg timvansas need finish rest seanporter thank uuu know heard youre dallas downy weather summer karsentheslater getting pissy lately - know mormon jokes - sorry hear mormon jokes feel bad realize sounded tad drama-queen sick years hittin hard time okay sorry mean nice craaaaap macbook pro kernel panicking lot think going forced upgrade sooner summer pose ta b goin ta az dis week hope lol sad sat watch tv remembered dont cable anymore lol 1an3 thank today lovely day beach followed dinner gorgeous lady roll work today booo tyjanetrev agreee clearly want attention sorry catch train mateee got smoke eyes burn loves drupal file framework module sick bitcache errors making impossible upload files feel lonely today hebb wish bed haha house creepy night creaks stuffscary loli gonna bed upload pic ahi hate flunow day guess happened accidently shaved eye brows need glasses zackdft like reading bullshit im confused sucks study math 4 econ isnt mood misscassandra quotlions amp tigers amp bearsquot shyt god good consequently people replies damn stiff neck day 2 djginaturner le gusta house house 5 min intro missing fab marcellariley repeat tonight gossip girl losing hubby week tomorrow work easter hoptonhousebnb thinking getting old fm tuner garage having problems pc stops playing audio want money kevo hurry anybody willing help trying sad tune piano new song ends happy bright bursaar good gone bed baking oatmeal chocolate chip cookies tired sleep editing 3000 wedding shots begins facebook fucked kellyshibari thought saw walking door saw derek319 shwe370 sweet fun stretched browser watching twit ads appeared google adsense team said delay 48 hrs tired need regular 9-5 dog room snoring going sleep hoping wake tommorow wednesday instead tuesday want work wtfanabel nite cant sleep im insomniac week alissarules basically feel like need better care seeing fool juicin spitting stitches bone graft hooray reliable signalflare server fun nights work start working day sleepin skankityspence halo tonight leave schofe bridge hope watchin missing heath ledger indigoredhot sorry day waste hope found good bits yay homeward bound awillert im jealousi want salsa cookies amazing blip quotunder maintenancequot amp goin withdrawel madninjacurl hey neighbor msjodiodie sad situation 1-in-3 beaten 15 seconds amp 3 killed day sadly commonplace editing 3000 wedding shots begins journalist throws shoe chidambaram starting resent struck creativity midnight having work morning best way eat reheated pizza trying eat hot makes mouth pain sick day sucked im late cant sleep best intentions late work lindajames thank spent ages thursday tidying came looked like right tip heroes losing momentum come writers pick boring workalthough wish bed sprained glad im holidays stupid bus early missed stupid thing missed bus finally got bus missed second gutz mrnokill mrnokill problem appealing wide audience think aiyerchitra yikes clues engaged muppet orlando realised oh god cant marry justin timberlake gosh itt 939 soooo tired quotyawnquot want sleep cant train sans guardian dc saturday afternoon 17 hours air south fljetlag sucks sleep thurs work sick helluva lot todo blows screwed confused dumb child felt bad life wish specialty bad went doctors today blood sugar level 178 goshit makes sad people god chance kaylee110 yawns pretty good thanks awww sorry hear feel better soon lt3 shelikescute sad 840am awake nearly 2 hours sleep like sonny gone drunk kirstiekalamity finally updatedoohh sooo miss internet sorry woop2x open apr10 goin miss sebbypeek dadiiyal shall familiar twitter pretty soon coming summer means dont loves drunk hole favourite bought sale christmas exchange try fixing later feeling poorly sorry swallow ow stupid glands streetwearbear yes thanks reaveling world bro fuck life hahaha cherrytreerec stupid youtube location restrictions speedo wants mmmf play supporting role mind guys huge cocks banned sims forums rest week aww feels weird sticking chanel willadam treated latte appointment horrible need wisdom teeth surgically removed celestechong oh ceramic ex abit visible inside ones ex double price n double duration dear crimestoppers thankyou regular service burglar alarm grateful new 200db ear-deafening entry tones fightin callin run 2 sister nite sick today lot work trying find tech job find entry level jobs job site spam jobs 4 insomnia bitch threw bathroom fun work hungry sad throw breakfast bin oh darnit mandy creed isnt jordar mikerra dont understand didnt mean break anyones heart obama visiting istanbul today main roads closed cause effect lovely day blazing sunshine bad work omg girl woke reason doesnt matter amp cant fall sleep gotta b 5 maybe shall stay sigh viennateng tweet germany heard concert marburg radio 1 hour started late night re-runs getting homeits snowing roxyyeah yep loser finito bathroom contractors house quotes incoming need bite bullet caitlinaudrey awww sucks going sydney sorry sf rescheduling sf trip coming weekend mid bad circumstances 2morw blasted wisdom teeth pulled need sleepcnt stop worryng hate needles morning twitterati large coffee bath todays list appt 10am loads desk work hitting gym looking forward rewiring studio doesnt want work lol sherrigarrity sorry missed responding yesterday rochester mn far dark chocolate rocks wanna come bohol cold buee ate piece angel food cake laffy taffy driving la quinta tomorrow sleep oddly wired aaaaaaaaaah cold outside sunny running low batteries shell gas station lunch break tired ready sleep having trouble sleeping burnt fingers hot cup tea - ouch hhh times like want things stay right comes wrecks mileycyrus problem 443 let counting works123456 57 58 132 133 134 zs way school today im way sick wikipedia gone forever goverment fualt lets hope donations bring dissapointment haveing absolutly notice gone sad boring boring - reminds wash hair gross know feeling like dancing rain like pixiebut rain stopped ohh welllol shall watch flight conchords instead got funeral government employee-friend deepbluesealove beaus online tonight bummer uand music started getting mailshots aimed pensioners - downhill wishing sneak watch star trek premiere owww hit elbow hard door cant wait 2 c carter bak skewl hate gettin sick suksblech bestflights need 2 ass gear wana away 246 bt nt sure cairo amp uk maybe bt b able 2 earlier bt wont til 85 wow epicfail search epicfail entries apparently widely depressed want cold april noes goat-wool socks worn tired sleep dropped car exhaust replaced - 250 spending school work boring working business law paper right wait till hopefully tomorrow grrrr assignments olabini site gone got pause twilight nearly work hollaglam fav english teacher miscarriage amp u knw wht makes sad going baby tamara anxiously awaiting june 28th come soon graduation ceremony looking forward 10th end break common chidambaram george bush morning stuck registration assembley nayyy cezzadwen think pretty standard find canberra home flu ahhh suxz tired sleep hour goodnites serial city stupid sianllewellyn ive txt morning lfta got sorry understand ur tweet common chidambaram george bush feel like change picture think bff audrey hepburn nooooo good im allowed cry ughhh staying late makes think stuff forehead starting feel like cut slice oh right cut slice forehead today annemarike oh owies happen thinking pay dayanother 3 weeks lol allstarninja choices limited blocked hulu waiting flight slumming departure lounge area nightclub making 8 bewilldered uni students arrived home poor folk like struggle uninstalled rails 232 tried fresh 222 app - dice obviously bizarre setup jcturner yeah good going 221 resolve tasouls stupid watching lol shortage waiting missing baby boy omg house adriii omgosh like biscuits yum xd lived eaten missy p amp miss x tooo early im running late feel hot leaving koh tao start journey bangkok cuckolds set shall watch 2 huge membered guys feel like hat stand fionamccarthy sure got loads today ps broke fucking phone people home town irl connect xjerx ritz lol ok gig got planned work xx katyrullman need old world misses hanging awkward aplusk amazes men like actually exist hope find someday love value going school dt juzley yaaaay maybe gone mileycyrus guess counting sheep work hope sleep need clean sensor slr spot removal pictures woken hammering gtlt stopped sleep hangover stuck traffic elliee haha yeah thought complicated ive got home school got holidays x think tonsillitis mileycyrus meant spending day heaven wmy mom getting foxwhisperer clean resulted soft beaing soaked wet couldnt open dry mhbigcatch 8oz golem finally got wight - 3oz nickcarter time warcraft yes simple game group fans let know u figure want prize yopatrizzle sure tell u truth long seen ask sumos daddy paulskratch custody lol wish eddie izzard tour damn stupid expensive tickets cake death sleep stressing jpc lt3 think im insomniac cant sleep birthday 5 days oh yay coughcoughcough right kalpenn confusing hour life long slow day ahead sigh islandnene83 didnt consult plans maybe changedand thanks dang lazy begun short stories weeks finished focus lostmeself uh february haha imy mizzchievouz sorry air holy shindigs thats hot thinking going reinstall wow simply refuses update 310 irritating times shall forever okie dokie tweoples long day city 10 boooooooooooo good night lovelies lt3 hoping fall asleep watching knowing definitely national treasure think email domain blocked akismet blipfm undergoing maintenance yayfuckbuddies haha anytime plan sick plans window rodrigo grey morning feeling ill sorry o mind trying write maybe sleep classit working cufa getting lots dentist time moment stressfull sore nice easy rest day coke zero mobile site broken iphone quotbruce springsteen embarks world tourquot apparently oz unworldly planet today got2do shopping 4easter lt3 malachi xx owww sore 2day grumpy abu dhabi boring photograph kelmarshall tell mortgage quotes sat going skint 30 years hoping posty delivers pink tickets rustyrockets sense blog coming bad leave like 10 mins xxx house big mess crammed bedroom rooms liking work morning argh opened crisps upside hate feeling ill blazing row boy tantrums round missed train standing platform feeling guilty hot water enibeni lol im sorry love ya stupid dating coach makes feel self-conscious hair joenoia wass lovely anit love worst dream usual nightmare worst probably gonna come true pfff want bed feel horrible today want easter break psklov sleep dunno biking hard yall dougiemcfly morning upset rabbit ran away night postman woke early reply ilu x drs early man internet slow atm looking gray sky sun stolen painful shoulder morning 452 2 tired 2 think peace m 5564583833755523 811 loud - miss a-hole answers iphone questions help upgrade 30 heart abused hurtful lies truths hate sappy kind things hate fucking bored work landed funny foot morning jumping stairs twisted sore taxi way pizza bad traffic headache worst xombiexs course remaking haley bit hope migraine sleep boo reason strong urge draw illustrations novel covers prodigy ace night managed hours sleep night feeling today cool day guys realised time actually final having horrible headache day nose bleedingawful feeling found use windows 7 browse twittercom firewall software automatically turns pc hangs work bump long weekend definitely curses yoghurt exploded bag way work smells like toffee heart abused hurtful lies truths hate sappy kind things hate gold syf k ias awake school today im lonely company 22 female california genting gohtong jaya com vishalud yeah got choice 5am study 5 reach class time paper hows eco treating sloth13 isliye nahi kiya baad methinking ki ab tu movie dekh raha hoga gloomy weatheragain sigh gonna find files argh sad march break mileycyrus awww u seriously cutest dog miley sorry hope u sleep xoxo qr veolia fail translink buses trains align early train late bus hour later crackcouture wow sounds fun nah going melbourne couple days unfortunately tonsilitis birthday jeffkang greeeeat ate hard work away ellendeg ellen messages notice sad try hard communicate wif u observe amp report premiering chinese theater driving slowly saw reporters amp red carpet stars tried smsjunctioncom got odbc driver errors ch0en huh like didnt know plans today scared know moving fear teh boke fml heard eminems new single official fell heard eminems new single official fell bit weather coupla days -- workouts low energy nice day chibi stuck home waiting parcel officialrandl update missed ellisonrox awwww tomorrow 4 watch guys persecute far away holidays bloody insist waking school times finger hurts sleep vicoden amp alcohol combo fell tired want sleep im work need bathroom missing roo totally ready stupid sicknessarghhh icedcoffee end read error persists cant add library cant update delicatelyreal feel pain need post video stuck nixpineda miss youuu penalty scored tynecastle got beat duncn revision oh morning itscammy likes leatherhead okay bbs lt3 know info night clubs la cost wanna rent year shall invite yall got combined ear toothache wants rip face stamps foot laratron alas pimms think like saw ride thorpe park tv ad makes feel sick goodness knows ride joined twitter doesnt know pfff rearanging database wishing loved heidimontag hills episodes sad ps love watching dj emir battle computer supreme ruler studio think computer winning quotflight conchordsquot suddenly disappeared spotify kids crack dawn cold bleh starting work stuckrecord naar haddow racket mee wahey breonna saturday reason explain know st peter marleyuk think spoke soon - big black rain cloud charging town didnt end seeing bummasome ppl pain flu isnt way update twitter cellphones vindiekins aww leaving hoping input -- avatars rp thread mtp torn personality krist0ph3r thats damn sad hope things fine gud lunch sinktoswim hopefully enabled activesync google apps account sync contacts calendars net mail loveeee lt3 hurts hate away cant sleep anymore depressed new apps alpha 0010 complex apps version 95 long small dev teams days currently watching quotroommatesquot miss nyc needs hug office - 3 days long weekend mstyrac lol yea thought tht sowey thnx rod ones sitting aroundquot orange fav color kno 2 use feeling blueand everybody says jokes bad waiting waiting waiting phone mean actually sleep nightbut hate therealswizzz guess graphic art cut huh hold hawk getting job better idea want jvmediadesign pic bucket kitty shall probably post tomorrow means having find cables connections - snow guy seeing car worklmaohe gonna kill bonniebix controlling life possible uni graduation start masters boohoo having major head ache sucks men arrrrrrrg mileycyrus - napping point need gma gonna come early yes got ripped shop wow slept badly feel like hell maybe bad yesterday ill time work work little sick 1 need sleep especially school 12 hours beeeaaach bad day need comfort drink - sipping mocha frap starbucks tricia tired day busy head hurts thinking annnd tomorrow woe realised works bunch racists gerrycoe hi gerry dublin time college tweet4today quothave limbo party supple barquot yayfuckbuddies horny im hungryyyy need sushi wish bought camera-less e62 day 6680 went dead miss photographing little things dslr bulky arhh think ill end going point skoop cause rsi rsi guides tell use hands shortcuts ah wish luck posted marcfennell photo alenakristina oooooh love sorry help find probably wont able find know sucked heather sewage bath xp poor owen bear total drama island borning - thats cold virus - bunged eyes squintybah day need school longer google britsystem stopped eating sleeping day im worried precious little bean finished making chocolates feet hurt gawd laptop fucked system error lil brothers laptop freshly squeezed lied showed video end ok stayed watch heroes admin stuff wp stuff learned new wp stuff finally happy layout loved mari trinis songs child devastated spiegeltent coming edinburgh festival year sorry ruined forgive think use twitter offend people unintentionally mitea missing 3 days leave easter work week long list diy jobs home heading bed work 6 hours gnite twitter worldlong day tomorrow night class till 10pm going priceline city tomorrow lost haves list miss kitty cats dentist midwife blood testswhoop de frikking missing vemsteroo unwell having phoned office going bed morning sigh lizp02x oh man sucks hoping school happy tomorrow good ahhh cant bothered gwtting dressed x tired flowchart kens stompthewalrus haha lived texas past 12 years think explains lol si habla espaool completely addicted iphone like bad habit wanting sunshine lay pool trying finish mix fucken man lol tiring night work hope job got bout hills dang nabbit lol sickness making impossible 2 sleep hot cyantist lucky wish twxtd4jordan wish door open people need saamx thanks toolt3 abacab1975 sore comes tomorrow shutting twitter friendfeed beta appear like twitter account hmm work easy wasted hours silly mistake system slow mileycyrus find quote dont answer better sleep xoxo germany morning know mondays bad spills tuesday sleep wondering following keeps going guess gotta try interesting haha boycotting work facebooks fashion war faces mammoth task rest day things little time jeles argh sy pn mau jln sm kau jg sadddddddddddddish annoying place 4pm half hawkers closed want otah mm twitter appears eaten posts naughty twitter university hawaiis hamilton library hw drinking orange soda masha sad people called red carpet blinded lights moony394 omg believe want cry freaking fb spoiled happen watching davidtennant interesting setfilming updates wish cardiff struggling fact dance 5 days away vacation ummm wait 6am video ow ow ow tummy ache candy learn having trouble accessing replies click link right happens access feel yucky sick morning catdevnull nah rang progress offered rejected reckon 117-118 feeling terribly sick right ugh wake ff goes sleep guess revision wanna twilight love dvd oh guess surive rip baby girl sandra cantumy prayers r cantu family strong like know sleep kremsersenf away tubingen germs yes away friends completing reports meetings morning interviewing people afternoon busy bee today blurrgghh - problem picture txbrad need coffee lol saw tweet mcintec net lol comes mibbit mibbit slow twitter sucks super adventurous 2 days luke gone home let morn loss hero im continue playing sims 2 want puppy quotblipfm undergoing maintenancequot sorry music tweets shaking jonnyisgeek cant watch sucks amsterdamant unfortunately dream shoes travoradio morning blipfm ohonefourthree word word stomach fucked sucks hey djtracyyoung playing gaydays year year know tracys night best night money isnt suppose depress x0mrsjoejonas im okay im missing best friend breezyskies pet course time sf ok theory knew good tools barryearnshaw pezholio achilles heel spending x dvds 20 hmv appletv died dreading diagnosis looking forward class work tomorrow day negotiating wth insurers spilling beer laptop night probably avail talking woke bkk protest maybe ho chi minn city hella breaking probably sick ffs poorly sick corienb kutners gone new episodes urgently available dvd goodnight followers darn forgot tonights shoot postponed loose end nowquot amazon mp3 downloads 29p 10 cheers jodiedoubleday ladyldn hope feel better soon ill fun finally home shitty day work floorset maybe insomniac nocturnal eliteforce - told friends constantly circle globe flight uk downunder worst queue ticket phantasialand looks busy school holidays ftl silver winjas fear closed cherrytreerec oh man vid ot available country tryin nap sleep bivancamp update itunes new version b4 lost new software update killed ipod wondering sunshine went got nappy wet split going nice baby bath nappies honeymunchkin anger getting bigger minute goes got uglycomments videos today day government kills talk aaliyah love miss wife says thank mags sent newkidsfan awwwww ur gunna cry miss blessed w love memories dottedwithearts lol gotta work finished needs work tonight ughthree hours coming wish easier got hint booooo good morning believe week london marketingworld london sure im boring dont understand use cathrynscott thank - contribute discussion angels airwaves vs blink 182 want remembered forgotten best friends birthday awww ellie sounds sick poor thing baby miss writing article video converters test shall long time pietrofelix good luck enduring tiring journey start epic drive glasgow alton towers looks like rainy days work tired reports fun maya spayed todayi nervous thats im folding getting tweetie iphone - twitteriffic taking toooo long update need grouping amp replies tired storycorey mac going long week funeral work tomorrow 143 jac gonna great day 4 6 members team woke feel like rubbish rest chill indoors play xbox cold drink rach2718 oh sucks mike work saturday monday andrews got friday till wednesday bugger lol accutely aware bob know wake paris grey need sun peachfuzzuk ah ok quotto stop da terroristsquot claims acceptable trying fine friends twitterno luck far xbox finally given fight working senior paper ohhh hate civicsss havent update bin stuck gf week non im bk class learnin argh driving london today wrong turn kings-x - stuck extra 30 minutes logjam traffic beats cold damp feeling pulling wet pair knicks yay work todayyy working rest week lol dancing emo want write song illi like season hills oneself ends havent update bin stuck gf week im bk class learnin ellelovexx haaaaa want mac amp cheese toooooo hahahaha heyi got u left herei guess im making today oo lol ugh 40 dollar fill ups pump helenvking feel commuting packed trains hideous triner bad wait month sell miss glass house thankfully pretty moment uploaded youtube future loves iphone hates fact tjat needs charge plug train doesnt work theresev solen var inge varm waiting cisco ip phone load listen jonas brothers love band come germany cant bradhfh hello stoped talking lol irritated find patch released properly tmrw whats point letting jess22t diff camps gahh rural woga woga bathurst best 4 advertising tried install twitter-application phone work tough boo nybabe oh balls forgot article mail yesterday got link electronic copy architectural modeling change going smooth far intuos 4 m looking tempting promised leave right hope break promise flu shot ouch scheduled productive hrs sleep insomia gotten stephen left miss sooo gonna lay count breaths fall asleepwooo lolit cuddle day todayi need cuddle 324pm dont wanna chemistry course dont wanna meet jordi thats main reason leah going zinziii dammit ya heading home messy drunk point tonights gyratory system vibe bar electronic drummer illness wow nw001002 operated a330 ac power cool ticket price hyper crazy expensive cold 76 minutes going bed eric hates wont run day ivf injections let fun begin stephendon24 cant commit time play time isnt elses michellepen immensely started playing new sites want mess easter - paranoid moi let hope sore throat clears break pre-cursor illness holidays bit scratchy throat hope goes away thursday weekend fun ugh hate haviinq dis sleepiinq problemsz wanted tweet victoria silly canadian service work home sad vacation security sydney airport spirits bar startrek adamcurry possible add stream option uses regular 808080 port stream noagenda fwproxy gfalcone601 nawww fly london australia boring addersop habbit misspelling bought got picking parentsgoodbye house understand twitter yawn morning real rough night trib agreed sun shining gotta work moony394 think denial watch turns earthquake warnings italy ignored cube creepin dude cancel trip sydney lol going work snowing im bored fingers hurt playing guitar day sevenmac set video channel podcast miro checked listed meeting hour explain quotwhich version oaw usequot atm heap unbundled emf tools miss room pasig place right sps carter co kentucky estblshd thier public library need director thier entire budget 54000year day age doctors long results train late gonna walk hall shame maefitch deleting number jess22t haha know eh thinking vet science sydney uni cept guy night hostpital miss adelaide wish beach looks beautiful umm yeah homework going bed earlyi wish sleep tomorrow morning tweetpeeps bed 3am yesterday msn alex 2 wanted play dead space bed good morning hospital dad spend basically day waiting room minute app fun fun fun sleep brother home girlfriend baby sleep room firefox e lanati hey crash hey crash wants polaroid camera hospital s jaw breaking happen wish iphone let thing easier tried install twitter-application phone work boo want study want shopping instead saw girl blog thumbnails went wayyyy cp feel dirty need shower ahhh drafthouse surprise world premiere screening new star trek night torchys andygosling ouch zoom1 clearfix method friends loving fact 330 lil daughter sleep nasty scraping noises car php gives segfault pregsplit quotits alike diferentquot cried montage flashback hp5 makes cry time bed trying helplessly breathe nose coming itchy need sneeze allergies suck things sun sets way early hello tuesday hope better think tweet hours later mileycyrus - want sofie helllza cute chewbeka yeah brutal june lmao excited plane canada lol workathlon 3 sets management accounts dhughesy thats birthday plans msdivineknight thats bed early cause u sleep u miss things slept missed joe unhappy struggling type morningmaybe suffering day-glo overload fridays 80s fest episode house cuddy hook apo meetings fault waiting love home getting sad hot cross buns week leelowe aww thanks hun picking scotland yesterday evening kill favourite characters dawww site load rising increased capacity going gabrielmansour multiple books time bad habit finishing books clairerichard6 em duncn happy woke 530am morning sleep till 645am coffee amp carrot cake slices mmm lost ideas art help bipling coming aus cobi going jealous lol misser ugh sound class 8 kill home 10ish wants use 8-directional dance pad pero di compatible sa tv yung game jason2008 hello im coffee morningthat winding yesterday lol good day wants play resident evil school work getting way deepbluesealove im reading article different siteseems little dull twitter tonight music exmi hope comes company work shuts thursday joblessville come trying look big picture boy hard days seriously tired need deep sleep pissy tossing turning moan moan moan flat today didnt everythin amp endured massive headache fever nausea finish essay amp work tomory day feeling ill today sinab77 think hate money nickthompson nick love blame oven blame fact shed load wine watching gear jlsofficial photoshoot eyyim sure look hot come brighton hellooo boyslove loads xxxxxx dentist aww man party nighti miss new jersey today meganxnightmare think girl tjlefebvre missing seen evening feeling twitter splont meeting morning today makes feel better finish tomorrow weds hate zombie mode today kids ill kept till 230am work 6am people says vicious missin babyreally needed talk today school errands sad got lot moment doubt going chance book time family easter hols apply international driver licence competition course nurburgring half-day goulandris email provider laurenbavin hey - tell jealous morning baggered gym work later princessshorty aww sorry hear hope gets better listening podcast debate spoke brilliantly davedynamix sad marley amp damn clearance-dog ashleyemma lucky devil dreaming crispy bacon sandwich volunteered think saw magic sunday salford - saw hull fc come pitch vanished usual breakie starbucks heading morning cameras weather looking shite stage georgemackie dont sell ebay tommcfly know johnsons baby use animals like cute bunnies test products sleep bc drank diet coke 9pmsucks bc wake 530am triop damn need learn darn woke great idea lime article forgot thinking shorts flip flops bad idea mikebreed mike understand think need change opinion good lol waiting parcel arriving argh hurry hurry knot2serious oh btwdjrocko951 amp tried cuban buffet told u aboutso excitedit closed mondays sad story gingha docs morning work freecycling getting stayed home bit lonely - friends actually use twitter oh artemisiii oh laundry powder maybe allergic jeans usually fitted makes worse need inspiration hit kitchen tonight accidentally listened new sugababes album playing girls aloud hits sequentially purge memory going walk dogs shower bed sad yankees lost game monday boooo exmi hey doll sorry hear bout ur doggie hope comes home soon help u look far away upset find quotchurch flying spaghetti monsterquot twitter follow enjoy pretty films feels like comming somethinglet hope cold sleeping damnit t-minus 4 hours counting kids school rochellesheree missed wednesday day thursday missed train york wifi blackberry battery going die soon - good start day theoryofmind woppygook omniaaaa said crackberrryyy time depart flip phone hermes packetdienst sucks fun night- paying going fry egg squirrels today hiding nmcgivney yeah ploughed night happening ali1702 omg- daughter come home night huge worry mind poor bought car impending fatherhood affecting judgement plans 330ci rav-4 aust gov rolls 43 bln 100mb bband way rest worlds bband speeds bnish dan grabbed yardhouse earlier pirate disappointed work early team meeting forgot lunch worried cutting hours start 1000am day morning starbucks mrjoe sorry hear bike aliceverheij ms xp im afriad laptop 3yrs old think bit messed going rpm vespa needs oil going fast remains un broken year mark speight died year goes fast exactly cities burn worries quotas cities burns likely final outingquot - new album review like 9-5 malarky - seeing friends seen months stupid work aw balls new shirt got aerie today fit wear medium small saulwilliams budget yr ireland today want tax text messages pray poets finished second research paper week tuesdaykind kill test friday jpiasentin unfortunately pack probably scotland week having panic attack sleep distracting tv internet hope goes away soon susanstn opps unable dm moment maybe twitter bugs maintenance project going drain legal issues dealt fatal blow heat grazia subscriptions probably delivered door missing n ol frend amp thinking bout rite brahhh quit smoking cigs dont want look old plus cant breath haha omy jus woke wishing woke sumwer ny lol school suxxx wish tourny ainzdj mate time gettin gonna able hang late bit comin support fo sho mathie makes hard work small businesses great sick coughing having sore throat got 7 mistakenly 6 got brainbone daily question wrong - phillyd wishing best lt3 rockchic65 normally pumpkin patch bit skint minute headtotail thank feel sad hope nice life til end msjheart lol yeah good gotta unplug use hustle 79 bucks new cant sleep need cuddle robertzalme yes theory getting solutions coming going school minutes head-ache tt looking forward meeting angry teacher wayy early awake zzz attack hayfever noooo need hugs neevd know sites play games shall past second footpath frogger playing killzone 2 demo iloveac slut talk talk rinn waa waaa waaaaaaaa lol love courtney mrsfr yes unfortunately date clashed important long standing family party got having coffee frost car windows suspected hope tired today comp screwed jessicafilan charliecondou 4skinmusic like crazytwism knowthey block orkut dubai oman orkut accessbut skype banned ru gulf hates waiting game hates uncertainties throat hurts think cold kind sad bullshit found owi totally ate pavement morn stephens green luas stopso soreand freaking tv camera thereof times fall jamming postponed boohoohoozx damn flu bug baby went home morning net towers deadline wakey wakey bored dog annoying weights 20 pounds want come knees miss family guyyy tired borrrrrred vacation sooooooo hot sitting waiting sitting home watching jeremy kyle bored germany stuck work super stressed wish kateblogs author subscriber early -- bored trantula song stuck head past hour wwwstalkdailycomgeorg feels like cramp disconcerting skynicmac shame sites pr dropped mcbesty monday usually working day maxbarners hope goes supposed work university construction sight close makes contant noise crucifire damit idea todays comic wrote credit zen sushi lunch todaylooks like raining outside ashley tisdale love dye hair didnt announce reading lineup ronjeffries love hire tons fun time budget tho hiring german girl night brisbane micameli friend supposed having arranged lan jetblackonyxs missmell blasty-blast time home gnah inner tube exploded gotta taxi work late good morning - going run morning dentist drilling cubedweller gah - freeview - brought colbert report consider switching clinic booring 18 days left london time jerrrm today meeting day gilaaaa hungry dreaming yumyums gym yesteday new gym need new induction good news booked wednesday woot ughhhhh coming house ilu bb gfalcone601 nawww london cornwalls boring website kingkiwi want rain nice today 306 letters sent better start writing llordllama oh obadiah names start e generally good valdezign hmm beta nambu pingfm friendfeed disabled boo ohhh lost voice arizonaaaa - japannaly hhhahaha cant thursday bitch jk hahaha booo ee suck daniella bring sam happy fabianv kind docs write docs wishes om homework right ok heres deal live small town seen anythin famous n thought luck duskyazure u got 2 lie - ve bn way 2 long mrs woke 6am morning amp dragd slumberlnd time trying plan tripslow budget thoughdo think working ianhanlon scobz goal celeb respond tweets sleep sleep speaks waiting tom mums birthday im glad likes pressies looking forward party time later week sad im going cornwall dajbelshaw sounds like day gym car arrived maybe shall thursdaydamn paperwork ratsofatsorat left sips mocha reusable coffee mug week chunky omg whats windows vista today tried installing windows 7 laptop died reinstall mean goes anymore x dear twitter 4 bug bites leg r itchyyyy haha got outta shower uhh night thomassonora problem poken error tracitoguchi nah feeling come mushyv ahhhhh hoff programme sounded classs fuckin missed hopes repeat innit confused life grunt121 good luck big meeting hope rumour mill wrong jxx white guy manager shouts walk wanna feast missing 17 thursday worst hello world dont like physics going dentist mean tooth spa right valeriekhoo boyfriend means world muchless understand natazzz hurt sad finished marking celebrate tho got communicate marks amp feedback online students rest night gone sick hate simon felice longer playing felice brothers sure feel ears size 00 hurt watching chaos theory wonderful movie love going holidays friend tomorrow exited twitter looks like nobel peace prize simply popularity contest oww poor darling body missing tracy girl sandra cantu found inside suitcase wwwtinyurlcomdfhvzg tracy ugh mum wake early 845 geesh need sleep princessnadysthere noth awww work time play haylieofficial night post email loves long walk energy chair chrismevans argh driving london today wrong turn kings-x - stuck extra 30 minutes logjam traffic mattg00d dont like having internet dont tweet jodielane jodie awake hungry need coz leaving coz wont talk llaacceeyy haha good cook looks pretty foul right love having voguettes twitter yay nice meet x needs dentist perfect start holidayshm milk cup tea mother fuckers changing rotas telling cool work add boyfriend arghhhhhh cant profile picture im sorry guys dont know lolzitsmel paranormal pretty good tonight glinner think right username mr brooks grey day london come sun forgiven hate windows movie maker sony vegas come cant download anymore brother banned downloading cant stop laughing burger king commericalim easily amused davidkudrev pity facebook chat exceeded msns amazingly level unreliability pity shall remove irrelevant hubby tight scedule easter vaca stressing 8 visits denmark 6 days rickrodgers kidding man rim sync client linux opensync package sucks charge lolz oh agents booked wrong days x1000000 going josh course broke right thing feel bad confused wish new glasses expensive yummy pizza dinner mouth burnt literally spitting blood im little bit bored warrnambool animal docos handle wordpress bitch-ass bitch new silence remix casasteve vw forums nightmare enthusiasts forums results politics bitching awake sensible time alot coursework bohoo schofe sounds like great shame work wyldceltic1 read glad better emperoremil yup work midshift na e burjz ugh mean sign got gone babys heading perth uh d dentists hurt today holy crap feel like teeth fall let giant cookie going ride hate legs feels sick needs foood cant find camera night good lindsays house pretty ruined eek omkarkurode won coz created quotavenuesquot yeah mistake choosing tango zone youtube sound ubuntu find phone hospital foot x-ray wait doctor confirm hate hospitals ahh sorry yall able twitter phone work brit amazeingahhh damn tired today actually need nap home time woke tiresome times heromancer come orlando sooon sadly wishes restaurant city pet society ported iphoneitouch twittering past 22 days obviously 140am taking small break ochem omg bed making sick cant sleep way hospital praying bowl bran flakes ave shower revision phillcoleman low 35 night sarahlsharp oops feel like breaking hearts shystieuk wish luck gotta london ging great olmand street appointment scared xxxx devdsp hrm posts sound like holding etnobofin google translator hospital foot x-ray wait doctor confirm hate hospitals thi m4 v ci u b know feel upset losing follower probably porn star trying sell arghfirefox removed bookmarks folder - sharepoint folder including links idea whyhow delustre wanna watch dollhouse seen eps lt3 eliza dushku lol kourtneykardash need beach bod saw dan neighbours walking chapel streetrandom feeling like going fire work any1 got job going jansmells maybe stop lazy goosed sorry procrastinating gone macbatchelor ah rehearsal tonight awaiting imminent arrival clairefallen nah snow april sucks colbsi flickrs letting view - says private misswyn bet remember easter kid excited shall great day xambix wow welcome home eh shit especially coming holiday fucking people blueeyedbomber excellent missed saturday night tiahn good coz therebad coz paid going sunny today right forecasters hopes fb ollien33 carousella - doctors appointment 9 11 sucks bit sick working 2 articles today 2 days nice little office dont wanna want college want cuddle babyyy hmm shoulder making bad noises arm forth know fear return physio required happyahma - welcome sorry hear ants rhyswynne pest grr spam odannygirl7 oh yesses quotroad rashquot hip lovely ay rock whyvee welcome home sounds like hell journey got offer camping fraser island weekend jump offer 2nd thought forecast rain latexfetish sadly feed wordpress feed usually blacomfeed blacomfeedrss2 exist kristenkreuk fiuhh nice info fans indonesia waiting movie country thanx want leave college cant smoking tried easy moved dwsr tayswift - 3am btw congrats winning album year deserve shed tear white horse hedgewytch oh horrible innocent smoothies love start putting rubbish sleep fight outside inconsiderate wanna sleep frightened cos spider time hope flat repels unfortunately got man save having casual unprotected tweets twats shall probably mom dissapointed going sidee dee cold insomnia headache virtuallin actually like taub reason thought bromance kutner cute kutner sigh watched smallville 8x18 nite ep decisions fail impress time watched movie huge epiphinal line exactly needed need find jazred87 told caved end abusing like facebook real friends upload pic personal web site hacked finally cold hope suceed bugger good today error check things currently wishing treacle sponge custard louise night watching order phoenix reports italy 179 death 34 missing 1500 injured italy earthquake rai know sucks finding burned tail light stores closed plus open work gday evil highschool right rain ruined malaysian gp - fun money ajiee thnx ajeng skip class im totally unprepared way chicago finally connecting london home 5 measely days maxime68 darn open work computer supposed fun work thanks janelle76 want phone fbms twitter keongzai assign eff hospital soon kinda sucks allowed eat x like uk postal prices gone costs 20p mail black velvet usarotw amp 10p uk 4 days york - nice place photos coming soon feeling sick work davenavarro6767 wondering quiet days miss chatty dave alystoe hope okay work thinking graveyard shift sux day work holiday argh got fuck loads snickered like minutes thinking awesomest know use thing stupid picture upload madre grinding gonna long week thomasgudgeon yes shame plastic generation think tweetdeck failing hurts mckaylajb hey lol btw u know upload picture tried shows xo working home sooo super duper cold misterskull awwwwww shame miles miles away spent half hour making playlist tonight going long night nattnatt81 doggie dazzler im trying work bit today want coule pop ovr hi later oh damnfried screwing lunch getting ready leave calii donquott want home wish bring kids maths examen 1 o clock ryanseacrest tie bar missed wednesday nickdawson hope knee feels better quickly having night wondering lovely wife check respond tweets course document important tables published internet love joke punch line jonathin sorry left corel install cd room went coffee kids got milk coke instead yoghurt overload orangeflowers scary clutter unclean pain keeps awake lately shld start subsiding wk good morning worlds - got snow throat killing missing gordon fighting hungries willieday26 sleep 345 work 830 know problem artemisiii aw sorry hear know jeans winter miss kabalin hates stuffy nose preventing sleep remedies went bed 8pm wide awake 4 work 830 going long day rustyrockets tnk need smile today write everyoneee x itchy eyesgrass cutoh-oh damn filling fell half tooth gone daftasabat needed lie lol slept 6 hours days killing watched greys anatomy cried writing miss meg hope lost sigh going look curtains yesterday bad day found bernie mac died year u shud online dunno find outoutout dunnoi emailed website aampr sent tweet repliesthey probably got bored fan-remixers bugging wishing sleep probably going happen tonight riry pain nomming hand sprayed cat nip mist joke craaaazy silverlines aaaah jadi tiba2 pingin butter sugar toast huhuu thats messed jennnnie yes projects wool hiding meit friday went craigs place project reports school need words 700 words short inspiredwriting love - - easily read tweed working twittercom reloading time teleken unfortunately sorry hopefully find hang use fax machines drjackdr oh disaster horrible situation bid signed panic disco poster unfortunatly fall boy limit antzpantz obviosuly missed evcery single jordynhill7 oh cic meaning ring feeling lose lissie45 sorry saw post signed finished reading lolthese guys gold feel bad paid 600 sweetest ol boy 88 telling war swellvintage lot better today thanks unfortunately sick mean loss apetite x sminchin1977 sorry hear unwell school holiday syndrome waiting scrappers come pick old saab hates know got home night 4 hours laying flattened bean bag ftl great song ooo dr hd ok ok officially sad techy geek valium needz septmourningm texas far phx lol luckyrivera great song ouch toenail aaaaaaaa babysitting morning stiil excuse watch chute cbbc man wacky dream early morning loggin looks like ats spamming updates good mood morning anymore stupid work stupid cellphone provider cant understand linked sthe point got bakc shoot bloody exhausted need hug forgot shitty co-op ugh looking dress friend find enjoying lunch lake constance - uh cool impossible want new job particually better new shaundiviney want pizzaaaa windows mobile doesnt allow write stack pointer need college work work having food terrible toothache feeling grumpy 44 hotels write work queue pypi fail installing markdown pip easyinstall downloads python 3 version y isnt sunny yesterday deadline ahead karinhoegh true love frienfeed cool apps delivers value little time damn m missing twitter busy late got enuff time active twitter missing d action continue hurtful things peace wanted grr savicevic aww roommate year bye im going stop 3tfan cant im fan becouse want date taryll dosent want ianmack season yes descended creepy teen boy humour season 2 lt3 muldermoody iphoneincanada wait 10-cheaper package 150 voice minutes cheaper substantially better messsedd upppp suck making jelly cakeeeee swati121 swati omg missed soo heard new jls song 8- ahaa youre probs jetlagged right argh fantasy surfer carnage dane marlon amp nat c fantasysurfer feels slightly ill guess shouldnt eaten mc ds awlred dont exist anodising services exist - wishing hadnt drunk mush yestaday got amazing new pedal blew speakers wish sydney craigelder proof reading defra greener living fund bid - govt dept grant application deadline close easter hairpins ohh envy natalieeee need new wardrobe wear weekend anothera swati121 yeah havnt got cradunlimited textcall sucks catch today xxxxx sad coz alisons leaving england france tonight needs mouse looks like lappys touch pad giving na u u find person u supported stood day 1 tells u past tried blow u doctors appointment nasa lost raw footage apollo 11 mission winter slowly creeping cape town looking forward cheekybeer document management systems good idea rarely happen practice hate time super bored sleeping ge ready work 9 hour shift ahead x greyhoundgal omg page excited congratulations sorry torres hurting paw tho dog tired reason going bed late sleeping lately makes angry denpasar good luck look forward update run option wind seriously blowing real gale day lshs tomorrow smell tyson wishes twitter translator twitter caught southern hemisphere shall aventually guess christinastokes sh working says website office jxox ohh hope stopin till reply lol wunder marvs read vs lyrics haha imagine nxt blog kleinjinx like in-laws coming easter meet time camera spoil sooo motivated work wont let log know users thier cos anth sent friend request waiting dispatch got hour ago sleeping 4 hours guess shall bed going sleep busy day going meetings stuff - miss girl shes switzerland marthagonemad agreed wish pure easy fun urgh head hurts think 7 hours sleep cat miaowing rest wicked hour late-bad plumbers wish 100 better 100 awesome work better allowed sway sway baby concert shall seriously cry silverlines tadi di pim udah sempet lirik2 mesra tapi baru abis makan definitely putting agenda time pim marley crying like kid good movie good night people lost favourite mac lipglossi upset iti lose things pretty sure electrical house slowly dying like money replace stuff bed painfully tempting right nap shall probably wake 4pm frustrated rudd cant facilitate private enterprise investing broadband infrastructureinstead needs waste money mercygrl oh wow little chubster cant invite ppl play uno facebook moment want ffxii bad got chance play garage getting estimate wheel damage car sundays little mishap - looking good bah hairline fracture impellor hub titsuptuesday morning bad dream woke meatrack sneaky late arvo surfs man feel late arvo glass distant memory summer sleepi wake 4 hours samdj1210 unfortunately work thanks advice bed ridden today dear fbdimms 4gb memory 8 running 90 crippled pc searching job berlin summer timedo speak german piccy coming soon -off watch 90210 god wanna america soo baadd oh harrods day sick tombot18 mind work sick veryyy bad watching american history x wanna watch american beauty buy meeee entered online poker tournement 49 finished 18th isnt happy twitter moment wont let upload picture wishing dougie tom reply trying extend reading watchmen reading dont want end lucygooesy haha nice barbie backgroud hasnt replied lol sunny outside im stuck indoors far far away window roll dinner rhinecruise09 absolutely right bed failed martha want grown usual cooking hate incredibly immensely indecisive wish come true hell carolina yay 2am bit tired boagworld profile picture makes happy return think need new promo picture fairy06 omg'"
            ]
          },
          "metadata": {},
          "execution_count": 80
        }
      ]
    },
    {
      "cell_type": "code",
      "source": [
        "wc = WordCloud(width = 1800, height = 900).generate(x)\n",
        "plt.imshow(wc)\n",
        "plt.axis('off')\n",
        "plt.show()"
      ],
      "metadata": {
        "colab": {
          "base_uri": "https://localhost:8080/",
          "height": 198
        },
        "id": "cTJdub9Lg6ER",
        "outputId": "d2091c34-af17-468e-ca6c-4959857d0cba"
      },
      "execution_count": null,
      "outputs": [
        {
          "output_type": "display_data",
          "data": {
            "image/png": "[encoded data removed]",
            "text/plain": [
              "<Figure size 432x288 with 1 Axes>"
            ]
          },
          "metadata": {
            "needs_background": "light"
          }
        }
      ]
    },
    {
      "cell_type": "markdown",
      "source": [
        "### **Spelling Correction**"
      ],
      "metadata": {
        "id": "XwIeZMOOh4OI"
      }
    },
    {
      "cell_type": "code",
      "source": [
        "from textblob import TextBlob"
      ],
      "metadata": {
        "id": "ZYnXdgo6h91_"
      },
      "execution_count": null,
      "outputs": []
    },
    {
      "cell_type": "code",
      "source": [
        "x = 'tanks forr waching this video carr'"
      ],
      "metadata": {
        "id": "x02zRYnaiEs5"
      },
      "execution_count": null,
      "outputs": []
    },
    {
      "cell_type": "code",
      "source": [
        "x = TextBlob(x).correct()"
      ],
      "metadata": {
        "id": "benNDP99iRhu"
      },
      "execution_count": null,
      "outputs": []
    },
    {
      "cell_type": "code",
      "source": [
        "x"
      ],
      "metadata": {
        "colab": {
          "base_uri": "https://localhost:8080/"
        },
        "id": "S9FpVsvniZFV",
        "outputId": "d77a1f06-4ee7-4241-fe53-97265806d5ba"
      },
      "execution_count": null,
      "outputs": [
        {
          "output_type": "execute_result",
          "data": {
            "text/plain": [
              "TextBlob(\"tanks for watching this video care\")"
            ]
          },
          "metadata": {},
          "execution_count": 85
        }
      ]
    },
    {
      "cell_type": "markdown",
      "source": [
        "### **Tokenization**"
      ],
      "metadata": {
        "id": "2q2EJ_Yqi6JV"
      }
    },
    {
      "cell_type": "code",
      "source": [
        "x = 'thanks for watching this video. Please like it'"
      ],
      "metadata": {
        "id": "0sdx0i7CjCbV"
      },
      "execution_count": null,
      "outputs": []
    },
    {
      "cell_type": "code",
      "source": [
        "import nltk\n",
        "nltk.download('punkt')"
      ],
      "metadata": {
        "colab": {
          "base_uri": "https://localhost:8080/"
        },
        "id": "5QfEtPSS8tSB",
        "outputId": "61e17d6a-2b43-4821-8465-af29af76bd32"
      },
      "execution_count": null,
      "outputs": [
        {
          "output_type": "stream",
          "name": "stdout",
          "text": [
            "[nltk_data] Downloading package punkt to /root/nltk_data...\n",
            "[nltk_data]   Package punkt is already up-to-date!\n"
          ]
        },
        {
          "output_type": "execute_result",
          "data": {
            "text/plain": [
              "True"
            ]
          },
          "metadata": {},
          "execution_count": 139
        }
      ]
    },
    {
      "cell_type": "code",
      "source": [
        "TextBlob(x).words"
      ],
      "metadata": {
        "colab": {
          "base_uri": "https://localhost:8080/"
        },
        "id": "56fKQi2h9oW6",
        "outputId": "dfa2cd89-4e73-4975-acd5-0d7541212ca5"
      },
      "execution_count": null,
      "outputs": [
        {
          "output_type": "execute_result",
          "data": {
            "text/plain": [
              "WordList(['thanks', 'for', 'watching', 'this', 'video', 'Please', 'like', 'it'])"
            ]
          },
          "metadata": {},
          "execution_count": 140
        }
      ]
    },
    {
      "cell_type": "code",
      "source": [
        "doc = nlp(x)\n",
        "for token in doc:\n",
        "  print(token)"
      ],
      "metadata": {
        "colab": {
          "base_uri": "https://localhost:8080/"
        },
        "id": "MgepAxIqkpdE",
        "outputId": "4cacac23-a55e-4048-89a2-c8775199de7d"
      },
      "execution_count": null,
      "outputs": [
        {
          "output_type": "stream",
          "name": "stdout",
          "text": [
            "thanks\n",
            "for\n",
            "watching\n",
            "this\n",
            "video\n",
            ".\n",
            "Please\n",
            "like\n",
            "it\n"
          ]
        }
      ]
    },
    {
      "cell_type": "markdown",
      "source": [
        "These are the two alternate ways to tokenize sentences."
      ],
      "metadata": {
        "id": "kYuUpI5P9xV7"
      }
    },
    {
      "cell_type": "markdown",
      "source": [
        "### **Lemmatization**"
      ],
      "metadata": {
        "id": "Af7gmyDtlXjX"
      }
    },
    {
      "cell_type": "code",
      "source": [
        "from textblob import Word"
      ],
      "metadata": {
        "id": "pFpc-BR3zLs9"
      },
      "execution_count": null,
      "outputs": []
    },
    {
      "cell_type": "code",
      "source": [
        "x = 'runs run running ran'"
      ],
      "metadata": {
        "id": "fykcL_BzzRfU"
      },
      "execution_count": null,
      "outputs": []
    },
    {
      "cell_type": "code",
      "source": [
        "doc = nlp(x)\n",
        "for token in doc:\n",
        "  print(token.lemma_)\n"
      ],
      "metadata": {
        "colab": {
          "base_uri": "https://localhost:8080/"
        },
        "id": "IJ5693Fq0Akz",
        "outputId": "22390d6c-4729-4d6b-dd45-4abb2be5fa29"
      },
      "execution_count": null,
      "outputs": [
        {
          "output_type": "stream",
          "name": "stdout",
          "text": [
            "run\n",
            "run\n",
            "run\n",
            "run\n"
          ]
        }
      ]
    },
    {
      "cell_type": "markdown",
      "source": [
        "### **Detect entities using NER of SpaCy**"
      ],
      "metadata": {
        "id": "4Xf87qWi0SPU"
      }
    },
    {
      "cell_type": "code",
      "source": [
        "x = 'Breaking News: Why does  Donald Trump, the President of USA want to mine on the moon? '"
      ],
      "metadata": {
        "id": "4A4W29uU0qxi"
      },
      "execution_count": null,
      "outputs": []
    },
    {
      "cell_type": "code",
      "source": [
        "doc = nlp(x)\n",
        "for ent in doc.ents:\n",
        "  print(ent.text + ' - ' + ent.label_ + ' - ' + str(spacy.explain(ent.label_)))\n"
      ],
      "metadata": {
        "colab": {
          "base_uri": "https://localhost:8080/"
        },
        "id": "QIdyHOcl04FQ",
        "outputId": "b0b36dfa-a898-476f-d9c0-5eebaa8dbe7d"
      },
      "execution_count": null,
      "outputs": [
        {
          "output_type": "stream",
          "name": "stdout",
          "text": [
            "Donald Trump - PERSON - People, including fictional\n"
          ]
        }
      ]
    },
    {
      "cell_type": "markdown",
      "source": [
        "### **Detecting Nouns**"
      ],
      "metadata": {
        "id": "-zcOI54F2kZo"
      }
    },
    {
      "cell_type": "code",
      "source": [
        "x"
      ],
      "metadata": {
        "colab": {
          "base_uri": "https://localhost:8080/",
          "height": 35
        },
        "id": "Ws6ecJBB2nWW",
        "outputId": "d0d48928-101d-45f6-84f3-ca87f86e6ca2"
      },
      "execution_count": null,
      "outputs": [
        {
          "output_type": "execute_result",
          "data": {
            "application/vnd.google.colaboratory.intrinsic+json": {
              "type": "string"
            },
            "text/plain": [
              "'Breaking News: Why does  Donald Trump, the President of USA want to mine on the moon? '"
            ]
          },
          "metadata": {},
          "execution_count": 113
        }
      ]
    },
    {
      "cell_type": "code",
      "source": [
        "for noun in doc.noun_chunks:\n",
        "  print(noun)"
      ],
      "metadata": {
        "colab": {
          "base_uri": "https://localhost:8080/"
        },
        "id": "QzHRcSnM2qwH",
        "outputId": "5ace8f3e-46ff-480e-cee0-8e3aa0423b2f"
      },
      "execution_count": null,
      "outputs": [
        {
          "output_type": "stream",
          "name": "stdout",
          "text": [
            "Breaking News\n",
            "Donald Trump\n",
            "the President\n",
            "USA\n",
            "the moon\n"
          ]
        }
      ]
    },
    {
      "cell_type": "markdown",
      "source": [
        "### **Translation and language detection**"
      ],
      "metadata": {
        "id": "Kdo1a6_V27NC"
      }
    },
    {
      "cell_type": "markdown",
      "source": [
        "**Language Code :** https://www.loc.gov/standards/iso639-2/php/code_list.php "
      ],
      "metadata": {
        "id": "Lfs5TfgV3oJr"
      }
    },
    {
      "cell_type": "code",
      "source": [
        "!pip install textblob"
      ],
      "metadata": {
        "colab": {
          "base_uri": "https://localhost:8080/"
        },
        "id": "MlQ5IYYM7N6t",
        "outputId": "a2c35475-ff89-4ea6-a6a7-3c93a4ec970f"
      },
      "execution_count": null,
      "outputs": [
        {
          "output_type": "stream",
          "name": "stdout",
          "text": [
            "Requirement already satisfied: textblob in /usr/local/lib/python3.7/dist-packages (0.15.3)\n",
            "Requirement already satisfied: nltk>=3.1 in /usr/local/lib/python3.7/dist-packages (from textblob) (3.2.5)\n",
            "Requirement already satisfied: six in /usr/local/lib/python3.7/dist-packages (from nltk>=3.1->textblob) (1.15.0)\n"
          ]
        }
      ]
    },
    {
      "cell_type": "code",
      "source": [
        "from textblob import TextBlob\n",
        "tb = TextBlob(x)"
      ],
      "metadata": {
        "id": "EIHnLwLZ31Sn"
      },
      "execution_count": null,
      "outputs": []
    },
    {
      "cell_type": "code",
      "source": [
        "#tb.detect_language()"
      ],
      "metadata": {
        "id": "tf7vQ9Mx36K0"
      },
      "execution_count": null,
      "outputs": []
    },
    {
      "cell_type": "code",
      "source": [
        "#tb.translate(to = 'zh')"
      ],
      "metadata": {
        "id": "uJIfBI4x4K4s"
      },
      "execution_count": null,
      "outputs": []
    },
    {
      "cell_type": "markdown",
      "source": [
        "![Screenshot (1081).png](data:image/png;base64,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)"
      ],
      "metadata": {
        "id": "qO1Taifd8OrT"
      }
    },
    {
      "cell_type": "markdown",
      "source": [
        "Note:- Above code cell isn't working in google colab, but runs perfectly in jupyter notebook anaconda, so i shared the desired output from there."
      ],
      "metadata": {
        "id": "_vIS704V8TOe"
      }
    },
    {
      "cell_type": "markdown",
      "source": [
        "### **Use inbuilt sentiment classifier**"
      ],
      "metadata": {
        "id": "U5DhAthQ554O"
      }
    },
    {
      "cell_type": "code",
      "source": [
        "from textblob.sentiments import NaiveBayesAnalyzer"
      ],
      "metadata": {
        "id": "I6FhqZu_5-2E"
      },
      "execution_count": null,
      "outputs": []
    },
    {
      "cell_type": "code",
      "source": [
        "import nltk\n",
        "nltk.download('movie_reviews')"
      ],
      "metadata": {
        "colab": {
          "base_uri": "https://localhost:8080/"
        },
        "id": "lCDnIm6n_dlr",
        "outputId": "192d984e-4465-4212-bb6c-c74e804e6049"
      },
      "execution_count": null,
      "outputs": [
        {
          "output_type": "stream",
          "name": "stdout",
          "text": [
            "[nltk_data] Downloading package movie_reviews to /root/nltk_data...\n",
            "[nltk_data]   Unzipping corpora/movie_reviews.zip.\n"
          ]
        },
        {
          "output_type": "execute_result",
          "data": {
            "text/plain": [
              "True"
            ]
          },
          "metadata": {},
          "execution_count": 154
        }
      ]
    },
    {
      "cell_type": "code",
      "source": [
        "x = 'you are stupid'"
      ],
      "metadata": {
        "id": "dgT16AGS-WfE"
      },
      "execution_count": null,
      "outputs": []
    },
    {
      "cell_type": "code",
      "source": [
        "tb = TextBlob(x, analyzer = NaiveBayesAnalyzer())"
      ],
      "metadata": {
        "id": "12rt8A8w-fbB"
      },
      "execution_count": null,
      "outputs": []
    },
    {
      "cell_type": "code",
      "source": [
        "tb.sentiment"
      ],
      "metadata": {
        "colab": {
          "base_uri": "https://localhost:8080/"
        },
        "id": "ANXoJP0M-n71",
        "outputId": "c9e4178d-61a6-4da8-ccf6-94003a24d481"
      },
      "execution_count": null,
      "outputs": [
        {
          "output_type": "execute_result",
          "data": {
            "text/plain": [
              "Sentiment(classification='neg', p_pos=0.1984606051964413, p_neg=0.8015393948035586)"
            ]
          },
          "metadata": {},
          "execution_count": 164
        }
      ]
    },
    {
      "cell_type": "markdown",
      "source": [
        "## **Advanced Text Processing**"
      ],
      "metadata": {
        "id": "4hVyDrDmAOPr"
      }
    },
    {
      "cell_type": "markdown",
      "source": [
        "###**N-Grams**"
      ],
      "metadata": {
        "id": "gIjalJFvAbcN"
      }
    },
    {
      "cell_type": "code",
      "source": [
        "x = 'Thanks for coming'"
      ],
      "metadata": {
        "id": "vPiQnutoANrx"
      },
      "execution_count": null,
      "outputs": []
    },
    {
      "cell_type": "code",
      "source": [
        "tb = TextBlob(x)\n",
        "tb.ngrams(2)"
      ],
      "metadata": {
        "colab": {
          "base_uri": "https://localhost:8080/"
        },
        "id": "EtBBvBz_A6_7",
        "outputId": "948e3509-c021-4676-bd3c-fef002462c98"
      },
      "execution_count": null,
      "outputs": [
        {
          "output_type": "execute_result",
          "data": {
            "text/plain": [
              "[WordList(['Thanks', 'for']), WordList(['for', 'coming'])]"
            ]
          },
          "metadata": {},
          "execution_count": 167
        }
      ]
    },
    {
      "cell_type": "code",
      "source": [
        "tb.ngrams(1)"
      ],
      "metadata": {
        "colab": {
          "base_uri": "https://localhost:8080/"
        },
        "id": "GSA15wBEBEVY",
        "outputId": "582633af-eb1c-4c49-b106-60b69ec80942"
      },
      "execution_count": null,
      "outputs": [
        {
          "output_type": "execute_result",
          "data": {
            "text/plain": [
              "[WordList(['Thanks']), WordList(['for']), WordList(['coming'])]"
            ]
          },
          "metadata": {},
          "execution_count": 168
        }
      ]
    },
    {
      "cell_type": "code",
      "source": [
        "tb.ngrams(3)"
      ],
      "metadata": {
        "colab": {
          "base_uri": "https://localhost:8080/"
        },
        "id": "viYBbHT_BH3F",
        "outputId": "518a24d6-5431-4cbd-871e-49014e69c5ee"
      },
      "execution_count": null,
      "outputs": [
        {
          "output_type": "execute_result",
          "data": {
            "text/plain": [
              "[WordList(['Thanks', 'for', 'coming'])]"
            ]
          },
          "metadata": {},
          "execution_count": 169
        }
      ]
    },
    {
      "cell_type": "markdown",
      "source": [
        "###**Bag Of Words**"
      ],
      "metadata": {
        "id": "-He0_02MBMEA"
      }
    },
    {
      "cell_type": "code",
      "source": [
        "x = ['this is first sentence', 'this is second', 'this is last']"
      ],
      "metadata": {
        "id": "9PjhTlYzBWpK"
      },
      "execution_count": null,
      "outputs": []
    },
    {
      "cell_type": "code",
      "source": [
        "import sklearn\n",
        "from sklearn.feature_extraction.text import CountVectorizer"
      ],
      "metadata": {
        "id": "0MoxRKGnBzkW"
      },
      "execution_count": null,
      "outputs": []
    },
    {
      "cell_type": "code",
      "source": [
        "cv = CountVectorizer(ngram_range= (1,1))\n",
        "text_counts = cv.fit_transform(x)"
      ],
      "metadata": {
        "id": "1gv0slKWCSrs"
      },
      "execution_count": null,
      "outputs": []
    },
    {
      "cell_type": "code",
      "source": [
        "text_counts.toarray()"
      ],
      "metadata": {
        "colab": {
          "base_uri": "https://localhost:8080/"
        },
        "id": "FBmnmAl8ClgR",
        "outputId": "c49f4c3e-2ca3-4cce-96a8-4b60846e8454"
      },
      "execution_count": null,
      "outputs": [
        {
          "output_type": "execute_result",
          "data": {
            "text/plain": [
              "array([[1, 1, 0, 0, 1, 1],\n",
              "       [0, 1, 0, 1, 0, 1],\n",
              "       [0, 1, 1, 0, 0, 1]])"
            ]
          },
          "metadata": {},
          "execution_count": 185
        }
      ]
    },
    {
      "cell_type": "code",
      "source": [
        "cv.get_feature_names()"
      ],
      "metadata": {
        "colab": {
          "base_uri": "https://localhost:8080/"
        },
        "id": "QXvlKGseEX8K",
        "outputId": "3785ca80-6bfc-4b80-b637-59acbd4a6f34"
      },
      "execution_count": null,
      "outputs": [
        {
          "output_type": "stream",
          "name": "stderr",
          "text": [
            "/usr/local/lib/python3.7/dist-packages/sklearn/utils/deprecation.py:87: FutureWarning: Function get_feature_names is deprecated; get_feature_names is deprecated in 1.0 and will be removed in 1.2. Please use get_feature_names_out instead.\n",
            "  warnings.warn(msg, category=FutureWarning)\n"
          ]
        },
        {
          "output_type": "execute_result",
          "data": {
            "text/plain": [
              "['first', 'is', 'last', 'second', 'sentence', 'this']"
            ]
          },
          "metadata": {},
          "execution_count": 188
        }
      ]
    },
    {
      "cell_type": "code",
      "source": [
        "bow = pd.DataFrame(text_counts.toarray(), columns = cv.get_feature_names())"
      ],
      "metadata": {
        "colab": {
          "base_uri": "https://localhost:8080/"
        },
        "id": "ExI3mL7hESno",
        "outputId": "08c91440-bcb7-4f26-c41c-8c485ee62e48"
      },
      "execution_count": null,
      "outputs": [
        {
          "output_type": "stream",
          "name": "stderr",
          "text": [
            "/usr/local/lib/python3.7/dist-packages/sklearn/utils/deprecation.py:87: FutureWarning: Function get_feature_names is deprecated; get_feature_names is deprecated in 1.0 and will be removed in 1.2. Please use get_feature_names_out instead.\n",
            "  warnings.warn(msg, category=FutureWarning)\n"
          ]
        }
      ]
    },
    {
      "cell_type": "code",
      "source": [
        "bow"
      ],
      "metadata": {
        "colab": {
          "base_uri": "https://localhost:8080/",
          "height": 143
        },
        "id": "bXovveGSEy4K",
        "outputId": "6c49a1d9-403e-479e-8506-64a94e7ca1d4"
      },
      "execution_count": null,
      "outputs": [
        {
          "output_type": "execute_result",
          "data": {
            "text/html": [
              "<div>\n",
              "<style scoped>\n",
              "    .dataframe tbody tr th:only-of-type {\n",
              "        vertical-align: middle;\n",
              "    }\n",
              "\n",
              "    .dataframe tbody tr th {\n",
              "        vertical-align: top;\n",
              "    }\n",
              "\n",
              "    .dataframe thead th {\n",
              "        text-align: right;\n",
              "    }\n",
              "</style>\n",
              "<table border=\"1\" class=\"dataframe\">\n",
              "  <thead>\n",
              "    <tr style=\"text-align: right;\">\n",
              "      <th></th>\n",
              "      <th>first</th>\n",
              "      <th>is</th>\n",
              "      <th>last</th>\n",
              "      <th>second</th>\n",
              "      <th>sentence</th>\n",
              "      <th>this</th>\n",
              "    </tr>\n",
              "  </thead>\n",
              "  <tbody>\n",
              "    <tr>\n",
              "      <th>0</th>\n",
              "      <td>1</td>\n",
              "      <td>1</td>\n",
              "      <td>0</td>\n",
              "      <td>0</td>\n",
              "      <td>1</td>\n",
              "      <td>1</td>\n",
              "    </tr>\n",
              "    <tr>\n",
              "      <th>1</th>\n",
              "      <td>0</td>\n",
              "      <td>1</td>\n",
              "      <td>0</td>\n",
              "      <td>1</td>\n",
              "      <td>0</td>\n",
              "      <td>1</td>\n",
              "    </tr>\n",
              "    <tr>\n",
              "      <th>2</th>\n",
              "      <td>0</td>\n",
              "      <td>1</td>\n",
              "      <td>1</td>\n",
              "      <td>0</td>\n",
              "      <td>0</td>\n",
              "      <td>1</td>\n",
              "    </tr>\n",
              "  </tbody>\n",
              "</table>\n",
              "</div>"
            ],
            "text/plain": [
              "   first  is  last  second  sentence  this\n",
              "0      1   1     0       0         1     1\n",
              "1      0   1     0       1         0     1\n",
              "2      0   1     1       0         0     1"
            ]
          },
          "metadata": {},
          "execution_count": 190
        }
      ]
    },
    {
      "cell_type": "markdown",
      "source": [
        "###**Term Frequency**\n",
        ": It is the ratio of the count of a word present in a sentence to the length of the sentence."
      ],
      "metadata": {
        "id": "PNEIdmiRGaLo"
      }
    },
    {
      "cell_type": "code",
      "source": [
        "x"
      ],
      "metadata": {
        "colab": {
          "base_uri": "https://localhost:8080/"
        },
        "id": "d78q8bV2Ggo6",
        "outputId": "fd965558-0bc0-4c0d-ba69-7b9da41e6274"
      },
      "execution_count": null,
      "outputs": [
        {
          "output_type": "execute_result",
          "data": {
            "text/plain": [
              "['this is first sentence', 'this is second', 'this is last']"
            ]
          },
          "metadata": {},
          "execution_count": 191
        }
      ]
    },
    {
      "cell_type": "code",
      "source": [
        "bow"
      ],
      "metadata": {
        "colab": {
          "base_uri": "https://localhost:8080/",
          "height": 143
        },
        "id": "fcCNDLBfGnqG",
        "outputId": "ff46a196-49d7-4e98-bf16-6009c41c69e9"
      },
      "execution_count": null,
      "outputs": [
        {
          "output_type": "execute_result",
          "data": {
            "text/html": [
              "<div>\n",
              "<style scoped>\n",
              "    .dataframe tbody tr th:only-of-type {\n",
              "        vertical-align: middle;\n",
              "    }\n",
              "\n",
              "    .dataframe tbody tr th {\n",
              "        vertical-align: top;\n",
              "    }\n",
              "\n",
              "    .dataframe thead th {\n",
              "        text-align: right;\n",
              "    }\n",
              "</style>\n",
              "<table border=\"1\" class=\"dataframe\">\n",
              "  <thead>\n",
              "    <tr style=\"text-align: right;\">\n",
              "      <th></th>\n",
              "      <th>first</th>\n",
              "      <th>is</th>\n",
              "      <th>last</th>\n",
              "      <th>second</th>\n",
              "      <th>sentence</th>\n",
              "      <th>this</th>\n",
              "    </tr>\n",
              "  </thead>\n",
              "  <tbody>\n",
              "    <tr>\n",
              "      <th>0</th>\n",
              "      <td>1</td>\n",
              "      <td>1</td>\n",
              "      <td>0</td>\n",
              "      <td>0</td>\n",
              "      <td>1</td>\n",
              "      <td>1</td>\n",
              "    </tr>\n",
              "    <tr>\n",
              "      <th>1</th>\n",
              "      <td>0</td>\n",
              "      <td>1</td>\n",
              "      <td>0</td>\n",
              "      <td>1</td>\n",
              "      <td>0</td>\n",
              "      <td>1</td>\n",
              "    </tr>\n",
              "    <tr>\n",
              "      <th>2</th>\n",
              "      <td>0</td>\n",
              "      <td>1</td>\n",
              "      <td>1</td>\n",
              "      <td>0</td>\n",
              "      <td>0</td>\n",
              "      <td>1</td>\n",
              "    </tr>\n",
              "  </tbody>\n",
              "</table>\n",
              "</div>"
            ],
            "text/plain": [
              "   first  is  last  second  sentence  this\n",
              "0      1   1     0       0         1     1\n",
              "1      0   1     0       1         0     1\n",
              "2      0   1     1       0         0     1"
            ]
          },
          "metadata": {},
          "execution_count": 192
        }
      ]
    },
    {
      "cell_type": "code",
      "source": [
        "bow.shape"
      ],
      "metadata": {
        "colab": {
          "base_uri": "https://localhost:8080/"
        },
        "id": "yU9-6g_SGola",
        "outputId": "d016b47c-b500-4d21-f1ee-b54dc2fb1ffa"
      },
      "execution_count": null,
      "outputs": [
        {
          "output_type": "execute_result",
          "data": {
            "text/plain": [
              "(3, 6)"
            ]
          },
          "metadata": {},
          "execution_count": 193
        }
      ]
    },
    {
      "cell_type": "code",
      "source": [
        "tf = bow/bow.shape[1]"
      ],
      "metadata": {
        "id": "pJJffb8pGtYc"
      },
      "execution_count": null,
      "outputs": []
    },
    {
      "cell_type": "code",
      "source": [
        "for index, row in enumerate(bow.iterrows()):\n",
        "  for col in row[1].index:\n",
        "    bow.loc[index, col] = bow.loc[index, col]/sum(row[1].values)"
      ],
      "metadata": {
        "id": "m1hrSqbrG5cI"
      },
      "execution_count": null,
      "outputs": []
    },
    {
      "cell_type": "code",
      "source": [
        "bow"
      ],
      "metadata": {
        "colab": {
          "base_uri": "https://localhost:8080/",
          "height": 143
        },
        "id": "_HF20ocqIEYS",
        "outputId": "42f7affb-13d7-420f-a602-b0795efc5d2f"
      },
      "execution_count": null,
      "outputs": [
        {
          "output_type": "execute_result",
          "data": {
            "text/html": [
              "<div>\n",
              "<style scoped>\n",
              "    .dataframe tbody tr th:only-of-type {\n",
              "        vertical-align: middle;\n",
              "    }\n",
              "\n",
              "    .dataframe tbody tr th {\n",
              "        vertical-align: top;\n",
              "    }\n",
              "\n",
              "    .dataframe thead th {\n",
              "        text-align: right;\n",
              "    }\n",
              "</style>\n",
              "<table border=\"1\" class=\"dataframe\">\n",
              "  <thead>\n",
              "    <tr style=\"text-align: right;\">\n",
              "      <th></th>\n",
              "      <th>first</th>\n",
              "      <th>is</th>\n",
              "      <th>last</th>\n",
              "      <th>second</th>\n",
              "      <th>sentence</th>\n",
              "      <th>this</th>\n",
              "    </tr>\n",
              "  </thead>\n",
              "  <tbody>\n",
              "    <tr>\n",
              "      <th>0</th>\n",
              "      <td>0.25</td>\n",
              "      <td>0.250000</td>\n",
              "      <td>0.000000</td>\n",
              "      <td>0.000000</td>\n",
              "      <td>0.25</td>\n",
              "      <td>0.250000</td>\n",
              "    </tr>\n",
              "    <tr>\n",
              "      <th>1</th>\n",
              "      <td>0.00</td>\n",
              "      <td>0.333333</td>\n",
              "      <td>0.000000</td>\n",
              "      <td>0.333333</td>\n",
              "      <td>0.00</td>\n",
              "      <td>0.333333</td>\n",
              "    </tr>\n",
              "    <tr>\n",
              "      <th>2</th>\n",
              "      <td>0.00</td>\n",
              "      <td>0.333333</td>\n",
              "      <td>0.333333</td>\n",
              "      <td>0.000000</td>\n",
              "      <td>0.00</td>\n",
              "      <td>0.333333</td>\n",
              "    </tr>\n",
              "  </tbody>\n",
              "</table>\n",
              "</div>"
            ],
            "text/plain": [
              "   first        is      last    second  sentence      this\n",
              "0   0.25  0.250000  0.000000  0.000000      0.25  0.250000\n",
              "1   0.00  0.333333  0.000000  0.333333      0.00  0.333333\n",
              "2   0.00  0.333333  0.333333  0.000000      0.00  0.333333"
            ]
          },
          "metadata": {},
          "execution_count": 198
        }
      ]
    },
    {
      "cell_type": "markdown",
      "source": [
        "###**Inverse Document Frequency**"
      ],
      "metadata": {
        "id": "Vln6JXfcIgpC"
      }
    },
    {
      "cell_type": "markdown",
      "source": [
        "idf = log((1+N)/(n+1)) + 1 used in sklearn when smooth_idf = true\n",
        "where N is the total number of rows and n is the number of rows in which the word was present."
      ],
      "metadata": {
        "id": "JV4EHWyuJBuD"
      }
    },
    {
      "cell_type": "code",
      "source": [
        "import numpy as np"
      ],
      "metadata": {
        "id": "4kNJK9VAJf0h"
      },
      "execution_count": null,
      "outputs": []
    },
    {
      "cell_type": "code",
      "source": [
        "x_df = pd.DataFrame(x, columns=['words'])"
      ],
      "metadata": {
        "id": "d3gD0-pYJjCP"
      },
      "execution_count": null,
      "outputs": []
    },
    {
      "cell_type": "code",
      "source": [
        "x_df"
      ],
      "metadata": {
        "colab": {
          "base_uri": "https://localhost:8080/",
          "height": 143
        },
        "id": "cq4A2iuMJwiO",
        "outputId": "97cf85c7-1bb6-4e99-d66f-e7c23c2b56bd"
      },
      "execution_count": null,
      "outputs": [
        {
          "output_type": "execute_result",
          "data": {
            "text/html": [
              "<div>\n",
              "<style scoped>\n",
              "    .dataframe tbody tr th:only-of-type {\n",
              "        vertical-align: middle;\n",
              "    }\n",
              "\n",
              "    .dataframe tbody tr th {\n",
              "        vertical-align: top;\n",
              "    }\n",
              "\n",
              "    .dataframe thead th {\n",
              "        text-align: right;\n",
              "    }\n",
              "</style>\n",
              "<table border=\"1\" class=\"dataframe\">\n",
              "  <thead>\n",
              "    <tr style=\"text-align: right;\">\n",
              "      <th></th>\n",
              "      <th>words</th>\n",
              "    </tr>\n",
              "  </thead>\n",
              "  <tbody>\n",
              "    <tr>\n",
              "      <th>0</th>\n",
              "      <td>this is first sentence</td>\n",
              "    </tr>\n",
              "    <tr>\n",
              "      <th>1</th>\n",
              "      <td>this is second</td>\n",
              "    </tr>\n",
              "    <tr>\n",
              "      <th>2</th>\n",
              "      <td>this is last</td>\n",
              "    </tr>\n",
              "  </tbody>\n",
              "</table>\n",
              "</div>"
            ],
            "text/plain": [
              "                    words\n",
              "0  this is first sentence\n",
              "1          this is second\n",
              "2            this is last"
            ]
          },
          "metadata": {},
          "execution_count": 201
        }
      ]
    },
    {
      "cell_type": "code",
      "source": [
        "N = bow.shape[0]\n",
        "N"
      ],
      "metadata": {
        "colab": {
          "base_uri": "https://localhost:8080/"
        },
        "id": "ihf6blkcJ4oQ",
        "outputId": "68682244-4e1a-4775-fbf1-018f490c421e"
      },
      "execution_count": null,
      "outputs": [
        {
          "output_type": "execute_result",
          "data": {
            "text/plain": [
              "3"
            ]
          },
          "metadata": {},
          "execution_count": 202
        }
      ]
    },
    {
      "cell_type": "code",
      "source": [
        "bb = bow.astype('bool')\n",
        "bb"
      ],
      "metadata": {
        "colab": {
          "base_uri": "https://localhost:8080/",
          "height": 143
        },
        "id": "kygr358bJ-Ds",
        "outputId": "3502992c-39cf-43c6-8556-849295e72060"
      },
      "execution_count": null,
      "outputs": [
        {
          "output_type": "execute_result",
          "data": {
            "text/html": [
              "<div>\n",
              "<style scoped>\n",
              "    .dataframe tbody tr th:only-of-type {\n",
              "        vertical-align: middle;\n",
              "    }\n",
              "\n",
              "    .dataframe tbody tr th {\n",
              "        vertical-align: top;\n",
              "    }\n",
              "\n",
              "    .dataframe thead th {\n",
              "        text-align: right;\n",
              "    }\n",
              "</style>\n",
              "<table border=\"1\" class=\"dataframe\">\n",
              "  <thead>\n",
              "    <tr style=\"text-align: right;\">\n",
              "      <th></th>\n",
              "      <th>first</th>\n",
              "      <th>is</th>\n",
              "      <th>last</th>\n",
              "      <th>second</th>\n",
              "      <th>sentence</th>\n",
              "      <th>this</th>\n",
              "    </tr>\n",
              "  </thead>\n",
              "  <tbody>\n",
              "    <tr>\n",
              "      <th>0</th>\n",
              "      <td>True</td>\n",
              "      <td>True</td>\n",
              "      <td>False</td>\n",
              "      <td>False</td>\n",
              "      <td>True</td>\n",
              "      <td>True</td>\n",
              "    </tr>\n",
              "    <tr>\n",
              "      <th>1</th>\n",
              "      <td>False</td>\n",
              "      <td>True</td>\n",
              "      <td>False</td>\n",
              "      <td>True</td>\n",
              "      <td>False</td>\n",
              "      <td>True</td>\n",
              "    </tr>\n",
              "    <tr>\n",
              "      <th>2</th>\n",
              "      <td>False</td>\n",
              "      <td>True</td>\n",
              "      <td>True</td>\n",
              "      <td>False</td>\n",
              "      <td>False</td>\n",
              "      <td>True</td>\n",
              "    </tr>\n",
              "  </tbody>\n",
              "</table>\n",
              "</div>"
            ],
            "text/plain": [
              "   first    is   last  second  sentence  this\n",
              "0   True  True  False   False      True  True\n",
              "1  False  True  False    True     False  True\n",
              "2  False  True   True   False     False  True"
            ]
          },
          "metadata": {},
          "execution_count": 203
        }
      ]
    },
    {
      "cell_type": "code",
      "source": [
        "bb['is'].sum()"
      ],
      "metadata": {
        "colab": {
          "base_uri": "https://localhost:8080/"
        },
        "id": "dIIQxEA_KJva",
        "outputId": "4b82ded7-2f2e-4562-d9b9-16403dcb3df3"
      },
      "execution_count": null,
      "outputs": [
        {
          "output_type": "execute_result",
          "data": {
            "text/plain": [
              "3"
            ]
          },
          "metadata": {},
          "execution_count": 205
        }
      ]
    },
    {
      "cell_type": "code",
      "source": [
        "cols = bb.columns\n",
        "cols"
      ],
      "metadata": {
        "colab": {
          "base_uri": "https://localhost:8080/"
        },
        "id": "Fe926Y62KQS7",
        "outputId": "088a10a1-9f60-42b0-ed13-8cc060fe6dcc"
      },
      "execution_count": null,
      "outputs": [
        {
          "output_type": "execute_result",
          "data": {
            "text/plain": [
              "Index(['first', 'is', 'last', 'second', 'sentence', 'this'], dtype='object')"
            ]
          },
          "metadata": {},
          "execution_count": 206
        }
      ]
    },
    {
      "cell_type": "code",
      "source": [
        "nz =[]\n",
        "for col in cols:\n",
        "  nz.append(bb[col].sum()) "
      ],
      "metadata": {
        "id": "sV_4RDOaKeur"
      },
      "execution_count": null,
      "outputs": []
    },
    {
      "cell_type": "code",
      "source": [
        "nz"
      ],
      "metadata": {
        "colab": {
          "base_uri": "https://localhost:8080/"
        },
        "id": "RsErCfNjKgtl",
        "outputId": "3e1dc5a5-d053-4ddb-bfe2-2cc8dbc716d3"
      },
      "execution_count": null,
      "outputs": [
        {
          "output_type": "execute_result",
          "data": {
            "text/plain": [
              "[1, 3, 1, 1, 1, 3]"
            ]
          },
          "metadata": {},
          "execution_count": 209
        }
      ]
    },
    {
      "cell_type": "code",
      "source": [
        "idf =[]\n",
        "for index, col in enumerate(cols):\n",
        "  idf.append(np.log((N+1)/(nz[index]+1))+1)"
      ],
      "metadata": {
        "id": "buSIq2uIKg1W"
      },
      "execution_count": null,
      "outputs": []
    },
    {
      "cell_type": "code",
      "source": [
        "idf"
      ],
      "metadata": {
        "colab": {
          "base_uri": "https://localhost:8080/"
        },
        "id": "oOc-Q3rLLpgF",
        "outputId": "6394cb1e-1f87-423d-f48b-627574ae7b35"
      },
      "execution_count": null,
      "outputs": [
        {
          "output_type": "execute_result",
          "data": {
            "text/plain": [
              "[1.6931471805599454,\n",
              " 1.0,\n",
              " 1.6931471805599454,\n",
              " 1.6931471805599454,\n",
              " 1.6931471805599454,\n",
              " 1.0]"
            ]
          },
          "metadata": {},
          "execution_count": 213
        }
      ]
    },
    {
      "cell_type": "markdown",
      "source": [
        "###**Term Frequency and Inverse Document Frequency**"
      ],
      "metadata": {
        "id": "rtxv7XwvL7BG"
      }
    },
    {
      "cell_type": "code",
      "source": [
        "from sklearn.feature_extraction.text import TfidfVectorizer"
      ],
      "metadata": {
        "id": "7UbcLrKVL_ii"
      },
      "execution_count": null,
      "outputs": []
    },
    {
      "cell_type": "code",
      "source": [
        "tfidf = TfidfVectorizer()\n",
        "x_tfidf = tfidf.fit_transform(x_df['words'])"
      ],
      "metadata": {
        "id": "PiPrlWyUMVTV"
      },
      "execution_count": null,
      "outputs": []
    },
    {
      "cell_type": "code",
      "source": [
        "x_tfidf.toarray()"
      ],
      "metadata": {
        "colab": {
          "base_uri": "https://localhost:8080/"
        },
        "id": "yk0ZU-49Mh-4",
        "outputId": "0722456c-afb8-400f-bd2a-0d58d1fc4970"
      },
      "execution_count": null,
      "outputs": [
        {
          "output_type": "execute_result",
          "data": {
            "text/plain": [
              "array([[0.6088451 , 0.35959372, 0.        , 0.        , 0.6088451 ,\n",
              "        0.35959372],\n",
              "       [0.        , 0.45329466, 0.        , 0.76749457, 0.        ,\n",
              "        0.45329466],\n",
              "       [0.        , 0.45329466, 0.76749457, 0.        , 0.        ,\n",
              "        0.45329466]])"
            ]
          },
          "metadata": {},
          "execution_count": 220
        }
      ]
    },
    {
      "cell_type": "code",
      "source": [
        "tfidf.idf_"
      ],
      "metadata": {
        "colab": {
          "base_uri": "https://localhost:8080/"
        },
        "id": "MBt9eZ-9M0jG",
        "outputId": "357b4767-3f68-4bf7-f138-6f8be38c0fea"
      },
      "execution_count": null,
      "outputs": [
        {
          "output_type": "execute_result",
          "data": {
            "text/plain": [
              "array([1.69314718, 1.        , 1.69314718, 1.69314718, 1.69314718,\n",
              "       1.        ])"
            ]
          },
          "metadata": {},
          "execution_count": 221
        }
      ]
    },
    {
      "cell_type": "code",
      "source": [
        "idf"
      ],
      "metadata": {
        "colab": {
          "base_uri": "https://localhost:8080/"
        },
        "id": "7sz260nlM3eP",
        "outputId": "b73607e3-d029-4e1f-c2d9-d91b94233768"
      },
      "execution_count": null,
      "outputs": [
        {
          "output_type": "execute_result",
          "data": {
            "text/plain": [
              "[1.6931471805599454,\n",
              " 1.0,\n",
              " 1.6931471805599454,\n",
              " 1.6931471805599454,\n",
              " 1.6931471805599454,\n",
              " 1.0]"
            ]
          },
          "metadata": {},
          "execution_count": 222
        }
      ]
    },
    {
      "cell_type": "markdown",
      "source": [
        "###**Word Embeddings using SpaCy Word2Vec**"
      ],
      "metadata": {
        "id": "jjSgO_dIM9Yq"
      }
    },
    {
      "cell_type": "code",
      "source": [
        "! python -m spacy download en_core_web_lg"
      ],
      "metadata": {
        "colab": {
          "base_uri": "https://localhost:8080/"
        },
        "id": "OaTPVb5sP_cV",
        "outputId": "506d9fc6-1d97-4f9c-a5b0-3aac2e7edff9"
      },
      "execution_count": null,
      "outputs": [
        {
          "output_type": "stream",
          "name": "stdout",
          "text": [
            "Collecting en_core_web_lg==2.2.5\n",
            "  Downloading https://github.com/explosion/spacy-models/releases/download/en_core_web_lg-2.2.5/en_core_web_lg-2.2.5.tar.gz (827.9 MB)\n",
            "\u001b[K     |████████████████████████████████| 827.9 MB 1.1 MB/s \n",
            "\u001b[?25hRequirement already satisfied: spacy>=2.2.2 in /usr/local/lib/python3.7/dist-packages (from en_core_web_lg==2.2.5) (2.2.4)\n",
            "Requirement already satisfied: tqdm<5.0.0,>=4.38.0 in /usr/local/lib/python3.7/dist-packages (from spacy>=2.2.2->en_core_web_lg==2.2.5) (4.62.3)\n",
            "Requirement already satisfied: preshed<3.1.0,>=3.0.2 in /usr/local/lib/python3.7/dist-packages (from spacy>=2.2.2->en_core_web_lg==2.2.5) (3.0.6)\n",
            "Requirement already satisfied: numpy>=1.15.0 in /usr/local/lib/python3.7/dist-packages (from spacy>=2.2.2->en_core_web_lg==2.2.5) (1.19.5)\n",
            "Requirement already satisfied: thinc==7.4.0 in /usr/local/lib/python3.7/dist-packages (from spacy>=2.2.2->en_core_web_lg==2.2.5) (7.4.0)\n",
            "Requirement already satisfied: srsly<1.1.0,>=1.0.2 in /usr/local/lib/python3.7/dist-packages (from spacy>=2.2.2->en_core_web_lg==2.2.5) (1.0.5)\n",
            "Requirement already satisfied: catalogue<1.1.0,>=0.0.7 in /usr/local/lib/python3.7/dist-packages (from spacy>=2.2.2->en_core_web_lg==2.2.5) (1.0.0)\n",
            "Requirement already satisfied: cymem<2.1.0,>=2.0.2 in /usr/local/lib/python3.7/dist-packages (from spacy>=2.2.2->en_core_web_lg==2.2.5) (2.0.6)\n",
            "Requirement already satisfied: requests<3.0.0,>=2.13.0 in /usr/local/lib/python3.7/dist-packages (from spacy>=2.2.2->en_core_web_lg==2.2.5) (2.23.0)\n",
            "Requirement already satisfied: plac<1.2.0,>=0.9.6 in /usr/local/lib/python3.7/dist-packages (from spacy>=2.2.2->en_core_web_lg==2.2.5) (1.1.3)\n",
            "Requirement already satisfied: setuptools in /usr/local/lib/python3.7/dist-packages (from spacy>=2.2.2->en_core_web_lg==2.2.5) (57.4.0)\n",
            "Requirement already satisfied: blis<0.5.0,>=0.4.0 in /usr/local/lib/python3.7/dist-packages (from spacy>=2.2.2->en_core_web_lg==2.2.5) (0.4.1)\n",
            "Requirement already satisfied: wasabi<1.1.0,>=0.4.0 in /usr/local/lib/python3.7/dist-packages (from spacy>=2.2.2->en_core_web_lg==2.2.5) (0.8.2)\n",
            "Requirement already satisfied: murmurhash<1.1.0,>=0.28.0 in /usr/local/lib/python3.7/dist-packages (from spacy>=2.2.2->en_core_web_lg==2.2.5) (1.0.6)\n",
            "Requirement already satisfied: importlib-metadata>=0.20 in /usr/local/lib/python3.7/dist-packages (from catalogue<1.1.0,>=0.0.7->spacy>=2.2.2->en_core_web_lg==2.2.5) (4.8.2)\n",
            "Requirement already satisfied: typing-extensions>=3.6.4 in /usr/local/lib/python3.7/dist-packages (from importlib-metadata>=0.20->catalogue<1.1.0,>=0.0.7->spacy>=2.2.2->en_core_web_lg==2.2.5) (3.10.0.2)\n",
            "Requirement already satisfied: zipp>=0.5 in /usr/local/lib/python3.7/dist-packages (from importlib-metadata>=0.20->catalogue<1.1.0,>=0.0.7->spacy>=2.2.2->en_core_web_lg==2.2.5) (3.6.0)\n",
            "Requirement already satisfied: certifi>=2017.4.17 in /usr/local/lib/python3.7/dist-packages (from requests<3.0.0,>=2.13.0->spacy>=2.2.2->en_core_web_lg==2.2.5) (2021.10.8)\n",
            "Requirement already satisfied: urllib3!=1.25.0,!=1.25.1,<1.26,>=1.21.1 in /usr/local/lib/python3.7/dist-packages (from requests<3.0.0,>=2.13.0->spacy>=2.2.2->en_core_web_lg==2.2.5) (1.24.3)\n",
            "Requirement already satisfied: chardet<4,>=3.0.2 in /usr/local/lib/python3.7/dist-packages (from requests<3.0.0,>=2.13.0->spacy>=2.2.2->en_core_web_lg==2.2.5) (3.0.4)\n",
            "Requirement already satisfied: idna<3,>=2.5 in /usr/local/lib/python3.7/dist-packages (from requests<3.0.0,>=2.13.0->spacy>=2.2.2->en_core_web_lg==2.2.5) (2.10)\n",
            "\u001b[38;5;2m✔ Download and installation successful\u001b[0m\n",
            "You can now load the model via spacy.load('en_core_web_lg')\n"
          ]
        }
      ]
    },
    {
      "cell_type": "code",
      "source": [
        "# nlp = spacy.load('en_core_web_lg')\n",
        "# doc = nlp('thank you! dog cat lion dfaraft')\n",
        "# for token in doc:\n",
        "#    print(token.text, token.has_vector)"
      ],
      "metadata": {
        "id": "lzYrwUEBPw_-"
      },
      "execution_count": null,
      "outputs": []
    },
    {
      "cell_type": "markdown",
      "source": [
        "![Screenshot (1082).png](data:image/png;base64,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)"
      ],
      "metadata": {
        "id": "eI7WqKW4VN8Z"
      }
    },
    {
      "cell_type": "markdown",
      "source": [
        "This package isn't working in colab, so we ran it in jupyter where it works perfectly fine."
      ],
      "metadata": {
        "id": "ER8EYjzPVRfB"
      }
    },
    {
      "cell_type": "markdown",
      "source": [
        "##**Machine Learning Models for Text Classification**"
      ],
      "metadata": {
        "id": "9UKR8zw5WOph"
      }
    },
    {
      "cell_type": "code",
      "source": [
        "df.shape"
      ],
      "metadata": {
        "colab": {
          "base_uri": "https://localhost:8080/"
        },
        "id": "QTdPQqsgWWGW",
        "outputId": "68c38045-2305-4460-b74a-7137ecab4b65"
      },
      "execution_count": null,
      "outputs": [
        {
          "output_type": "execute_result",
          "data": {
            "text/plain": [
              "(1600000, 13)"
            ]
          },
          "metadata": {},
          "execution_count": 237
        }
      ]
    },
    {
      "cell_type": "code",
      "source": [
        "df0 = df[df['sentiment']==0].sample(2000)\n",
        "df4 = df[df['sentiment']==4].sample(2000)"
      ],
      "metadata": {
        "id": "RFtJDPxgWf6S"
      },
      "execution_count": null,
      "outputs": []
    },
    {
      "cell_type": "code",
      "source": [
        "dfr = df0.append(df4)"
      ],
      "metadata": {
        "id": "nFy6PhY2Wwpt"
      },
      "execution_count": null,
      "outputs": []
    },
    {
      "cell_type": "code",
      "source": [
        "dfr.shape"
      ],
      "metadata": {
        "colab": {
          "base_uri": "https://localhost:8080/"
        },
        "id": "PpYc0hGIW4E6",
        "outputId": "fa6d1100-6d6a-4539-ef3f-ae2d54a1d0fc"
      },
      "execution_count": null,
      "outputs": [
        {
          "output_type": "execute_result",
          "data": {
            "text/plain": [
              "(4000, 13)"
            ]
          },
          "metadata": {},
          "execution_count": 241
        }
      ]
    },
    {
      "cell_type": "code",
      "source": [
        "dfr"
      ],
      "metadata": {
        "colab": {
          "base_uri": "https://localhost:8080/",
          "height": 424
        },
        "id": "x1XAmW50XA3u",
        "outputId": "b21d36d3-7107-4750-f2c9-dd0ed92bd186"
      },
      "execution_count": null,
      "outputs": [
        {
          "output_type": "execute_result",
          "data": {
            "text/html": [
              "<div>\n",
              "<style scoped>\n",
              "    .dataframe tbody tr th:only-of-type {\n",
              "        vertical-align: middle;\n",
              "    }\n",
              "\n",
              "    .dataframe tbody tr th {\n",
              "        vertical-align: top;\n",
              "    }\n",
              "\n",
              "    .dataframe thead th {\n",
              "        text-align: right;\n",
              "    }\n",
              "</style>\n",
              "<table border=\"1\" class=\"dataframe\">\n",
              "  <thead>\n",
              "    <tr style=\"text-align: right;\">\n",
              "      <th></th>\n",
              "      <th>twitts</th>\n",
              "      <th>sentiment</th>\n",
              "      <th>word_counts</th>\n",
              "      <th>char_counts</th>\n",
              "      <th>avg_word_len</th>\n",
              "      <th>stop_words_len</th>\n",
              "      <th>hashtags_count</th>\n",
              "      <th>mentions_count</th>\n",
              "      <th>numerics_count</th>\n",
              "      <th>upper_counts</th>\n",
              "      <th>emails</th>\n",
              "      <th>emails_count</th>\n",
              "      <th>urls_flag</th>\n",
              "    </tr>\n",
              "  </thead>\n",
              "  <tbody>\n",
              "    <tr>\n",
              "      <th>574596</th>\n",
              "      <td>wowww nails tires</td>\n",
              "      <td>0</td>\n",
              "      <td>10</td>\n",
              "      <td>45</td>\n",
              "      <td>3.500000</td>\n",
              "      <td>6</td>\n",
              "      <td>0</td>\n",
              "      <td>0</td>\n",
              "      <td>0</td>\n",
              "      <td>1</td>\n",
              "      <td>[]</td>\n",
              "      <td>0</td>\n",
              "      <td>0</td>\n",
              "    </tr>\n",
              "    <tr>\n",
              "      <th>650413</th>\n",
              "      <td>tadi plurk taihoho nyebut</td>\n",
              "      <td>0</td>\n",
              "      <td>5</td>\n",
              "      <td>53</td>\n",
              "      <td>9.600000</td>\n",
              "      <td>0</td>\n",
              "      <td>0</td>\n",
              "      <td>0</td>\n",
              "      <td>0</td>\n",
              "      <td>0</td>\n",
              "      <td>[]</td>\n",
              "      <td>0</td>\n",
              "      <td>1</td>\n",
              "    </tr>\n",
              "    <tr>\n",
              "      <th>542855</th>\n",
              "      <td>awesome hasbro toy shop sunstreaker stock side...</td>\n",
              "      <td>0</td>\n",
              "      <td>17</td>\n",
              "      <td>121</td>\n",
              "      <td>6.058824</td>\n",
              "      <td>5</td>\n",
              "      <td>0</td>\n",
              "      <td>0</td>\n",
              "      <td>0</td>\n",
              "      <td>0</td>\n",
              "      <td>[]</td>\n",
              "      <td>0</td>\n",
              "      <td>1</td>\n",
              "    </tr>\n",
              "    <tr>\n",
              "      <th>395306</th>\n",
              "      <td>sick</td>\n",
              "      <td>0</td>\n",
              "      <td>3</td>\n",
              "      <td>19</td>\n",
              "      <td>5.333333</td>\n",
              "      <td>2</td>\n",
              "      <td>0</td>\n",
              "      <td>0</td>\n",
              "      <td>0</td>\n",
              "      <td>0</td>\n",
              "      <td>[]</td>\n",
              "      <td>0</td>\n",
              "      <td>0</td>\n",
              "    </tr>\n",
              "    <tr>\n",
              "      <th>182222</th>\n",
              "      <td>peacepeaceout wish</td>\n",
              "      <td>0</td>\n",
              "      <td>3</td>\n",
              "      <td>22</td>\n",
              "      <td>6.333333</td>\n",
              "      <td>0</td>\n",
              "      <td>0</td>\n",
              "      <td>1</td>\n",
              "      <td>0</td>\n",
              "      <td>1</td>\n",
              "      <td>[]</td>\n",
              "      <td>0</td>\n",
              "      <td>0</td>\n",
              "    </tr>\n",
              "    <tr>\n",
              "      <th>...</th>\n",
              "      <td>...</td>\n",
              "      <td>...</td>\n",
              "      <td>...</td>\n",
              "      <td>...</td>\n",
              "      <td>...</td>\n",
              "      <td>...</td>\n",
              "      <td>...</td>\n",
              "      <td>...</td>\n",
              "      <td>...</td>\n",
              "      <td>...</td>\n",
              "      <td>...</td>\n",
              "      <td>...</td>\n",
              "      <td>...</td>\n",
              "    </tr>\n",
              "    <tr>\n",
              "      <th>1590524</th>\n",
              "      <td>stephenjatdell bought 2</td>\n",
              "      <td>4</td>\n",
              "      <td>10</td>\n",
              "      <td>49</td>\n",
              "      <td>3.900000</td>\n",
              "      <td>3</td>\n",
              "      <td>0</td>\n",
              "      <td>1</td>\n",
              "      <td>1</td>\n",
              "      <td>2</td>\n",
              "      <td>[]</td>\n",
              "      <td>0</td>\n",
              "      <td>0</td>\n",
              "    </tr>\n",
              "    <tr>\n",
              "      <th>1586409</th>\n",
              "      <td>palinn yes cynic interesting case study great pr</td>\n",
              "      <td>4</td>\n",
              "      <td>16</td>\n",
              "      <td>91</td>\n",
              "      <td>4.687500</td>\n",
              "      <td>7</td>\n",
              "      <td>0</td>\n",
              "      <td>1</td>\n",
              "      <td>0</td>\n",
              "      <td>0</td>\n",
              "      <td>[]</td>\n",
              "      <td>0</td>\n",
              "      <td>0</td>\n",
              "    </tr>\n",
              "    <tr>\n",
              "      <th>1522720</th>\n",
              "      <td>lodsy lemon head week</td>\n",
              "      <td>4</td>\n",
              "      <td>7</td>\n",
              "      <td>32</td>\n",
              "      <td>3.571429</td>\n",
              "      <td>3</td>\n",
              "      <td>0</td>\n",
              "      <td>0</td>\n",
              "      <td>0</td>\n",
              "      <td>0</td>\n",
              "      <td>[]</td>\n",
              "      <td>0</td>\n",
              "      <td>0</td>\n",
              "    </tr>\n",
              "    <tr>\n",
              "      <th>1505679</th>\n",
              "      <td>ithynk ill thu moviessumbodyy come</td>\n",
              "      <td>4</td>\n",
              "      <td>9</td>\n",
              "      <td>53</td>\n",
              "      <td>4.888889</td>\n",
              "      <td>3</td>\n",
              "      <td>0</td>\n",
              "      <td>0</td>\n",
              "      <td>0</td>\n",
              "      <td>0</td>\n",
              "      <td>[]</td>\n",
              "      <td>0</td>\n",
              "      <td>0</td>\n",
              "    </tr>\n",
              "    <tr>\n",
              "      <th>987591</th>\n",
              "      <td>respectthewest maybe year 2</td>\n",
              "      <td>4</td>\n",
              "      <td>16</td>\n",
              "      <td>81</td>\n",
              "      <td>4.000000</td>\n",
              "      <td>10</td>\n",
              "      <td>0</td>\n",
              "      <td>1</td>\n",
              "      <td>1</td>\n",
              "      <td>0</td>\n",
              "      <td>[]</td>\n",
              "      <td>0</td>\n",
              "      <td>0</td>\n",
              "    </tr>\n",
              "  </tbody>\n",
              "</table>\n",
              "<p>4000 rows × 13 columns</p>\n",
              "</div>"
            ],
            "text/plain": [
              "                                                    twitts  ...  urls_flag\n",
              "574596                                   wowww nails tires  ...          0\n",
              "650413                           tadi plurk taihoho nyebut  ...          1\n",
              "542855   awesome hasbro toy shop sunstreaker stock side...  ...          1\n",
              "395306                                                sick  ...          0\n",
              "182222                                  peacepeaceout wish  ...          0\n",
              "...                                                    ...  ...        ...\n",
              "1590524                            stephenjatdell bought 2  ...          0\n",
              "1586409   palinn yes cynic interesting case study great pr  ...          0\n",
              "1522720                              lodsy lemon head week  ...          0\n",
              "1505679                 ithynk ill thu moviessumbodyy come  ...          0\n",
              "987591                         respectthewest maybe year 2  ...          0\n",
              "\n",
              "[4000 rows x 13 columns]"
            ]
          },
          "metadata": {},
          "execution_count": 242
        }
      ]
    },
    {
      "cell_type": "code",
      "source": [
        "dfr_feat = dfr.drop(labels=['twitts', 'sentiment', 'emails', 'urls_flag'], axis = 1)"
      ],
      "metadata": {
        "id": "-BttG8ExXIeS"
      },
      "execution_count": null,
      "outputs": []
    },
    {
      "cell_type": "code",
      "source": [
        "dfr_feat"
      ],
      "metadata": {
        "colab": {
          "base_uri": "https://localhost:8080/",
          "height": 424
        },
        "id": "KDS6hGrLXqNc",
        "outputId": "937df100-4672-4189-9b1a-14eec7144d49"
      },
      "execution_count": null,
      "outputs": [
        {
          "output_type": "execute_result",
          "data": {
            "text/html": [
              "<div>\n",
              "<style scoped>\n",
              "    .dataframe tbody tr th:only-of-type {\n",
              "        vertical-align: middle;\n",
              "    }\n",
              "\n",
              "    .dataframe tbody tr th {\n",
              "        vertical-align: top;\n",
              "    }\n",
              "\n",
              "    .dataframe thead th {\n",
              "        text-align: right;\n",
              "    }\n",
              "</style>\n",
              "<table border=\"1\" class=\"dataframe\">\n",
              "  <thead>\n",
              "    <tr style=\"text-align: right;\">\n",
              "      <th></th>\n",
              "      <th>word_counts</th>\n",
              "      <th>char_counts</th>\n",
              "      <th>avg_word_len</th>\n",
              "      <th>stop_words_len</th>\n",
              "      <th>hashtags_count</th>\n",
              "      <th>mentions_count</th>\n",
              "      <th>numerics_count</th>\n",
              "      <th>upper_counts</th>\n",
              "      <th>emails_count</th>\n",
              "    </tr>\n",
              "  </thead>\n",
              "  <tbody>\n",
              "    <tr>\n",
              "      <th>574596</th>\n",
              "      <td>10</td>\n",
              "      <td>45</td>\n",
              "      <td>3.500000</td>\n",
              "      <td>6</td>\n",
              "      <td>0</td>\n",
              "      <td>0</td>\n",
              "      <td>0</td>\n",
              "      <td>1</td>\n",
              "      <td>0</td>\n",
              "    </tr>\n",
              "    <tr>\n",
              "      <th>650413</th>\n",
              "      <td>5</td>\n",
              "      <td>53</td>\n",
              "      <td>9.600000</td>\n",
              "      <td>0</td>\n",
              "      <td>0</td>\n",
              "      <td>0</td>\n",
              "      <td>0</td>\n",
              "      <td>0</td>\n",
              "      <td>0</td>\n",
              "    </tr>\n",
              "    <tr>\n",
              "      <th>542855</th>\n",
              "      <td>17</td>\n",
              "      <td>121</td>\n",
              "      <td>6.058824</td>\n",
              "      <td>5</td>\n",
              "      <td>0</td>\n",
              "      <td>0</td>\n",
              "      <td>0</td>\n",
              "      <td>0</td>\n",
              "      <td>0</td>\n",
              "    </tr>\n",
              "    <tr>\n",
              "      <th>395306</th>\n",
              "      <td>3</td>\n",
              "      <td>19</td>\n",
              "      <td>5.333333</td>\n",
              "      <td>2</td>\n",
              "      <td>0</td>\n",
              "      <td>0</td>\n",
              "      <td>0</td>\n",
              "      <td>0</td>\n",
              "      <td>0</td>\n",
              "    </tr>\n",
              "    <tr>\n",
              "      <th>182222</th>\n",
              "      <td>3</td>\n",
              "      <td>22</td>\n",
              "      <td>6.333333</td>\n",
              "      <td>0</td>\n",
              "      <td>0</td>\n",
              "      <td>1</td>\n",
              "      <td>0</td>\n",
              "      <td>1</td>\n",
              "      <td>0</td>\n",
              "    </tr>\n",
              "    <tr>\n",
              "      <th>...</th>\n",
              "      <td>...</td>\n",
              "      <td>...</td>\n",
              "      <td>...</td>\n",
              "      <td>...</td>\n",
              "      <td>...</td>\n",
              "      <td>...</td>\n",
              "      <td>...</td>\n",
              "      <td>...</td>\n",
              "      <td>...</td>\n",
              "    </tr>\n",
              "    <tr>\n",
              "      <th>1590524</th>\n",
              "      <td>10</td>\n",
              "      <td>49</td>\n",
              "      <td>3.900000</td>\n",
              "      <td>3</td>\n",
              "      <td>0</td>\n",
              "      <td>1</td>\n",
              "      <td>1</td>\n",
              "      <td>2</td>\n",
              "      <td>0</td>\n",
              "    </tr>\n",
              "    <tr>\n",
              "      <th>1586409</th>\n",
              "      <td>16</td>\n",
              "      <td>91</td>\n",
              "      <td>4.687500</td>\n",
              "      <td>7</td>\n",
              "      <td>0</td>\n",
              "      <td>1</td>\n",
              "      <td>0</td>\n",
              "      <td>0</td>\n",
              "      <td>0</td>\n",
              "    </tr>\n",
              "    <tr>\n",
              "      <th>1522720</th>\n",
              "      <td>7</td>\n",
              "      <td>32</td>\n",
              "      <td>3.571429</td>\n",
              "      <td>3</td>\n",
              "      <td>0</td>\n",
              "      <td>0</td>\n",
              "      <td>0</td>\n",
              "      <td>0</td>\n",
              "      <td>0</td>\n",
              "    </tr>\n",
              "    <tr>\n",
              "      <th>1505679</th>\n",
              "      <td>9</td>\n",
              "      <td>53</td>\n",
              "      <td>4.888889</td>\n",
              "      <td>3</td>\n",
              "      <td>0</td>\n",
              "      <td>0</td>\n",
              "      <td>0</td>\n",
              "      <td>0</td>\n",
              "      <td>0</td>\n",
              "    </tr>\n",
              "    <tr>\n",
              "      <th>987591</th>\n",
              "      <td>16</td>\n",
              "      <td>81</td>\n",
              "      <td>4.000000</td>\n",
              "      <td>10</td>\n",
              "      <td>0</td>\n",
              "      <td>1</td>\n",
              "      <td>1</td>\n",
              "      <td>0</td>\n",
              "      <td>0</td>\n",
              "    </tr>\n",
              "  </tbody>\n",
              "</table>\n",
              "<p>4000 rows × 9 columns</p>\n",
              "</div>"
            ],
            "text/plain": [
              "         word_counts  char_counts  ...  upper_counts  emails_count\n",
              "574596            10           45  ...             1             0\n",
              "650413             5           53  ...             0             0\n",
              "542855            17          121  ...             0             0\n",
              "395306             3           19  ...             0             0\n",
              "182222             3           22  ...             1             0\n",
              "...              ...          ...  ...           ...           ...\n",
              "1590524           10           49  ...             2             0\n",
              "1586409           16           91  ...             0             0\n",
              "1522720            7           32  ...             0             0\n",
              "1505679            9           53  ...             0             0\n",
              "987591            16           81  ...             0             0\n",
              "\n",
              "[4000 rows x 9 columns]"
            ]
          },
          "metadata": {},
          "execution_count": 245
        }
      ]
    },
    {
      "cell_type": "code",
      "source": [
        "y = dfr['sentiment']\n",
        "y"
      ],
      "metadata": {
        "colab": {
          "base_uri": "https://localhost:8080/"
        },
        "id": "12cv02fDXwGF",
        "outputId": "562b6782-be77-40d5-af1c-0cc7f6a64d32"
      },
      "execution_count": null,
      "outputs": [
        {
          "output_type": "execute_result",
          "data": {
            "text/plain": [
              "574596     0\n",
              "650413     0\n",
              "542855     0\n",
              "395306     0\n",
              "182222     0\n",
              "          ..\n",
              "1590524    4\n",
              "1586409    4\n",
              "1522720    4\n",
              "1505679    4\n",
              "987591     4\n",
              "Name: sentiment, Length: 4000, dtype: int64"
            ]
          },
          "metadata": {},
          "execution_count": 246
        }
      ]
    },
    {
      "cell_type": "code",
      "source": [
        "from sklearn.feature_extraction.text import CountVectorizer"
      ],
      "metadata": {
        "id": "GeOn5UbqX6GN"
      },
      "execution_count": null,
      "outputs": []
    },
    {
      "cell_type": "code",
      "source": [
        "cv = CountVectorizer()\n",
        "text_counts = cv.fit_transform(dfr['twitts'])"
      ],
      "metadata": {
        "id": "HuoB4JWaX9fD"
      },
      "execution_count": null,
      "outputs": []
    },
    {
      "cell_type": "code",
      "source": [
        "text_counts.toarray().shape"
      ],
      "metadata": {
        "colab": {
          "base_uri": "https://localhost:8080/"
        },
        "id": "KHEvOi3aYZCm",
        "outputId": "6e7c2938-7c18-4680-848a-d0e3756ec726"
      },
      "execution_count": null,
      "outputs": [
        {
          "output_type": "execute_result",
          "data": {
            "text/plain": [
              "(4000, 9705)"
            ]
          },
          "metadata": {},
          "execution_count": 251
        }
      ]
    },
    {
      "cell_type": "code",
      "source": [
        "dfr_bog = pd.DataFrame(text_counts.toarray(), columns = cv.get_feature_names())"
      ],
      "metadata": {
        "colab": {
          "base_uri": "https://localhost:8080/"
        },
        "id": "KuSkYp5HYoNG",
        "outputId": "33c70a6e-8b8b-49dc-f50d-9a54289af370"
      },
      "execution_count": null,
      "outputs": [
        {
          "output_type": "stream",
          "name": "stderr",
          "text": [
            "/usr/local/lib/python3.7/dist-packages/sklearn/utils/deprecation.py:87: FutureWarning: Function get_feature_names is deprecated; get_feature_names is deprecated in 1.0 and will be removed in 1.2. Please use get_feature_names_out instead.\n",
            "  warnings.warn(msg, category=FutureWarning)\n"
          ]
        }
      ]
    },
    {
      "cell_type": "code",
      "source": [
        "dfr_bog.head()"
      ],
      "metadata": {
        "colab": {
          "base_uri": "https://localhost:8080/",
          "height": 256
        },
        "id": "JQuigqzCY9Yh",
        "outputId": "4ef83b01-dd86-4c37-9afd-91acd00f9033"
      },
      "execution_count": null,
      "outputs": [
        {
          "output_type": "execute_result",
          "data": {
            "text/html": [
              "<div>\n",
              "<style scoped>\n",
              "    .dataframe tbody tr th:only-of-type {\n",
              "        vertical-align: middle;\n",
              "    }\n",
              "\n",
              "    .dataframe tbody tr th {\n",
              "        vertical-align: top;\n",
              "    }\n",
              "\n",
              "    .dataframe thead th {\n",
              "        text-align: right;\n",
              "    }\n",
              "</style>\n",
              "<table border=\"1\" class=\"dataframe\">\n",
              "  <thead>\n",
              "    <tr style=\"text-align: right;\">\n",
              "      <th></th>\n",
              "      <th>0128</th>\n",
              "      <th>06</th>\n",
              "      <th>0640</th>\n",
              "      <th>07</th>\n",
              "      <th>0800</th>\n",
              "      <th>090308</th>\n",
              "      <th>09lt3</th>\n",
              "      <th>10</th>\n",
              "      <th>100</th>\n",
              "      <th>1000</th>\n",
              "      <th>10000</th>\n",
              "      <th>1000xs</th>\n",
              "      <th>100g</th>\n",
              "      <th>100pm</th>\n",
              "      <th>100th</th>\n",
              "      <th>1030</th>\n",
              "      <th>1041pm</th>\n",
              "      <th>105</th>\n",
              "      <th>10th</th>\n",
              "      <th>10ugh</th>\n",
              "      <th>11</th>\n",
              "      <th>1139</th>\n",
              "      <th>115</th>\n",
              "      <th>11am</th>\n",
              "      <th>11pm</th>\n",
              "      <th>11th</th>\n",
              "      <th>11yr</th>\n",
              "      <th>12</th>\n",
              "      <th>120cals</th>\n",
              "      <th>120x240</th>\n",
              "      <th>1215</th>\n",
              "      <th>12vspotlight</th>\n",
              "      <th>13</th>\n",
              "      <th>130am</th>\n",
              "      <th>131</th>\n",
              "      <th>13th</th>\n",
              "      <th>14</th>\n",
              "      <th>140</th>\n",
              "      <th>145</th>\n",
              "      <th>14th</th>\n",
              "      <th>...</th>\n",
              "      <th>yuliansari</th>\n",
              "      <th>yum</th>\n",
              "      <th>yumm</th>\n",
              "      <th>yummmmmmm</th>\n",
              "      <th>yummmy</th>\n",
              "      <th>yummy</th>\n",
              "      <th>yup</th>\n",
              "      <th>yupon</th>\n",
              "      <th>yuuummm</th>\n",
              "      <th>yuval050</th>\n",
              "      <th>yvettecraddock</th>\n",
              "      <th>ywitter</th>\n",
              "      <th>yyyooouuu</th>\n",
              "      <th>zaandammi</th>\n",
              "      <th>zabpehely</th>\n",
              "      <th>zack</th>\n",
              "      <th>zackalltimelow</th>\n",
              "      <th>zaibatsu</th>\n",
              "      <th>zangief</th>\n",
              "      <th>zapatabe</th>\n",
              "      <th>zapping</th>\n",
              "      <th>zebra</th>\n",
              "      <th>zee</th>\n",
              "      <th>zeeohingee</th>\n",
              "      <th>zel</th>\n",
              "      <th>zelroid</th>\n",
              "      <th>zenojones</th>\n",
              "      <th>zenzette</th>\n",
              "      <th>zero</th>\n",
              "      <th>zeryck</th>\n",
              "      <th>zezel</th>\n",
              "      <th>ziltch</th>\n",
              "      <th>znatrainer</th>\n",
              "      <th>zoe</th>\n",
              "      <th>zombies</th>\n",
              "      <th>zomgwtfninja</th>\n",
              "      <th>zone</th>\n",
              "      <th>zoo</th>\n",
              "      <th>zq</th>\n",
              "      <th>zt</th>\n",
              "    </tr>\n",
              "  </thead>\n",
              "  <tbody>\n",
              "    <tr>\n",
              "      <th>0</th>\n",
              "      <td>0</td>\n",
              "      <td>0</td>\n",
              "      <td>0</td>\n",
              "      <td>0</td>\n",
              "      <td>0</td>\n",
              "      <td>0</td>\n",
              "      <td>0</td>\n",
              "      <td>0</td>\n",
              "      <td>0</td>\n",
              "      <td>0</td>\n",
              "      <td>0</td>\n",
              "      <td>0</td>\n",
              "      <td>0</td>\n",
              "      <td>0</td>\n",
              "      <td>0</td>\n",
              "      <td>0</td>\n",
              "      <td>0</td>\n",
              "      <td>0</td>\n",
              "      <td>0</td>\n",
              "      <td>0</td>\n",
              "      <td>0</td>\n",
              "      <td>0</td>\n",
              "      <td>0</td>\n",
              "      <td>0</td>\n",
              "      <td>0</td>\n",
              "      <td>0</td>\n",
              "      <td>0</td>\n",
              "      <td>0</td>\n",
              "      <td>0</td>\n",
              "      <td>0</td>\n",
              "      <td>0</td>\n",
              "      <td>0</td>\n",
              "      <td>0</td>\n",
              "      <td>0</td>\n",
              "      <td>0</td>\n",
              "      <td>0</td>\n",
              "      <td>0</td>\n",
              "      <td>0</td>\n",
              "      <td>0</td>\n",
              "      <td>0</td>\n",
              "      <td>...</td>\n",
              "      <td>0</td>\n",
              "      <td>0</td>\n",
              "      <td>0</td>\n",
              "      <td>0</td>\n",
              "      <td>0</td>\n",
              "      <td>0</td>\n",
              "      <td>0</td>\n",
              "      <td>0</td>\n",
              "      <td>0</td>\n",
              "      <td>0</td>\n",
              "      <td>0</td>\n",
              "      <td>0</td>\n",
              "      <td>0</td>\n",
              "      <td>0</td>\n",
              "      <td>0</td>\n",
              "      <td>0</td>\n",
              "      <td>0</td>\n",
              "      <td>0</td>\n",
              "      <td>0</td>\n",
              "      <td>0</td>\n",
              "      <td>0</td>\n",
              "      <td>0</td>\n",
              "      <td>0</td>\n",
              "      <td>0</td>\n",
              "      <td>0</td>\n",
              "      <td>0</td>\n",
              "      <td>0</td>\n",
              "      <td>0</td>\n",
              "      <td>0</td>\n",
              "      <td>0</td>\n",
              "      <td>0</td>\n",
              "      <td>0</td>\n",
              "      <td>0</td>\n",
              "      <td>0</td>\n",
              "      <td>0</td>\n",
              "      <td>0</td>\n",
              "      <td>0</td>\n",
              "      <td>0</td>\n",
              "      <td>0</td>\n",
              "      <td>0</td>\n",
              "    </tr>\n",
              "    <tr>\n",
              "      <th>1</th>\n",
              "      <td>0</td>\n",
              "      <td>0</td>\n",
              "      <td>0</td>\n",
              "      <td>0</td>\n",
              "      <td>0</td>\n",
              "      <td>0</td>\n",
              "      <td>0</td>\n",
              "      <td>0</td>\n",
              "      <td>0</td>\n",
              "      <td>0</td>\n",
              "      <td>0</td>\n",
              "      <td>0</td>\n",
              "      <td>0</td>\n",
              "      <td>0</td>\n",
              "      <td>0</td>\n",
              "      <td>0</td>\n",
              "      <td>0</td>\n",
              "      <td>0</td>\n",
              "      <td>0</td>\n",
              "      <td>0</td>\n",
              "      <td>0</td>\n",
              "      <td>0</td>\n",
              "      <td>0</td>\n",
              "      <td>0</td>\n",
              "      <td>0</td>\n",
              "      <td>0</td>\n",
              "      <td>0</td>\n",
              "      <td>0</td>\n",
              "      <td>0</td>\n",
              "      <td>0</td>\n",
              "      <td>0</td>\n",
              "      <td>0</td>\n",
              "      <td>0</td>\n",
              "      <td>0</td>\n",
              "      <td>0</td>\n",
              "      <td>0</td>\n",
              "      <td>0</td>\n",
              "      <td>0</td>\n",
              "      <td>0</td>\n",
              "      <td>0</td>\n",
              "      <td>...</td>\n",
              "      <td>0</td>\n",
              "      <td>0</td>\n",
              "      <td>0</td>\n",
              "      <td>0</td>\n",
              "      <td>0</td>\n",
              "      <td>0</td>\n",
              "      <td>0</td>\n",
              "      <td>0</td>\n",
              "      <td>0</td>\n",
              "      <td>0</td>\n",
              "      <td>0</td>\n",
              "      <td>0</td>\n",
              "      <td>0</td>\n",
              "      <td>0</td>\n",
              "      <td>0</td>\n",
              "      <td>0</td>\n",
              "      <td>0</td>\n",
              "      <td>0</td>\n",
              "      <td>0</td>\n",
              "      <td>0</td>\n",
              "      <td>0</td>\n",
              "      <td>0</td>\n",
              "      <td>0</td>\n",
              "      <td>0</td>\n",
              "      <td>0</td>\n",
              "      <td>0</td>\n",
              "      <td>0</td>\n",
              "      <td>0</td>\n",
              "      <td>0</td>\n",
              "      <td>0</td>\n",
              "      <td>0</td>\n",
              "      <td>0</td>\n",
              "      <td>0</td>\n",
              "      <td>0</td>\n",
              "      <td>0</td>\n",
              "      <td>0</td>\n",
              "      <td>0</td>\n",
              "      <td>0</td>\n",
              "      <td>0</td>\n",
              "      <td>0</td>\n",
              "    </tr>\n",
              "    <tr>\n",
              "      <th>2</th>\n",
              "      <td>0</td>\n",
              "      <td>0</td>\n",
              "      <td>0</td>\n",
              "      <td>0</td>\n",
              "      <td>0</td>\n",
              "      <td>0</td>\n",
              "      <td>0</td>\n",
              "      <td>0</td>\n",
              "      <td>0</td>\n",
              "      <td>0</td>\n",
              "      <td>0</td>\n",
              "      <td>0</td>\n",
              "      <td>0</td>\n",
              "      <td>0</td>\n",
              "      <td>0</td>\n",
              "      <td>0</td>\n",
              "      <td>0</td>\n",
              "      <td>0</td>\n",
              "      <td>0</td>\n",
              "      <td>0</td>\n",
              "      <td>0</td>\n",
              "      <td>0</td>\n",
              "      <td>0</td>\n",
              "      <td>0</td>\n",
              "      <td>0</td>\n",
              "      <td>0</td>\n",
              "      <td>0</td>\n",
              "      <td>0</td>\n",
              "      <td>0</td>\n",
              "      <td>0</td>\n",
              "      <td>0</td>\n",
              "      <td>0</td>\n",
              "      <td>0</td>\n",
              "      <td>0</td>\n",
              "      <td>0</td>\n",
              "      <td>0</td>\n",
              "      <td>0</td>\n",
              "      <td>0</td>\n",
              "      <td>0</td>\n",
              "      <td>0</td>\n",
              "      <td>...</td>\n",
              "      <td>0</td>\n",
              "      <td>0</td>\n",
              "      <td>0</td>\n",
              "      <td>0</td>\n",
              "      <td>0</td>\n",
              "      <td>0</td>\n",
              "      <td>0</td>\n",
              "      <td>0</td>\n",
              "      <td>0</td>\n",
              "      <td>0</td>\n",
              "      <td>0</td>\n",
              "      <td>0</td>\n",
              "      <td>0</td>\n",
              "      <td>0</td>\n",
              "      <td>0</td>\n",
              "      <td>0</td>\n",
              "      <td>0</td>\n",
              "      <td>0</td>\n",
              "      <td>0</td>\n",
              "      <td>0</td>\n",
              "      <td>0</td>\n",
              "      <td>0</td>\n",
              "      <td>0</td>\n",
              "      <td>0</td>\n",
              "      <td>0</td>\n",
              "      <td>0</td>\n",
              "      <td>0</td>\n",
              "      <td>0</td>\n",
              "      <td>0</td>\n",
              "      <td>0</td>\n",
              "      <td>0</td>\n",
              "      <td>0</td>\n",
              "      <td>0</td>\n",
              "      <td>0</td>\n",
              "      <td>0</td>\n",
              "      <td>0</td>\n",
              "      <td>0</td>\n",
              "      <td>0</td>\n",
              "      <td>0</td>\n",
              "      <td>0</td>\n",
              "    </tr>\n",
              "    <tr>\n",
              "      <th>3</th>\n",
              "      <td>0</td>\n",
              "      <td>0</td>\n",
              "      <td>0</td>\n",
              "      <td>0</td>\n",
              "      <td>0</td>\n",
              "      <td>0</td>\n",
              "      <td>0</td>\n",
              "      <td>0</td>\n",
              "      <td>0</td>\n",
              "      <td>0</td>\n",
              "      <td>0</td>\n",
              "      <td>0</td>\n",
              "      <td>0</td>\n",
              "      <td>0</td>\n",
              "      <td>0</td>\n",
              "      <td>0</td>\n",
              "      <td>0</td>\n",
              "      <td>0</td>\n",
              "      <td>0</td>\n",
              "      <td>0</td>\n",
              "      <td>0</td>\n",
              "      <td>0</td>\n",
              "      <td>0</td>\n",
              "      <td>0</td>\n",
              "      <td>0</td>\n",
              "      <td>0</td>\n",
              "      <td>0</td>\n",
              "      <td>0</td>\n",
              "      <td>0</td>\n",
              "      <td>0</td>\n",
              "      <td>0</td>\n",
              "      <td>0</td>\n",
              "      <td>0</td>\n",
              "      <td>0</td>\n",
              "      <td>0</td>\n",
              "      <td>0</td>\n",
              "      <td>0</td>\n",
              "      <td>0</td>\n",
              "      <td>0</td>\n",
              "      <td>0</td>\n",
              "      <td>...</td>\n",
              "      <td>0</td>\n",
              "      <td>0</td>\n",
              "      <td>0</td>\n",
              "      <td>0</td>\n",
              "      <td>0</td>\n",
              "      <td>0</td>\n",
              "      <td>0</td>\n",
              "      <td>0</td>\n",
              "      <td>0</td>\n",
              "      <td>0</td>\n",
              "      <td>0</td>\n",
              "      <td>0</td>\n",
              "      <td>0</td>\n",
              "      <td>0</td>\n",
              "      <td>0</td>\n",
              "      <td>0</td>\n",
              "      <td>0</td>\n",
              "      <td>0</td>\n",
              "      <td>0</td>\n",
              "      <td>0</td>\n",
              "      <td>0</td>\n",
              "      <td>0</td>\n",
              "      <td>0</td>\n",
              "      <td>0</td>\n",
              "      <td>0</td>\n",
              "      <td>0</td>\n",
              "      <td>0</td>\n",
              "      <td>0</td>\n",
              "      <td>0</td>\n",
              "      <td>0</td>\n",
              "      <td>0</td>\n",
              "      <td>0</td>\n",
              "      <td>0</td>\n",
              "      <td>0</td>\n",
              "      <td>0</td>\n",
              "      <td>0</td>\n",
              "      <td>0</td>\n",
              "      <td>0</td>\n",
              "      <td>0</td>\n",
              "      <td>0</td>\n",
              "    </tr>\n",
              "    <tr>\n",
              "      <th>4</th>\n",
              "      <td>0</td>\n",
              "      <td>0</td>\n",
              "      <td>0</td>\n",
              "      <td>0</td>\n",
              "      <td>0</td>\n",
              "      <td>0</td>\n",
              "      <td>0</td>\n",
              "      <td>0</td>\n",
              "      <td>0</td>\n",
              "      <td>0</td>\n",
              "      <td>0</td>\n",
              "      <td>0</td>\n",
              "      <td>0</td>\n",
              "      <td>0</td>\n",
              "      <td>0</td>\n",
              "      <td>0</td>\n",
              "      <td>0</td>\n",
              "      <td>0</td>\n",
              "      <td>0</td>\n",
              "      <td>0</td>\n",
              "      <td>0</td>\n",
              "      <td>0</td>\n",
              "      <td>0</td>\n",
              "      <td>0</td>\n",
              "      <td>0</td>\n",
              "      <td>0</td>\n",
              "      <td>0</td>\n",
              "      <td>0</td>\n",
              "      <td>0</td>\n",
              "      <td>0</td>\n",
              "      <td>0</td>\n",
              "      <td>0</td>\n",
              "      <td>0</td>\n",
              "      <td>0</td>\n",
              "      <td>0</td>\n",
              "      <td>0</td>\n",
              "      <td>0</td>\n",
              "      <td>0</td>\n",
              "      <td>0</td>\n",
              "      <td>0</td>\n",
              "      <td>...</td>\n",
              "      <td>0</td>\n",
              "      <td>0</td>\n",
              "      <td>0</td>\n",
              "      <td>0</td>\n",
              "      <td>0</td>\n",
              "      <td>0</td>\n",
              "      <td>0</td>\n",
              "      <td>0</td>\n",
              "      <td>0</td>\n",
              "      <td>0</td>\n",
              "      <td>0</td>\n",
              "      <td>0</td>\n",
              "      <td>0</td>\n",
              "      <td>0</td>\n",
              "      <td>0</td>\n",
              "      <td>0</td>\n",
              "      <td>0</td>\n",
              "      <td>0</td>\n",
              "      <td>0</td>\n",
              "      <td>0</td>\n",
              "      <td>0</td>\n",
              "      <td>0</td>\n",
              "      <td>0</td>\n",
              "      <td>0</td>\n",
              "      <td>0</td>\n",
              "      <td>0</td>\n",
              "      <td>0</td>\n",
              "      <td>0</td>\n",
              "      <td>0</td>\n",
              "      <td>0</td>\n",
              "      <td>0</td>\n",
              "      <td>0</td>\n",
              "      <td>0</td>\n",
              "      <td>0</td>\n",
              "      <td>0</td>\n",
              "      <td>0</td>\n",
              "      <td>0</td>\n",
              "      <td>0</td>\n",
              "      <td>0</td>\n",
              "      <td>0</td>\n",
              "    </tr>\n",
              "  </tbody>\n",
              "</table>\n",
              "<p>5 rows × 9705 columns</p>\n",
              "</div>"
            ],
            "text/plain": [
              "   0128  06  0640  07  0800  090308  ...  zombies  zomgwtfninja  zone  zoo  zq  zt\n",
              "0     0   0     0   0     0       0  ...        0             0     0    0   0   0\n",
              "1     0   0     0   0     0       0  ...        0             0     0    0   0   0\n",
              "2     0   0     0   0     0       0  ...        0             0     0    0   0   0\n",
              "3     0   0     0   0     0       0  ...        0             0     0    0   0   0\n",
              "4     0   0     0   0     0       0  ...        0             0     0    0   0   0\n",
              "\n",
              "[5 rows x 9705 columns]"
            ]
          },
          "metadata": {},
          "execution_count": 254
        }
      ]
    },
    {
      "cell_type": "markdown",
      "source": [
        "### **ML Algorithms**"
      ],
      "metadata": {
        "id": "P5CnJGomZGP9"
      }
    },
    {
      "cell_type": "code",
      "source": [
        "from sklearn.linear_model import SGDClassifier\n",
        "from sklearn.linear_model import LogisticRegression\n",
        "from sklearn.linear_model import LogisticRegressionCV\n",
        "from sklearn.svm import LinearSVC\n",
        "from sklearn.ensemble import RandomForestClassifier\n",
        "from sklearn.model_selection import train_test_split\n",
        "from sklearn.metrics import confusion_matrix, accuracy_score\n",
        "from sklearn.preprocessing import MinMaxScaler"
      ],
      "metadata": {
        "id": "42yIM2DqZOpL"
      },
      "execution_count": null,
      "outputs": []
    },
    {
      "cell_type": "code",
      "source": [
        "sgd = SGDClassifier(n_jobs=-1, random_state=42, max_iter=200)\n",
        "lgr = LogisticRegression(random_state=42, max_iter=200)\n",
        "lgrcv = LogisticRegressionCV(cv=2, random_state=42, max_iter=1000)\n",
        "svm = LinearSVC(random_state=42, max_iter=200)\n",
        "rfc = RandomForestClassifier( random_state=42, n_jobs=-1, n_estimators=200)"
      ],
      "metadata": {
        "id": "iZwIjU2RaOb7"
      },
      "execution_count": null,
      "outputs": []
    },
    {
      "cell_type": "code",
      "source": [
        "clf = {'SGD': sgd, 'LGR': lgr, 'LGR-CV' : lgrcv, 'SVM' : svm, 'RFC' : rfc}\n",
        "clf.keys()"
      ],
      "metadata": {
        "colab": {
          "base_uri": "https://localhost:8080/"
        },
        "id": "T6vcitmkbO14",
        "outputId": "d0b09754-80d1-4c9a-920d-78e381f13874"
      },
      "execution_count": null,
      "outputs": [
        {
          "output_type": "execute_result",
          "data": {
            "text/plain": [
              "dict_keys(['SGD', 'LGR', 'LGR-CV', 'SVM', 'RFC'])"
            ]
          },
          "metadata": {},
          "execution_count": 260
        }
      ]
    },
    {
      "cell_type": "code",
      "source": [
        "def classify(x, y):\n",
        "  scaler = MinMaxScaler(feature_range = (0,1))\n",
        "  x = scaler.fit_transform(x)\n",
        "\n",
        "  x_train, x_test, y_train, y_test = train_test_split(x, y, test_size = 0.2, random_state=42, stratify = y  )\n",
        "  for key in clf.keys():\n",
        "    clf[key].fit(x_train, y_train)\n",
        "    y_pred = clf[key].predict(x_test)\n",
        "    ac = accuracy_score(y_test, y_pred)\n",
        "    print(key, \"---->\", ac)"
      ],
      "metadata": {
        "id": "PrGS9N3ccBEI"
      },
      "execution_count": null,
      "outputs": []
    },
    {
      "cell_type": "code",
      "source": [
        "%%time\n",
        "classify(dfr_bog, y)"
      ],
      "metadata": {
        "colab": {
          "base_uri": "https://localhost:8080/"
        },
        "id": "t96LuztndxCq",
        "outputId": "d6289145-22e5-469f-f367-745ab6ff3d4e"
      },
      "execution_count": null,
      "outputs": [
        {
          "output_type": "stream",
          "name": "stdout",
          "text": [
            "SGD ----> 0.65875\n",
            "LGR ----> 0.68875\n",
            "LGR-CV ----> 0.69\n",
            "SVM ----> 0.6775\n",
            "RFC ----> 0.6775\n",
            "CPU times: user 2min 59s, sys: 4.85 s, total: 3min 3s\n",
            "Wall time: 1min 44s\n"
          ]
        }
      ]
    }
  ]
}